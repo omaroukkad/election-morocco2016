{
 "cells": [
  {
   "cell_type": "code",
   "execution_count": 2,
   "id": "af0b24c9",
   "metadata": {},
   "outputs": [],
   "source": [
    "library(\"dplyr\")"
   ]
  },
  {
   "cell_type": "code",
   "execution_count": 3,
   "id": "040e7eaf",
   "metadata": {},
   "outputs": [],
   "source": [
    "elections2016<-read.csv(\"Desktop/elections/elections2016.csv\")\n"
   ]
  },
  {
   "cell_type": "code",
   "execution_count": null,
   "id": "2eb0ddaf",
   "metadata": {},
   "outputs": [],
   "source": []
  },
  {
   "cell_type": "code",
   "execution_count": null,
   "id": "8416cdfb",
   "metadata": {},
   "outputs": [],
   "source": []
  },
  {
   "cell_type": "code",
   "execution_count": null,
   "id": "e9fb7518",
   "metadata": {},
   "outputs": [],
   "source": []
  },
  {
   "cell_type": "code",
   "execution_count": 4,
   "id": "48aed221",
   "metadata": {},
   "outputs": [
    {
     "data": {
      "text/html": [
       "<table>\n",
       "<thead><tr><th scope=col>idRegion</th><th scope=col>idWilaya</th><th scope=col>idPrefProv</th><th scope=col>idSousPref</th><th scope=col>idCirconscription</th><th scope=col>region</th><th scope=col>wilaya</th><th scope=col>prefProv</th><th scope=col>sousPref</th><th scope=col>circonscription</th><th scope=col>...</th><th scope=col>PRD</th><th scope=col>PRV</th><th scope=col>PSD</th><th scope=col>PT</th><th scope=col>PUD</th><th scope=col>RNI</th><th scope=col>SAP</th><th scope=col>UC</th><th scope=col>UMD</th><th scope=col>USFP</th></tr></thead>\n",
       "<tbody>\n",
       "\t<tr><td>627                   </td><td>23                    </td><td>271                   </td><td>NA                    </td><td>547                   </td><td>Beni-Mellal - Khénifra</td><td>Beni-Mellal - Khénifra</td><td>Azilal                </td><td>                      </td><td>Azilal - Demnate      </td><td>...                   </td><td>1465                  </td><td>  NA                  </td><td> NA                   </td><td> NA                   </td><td>7912                  </td><td>4041                  </td><td>NA                    </td><td>  NA                  </td><td>NA                    </td><td>2559                  </td></tr>\n",
       "\t<tr><td>627                   </td><td>23                    </td><td>271                   </td><td>NA                    </td><td>547                   </td><td>Beni-Mellal - Khénifra</td><td>Beni-Mellal - Khénifra</td><td>Azilal                </td><td>                      </td><td>Azilal - Demnate      </td><td>...                   </td><td>  NA                  </td><td>  14                  </td><td> 43                   </td><td> 14                   </td><td>7091                  </td><td>3934                  </td><td>NA                    </td><td>  23                  </td><td>23                    </td><td>2615                  </td></tr>\n",
       "\t<tr><td>627                   </td><td>23                    </td><td>271                   </td><td>NA                    </td><td>546                   </td><td>Beni-Mellal - Khénifra</td><td>Beni-Mellal - Khénifra</td><td>Azilal                </td><td>                      </td><td>Bzou - Ouaouizaght    </td><td>...                   </td><td> 343                  </td><td>  NA                  </td><td> NA                   </td><td>109                   </td><td>  NA                  </td><td>8199                  </td><td>NA                    </td><td>7530                  </td><td>NA                    </td><td>3773                  </td></tr>\n",
       "\t<tr><td>627                   </td><td>23                    </td><td>271                   </td><td>NA                    </td><td>546                   </td><td>Beni-Mellal - Khénifra</td><td>Beni-Mellal - Khénifra</td><td>Azilal                </td><td>                      </td><td>Bzou - Ouaouizaght    </td><td>...                   </td><td>  NA                  </td><td>   6                  </td><td> 23                   </td><td>171                   </td><td> 162                  </td><td>7856                  </td><td>NA                    </td><td>7518                  </td><td>26                    </td><td>3516                  </td></tr>\n",
       "\t<tr><td>627                   </td><td>23                    </td><td>270                   </td><td>NA                    </td><td>545                   </td><td>Beni-Mellal - Khénifra</td><td>Beni-Mellal - Khénifra</td><td>Beni-Mellal           </td><td>                      </td><td>Béni-Mellal           </td><td>...                   </td><td>1478                  </td><td>  NA                  </td><td> NA                   </td><td> NA                   </td><td>  NA                  </td><td>2687                  </td><td>NA                    </td><td>3202                  </td><td>NA                    </td><td>6965                  </td></tr>\n",
       "\t<tr><td>627                   </td><td>23                    </td><td>270                   </td><td>NA                    </td><td>545                   </td><td>Beni-Mellal - Khénifra</td><td>Beni-Mellal - Khénifra</td><td>Beni-Mellal           </td><td>                      </td><td>Béni-Mellal           </td><td>...                   </td><td>  NA                  </td><td>1452                  </td><td>113                   </td><td> 11                   </td><td>  51                  </td><td>2418                  </td><td>NA                    </td><td>3253                  </td><td>31                    </td><td>6813                  </td></tr>\n",
       "</tbody>\n",
       "</table>\n"
      ],
      "text/latex": [
       "\\begin{tabular}{r|lllllllllllllllllllllllllllllllllllllllllll}\n",
       " idRegion & idWilaya & idPrefProv & idSousPref & idCirconscription & region & wilaya & prefProv & sousPref & circonscription & ... & PRD & PRV & PSD & PT & PUD & RNI & SAP & UC & UMD & USFP\\\\\n",
       "\\hline\n",
       "\t 627                    & 23                     & 271                    & NA                     & 547                    & Beni-Mellal - Khénifra & Beni-Mellal - Khénifra & Azilal                 &                        & Azilal - Demnate       & ...                    & 1465                   &   NA                   &  NA                    &  NA                    & 7912                   & 4041                   & NA                     &   NA                   & NA                     & 2559                  \\\\\n",
       "\t 627                    & 23                     & 271                    & NA                     & 547                    & Beni-Mellal - Khénifra & Beni-Mellal - Khénifra & Azilal                 &                        & Azilal - Demnate       & ...                    &   NA                   &   14                   &  43                    &  14                    & 7091                   & 3934                   & NA                     &   23                   & 23                     & 2615                  \\\\\n",
       "\t 627                    & 23                     & 271                    & NA                     & 546                    & Beni-Mellal - Khénifra & Beni-Mellal - Khénifra & Azilal                 &                        & Bzou - Ouaouizaght     & ...                    &  343                   &   NA                   &  NA                    & 109                    &   NA                   & 8199                   & NA                     & 7530                   & NA                     & 3773                  \\\\\n",
       "\t 627                    & 23                     & 271                    & NA                     & 546                    & Beni-Mellal - Khénifra & Beni-Mellal - Khénifra & Azilal                 &                        & Bzou - Ouaouizaght     & ...                    &   NA                   &    6                   &  23                    & 171                    &  162                   & 7856                   & NA                     & 7518                   & 26                     & 3516                  \\\\\n",
       "\t 627                    & 23                     & 270                    & NA                     & 545                    & Beni-Mellal - Khénifra & Beni-Mellal - Khénifra & Beni-Mellal            &                        & Béni-Mellal            & ...                    & 1478                   &   NA                   &  NA                    &  NA                    &   NA                   & 2687                   & NA                     & 3202                   & NA                     & 6965                  \\\\\n",
       "\t 627                    & 23                     & 270                    & NA                     & 545                    & Beni-Mellal - Khénifra & Beni-Mellal - Khénifra & Beni-Mellal            &                        & Béni-Mellal            & ...                    &   NA                   & 1452                   & 113                    &  11                    &   51                   & 2418                   & NA                     & 3253                   & 31                     & 6813                  \\\\\n",
       "\\end{tabular}\n"
      ],
      "text/markdown": [
       "\n",
       "| idRegion | idWilaya | idPrefProv | idSousPref | idCirconscription | region | wilaya | prefProv | sousPref | circonscription | ... | PRD | PRV | PSD | PT | PUD | RNI | SAP | UC | UMD | USFP |\n",
       "|---|---|---|---|---|---|---|---|---|---|---|---|---|---|---|---|---|---|---|---|---|\n",
       "| 627                    | 23                     | 271                    | NA                     | 547                    | Beni-Mellal - Khénifra | Beni-Mellal - Khénifra | Azilal                 |                        | Azilal - Demnate       | ...                    | 1465                   |   NA                   |  NA                    |  NA                    | 7912                   | 4041                   | NA                     |   NA                   | NA                     | 2559                   |\n",
       "| 627                    | 23                     | 271                    | NA                     | 547                    | Beni-Mellal - Khénifra | Beni-Mellal - Khénifra | Azilal                 |                        | Azilal - Demnate       | ...                    |   NA                   |   14                   |  43                    |  14                    | 7091                   | 3934                   | NA                     |   23                   | 23                     | 2615                   |\n",
       "| 627                    | 23                     | 271                    | NA                     | 546                    | Beni-Mellal - Khénifra | Beni-Mellal - Khénifra | Azilal                 |                        | Bzou - Ouaouizaght     | ...                    |  343                   |   NA                   |  NA                    | 109                    |   NA                   | 8199                   | NA                     | 7530                   | NA                     | 3773                   |\n",
       "| 627                    | 23                     | 271                    | NA                     | 546                    | Beni-Mellal - Khénifra | Beni-Mellal - Khénifra | Azilal                 |                        | Bzou - Ouaouizaght     | ...                    |   NA                   |    6                   |  23                    | 171                    |  162                   | 7856                   | NA                     | 7518                   | 26                     | 3516                   |\n",
       "| 627                    | 23                     | 270                    | NA                     | 545                    | Beni-Mellal - Khénifra | Beni-Mellal - Khénifra | Beni-Mellal            |                        | Béni-Mellal            | ...                    | 1478                   |   NA                   |  NA                    |  NA                    |   NA                   | 2687                   | NA                     | 3202                   | NA                     | 6965                   |\n",
       "| 627                    | 23                     | 270                    | NA                     | 545                    | Beni-Mellal - Khénifra | Beni-Mellal - Khénifra | Beni-Mellal            |                        | Béni-Mellal            | ...                    |   NA                   | 1452                   | 113                    |  11                    |   51                   | 2418                   | NA                     | 3253                   | 31                     | 6813                   |\n",
       "\n"
      ],
      "text/plain": [
       "  idRegion idWilaya idPrefProv idSousPref idCirconscription\n",
       "1 627      23       271        NA         547              \n",
       "2 627      23       271        NA         547              \n",
       "3 627      23       271        NA         546              \n",
       "4 627      23       271        NA         546              \n",
       "5 627      23       270        NA         545              \n",
       "6 627      23       270        NA         545              \n",
       "  region                 wilaya                 prefProv    sousPref\n",
       "1 Beni-Mellal - Khénifra Beni-Mellal - Khénifra Azilal              \n",
       "2 Beni-Mellal - Khénifra Beni-Mellal - Khénifra Azilal              \n",
       "3 Beni-Mellal - Khénifra Beni-Mellal - Khénifra Azilal              \n",
       "4 Beni-Mellal - Khénifra Beni-Mellal - Khénifra Azilal              \n",
       "5 Beni-Mellal - Khénifra Beni-Mellal - Khénifra Beni-Mellal         \n",
       "6 Beni-Mellal - Khénifra Beni-Mellal - Khénifra Beni-Mellal         \n",
       "  circonscription    ... PRD  PRV  PSD PT  PUD  RNI  SAP UC   UMD USFP\n",
       "1 Azilal - Demnate   ... 1465   NA  NA  NA 7912 4041 NA    NA NA  2559\n",
       "2 Azilal - Demnate   ...   NA   14  43  14 7091 3934 NA    23 23  2615\n",
       "3 Bzou - Ouaouizaght ...  343   NA  NA 109   NA 8199 NA  7530 NA  3773\n",
       "4 Bzou - Ouaouizaght ...   NA    6  23 171  162 7856 NA  7518 26  3516\n",
       "5 Béni-Mellal        ... 1478   NA  NA  NA   NA 2687 NA  3202 NA  6965\n",
       "6 Béni-Mellal        ...   NA 1452 113  11   51 2418 NA  3253 31  6813"
      ]
     },
     "metadata": {},
     "output_type": "display_data"
    }
   ],
   "source": [
    "head(elections2016)"
   ]
  },
  {
   "cell_type": "code",
   "execution_count": null,
   "id": "fcf961f0",
   "metadata": {},
   "outputs": [],
   "source": []
  },
  {
   "cell_type": "code",
   "execution_count": null,
   "id": "dec6a7b9",
   "metadata": {},
   "outputs": [],
   "source": []
  },
  {
   "cell_type": "code",
   "execution_count": null,
   "id": "965e5825",
   "metadata": {},
   "outputs": [],
   "source": []
  },
  {
   "cell_type": "code",
   "execution_count": 5,
   "id": "19220a62",
   "metadata": {},
   "outputs": [
    {
     "data": {
      "text/plain": [
       "    idRegion        idWilaya       idPrefProv      idSousPref   \n",
       " Min.   :623.0   Min.   :19.00   Min.   :241.0   Min.   :246.0  \n",
       " 1st Qu.:625.0   1st Qu.:21.00   1st Qu.:260.8   1st Qu.:247.8  \n",
       " Median :628.0   Median :24.00   Median :280.5   Median :249.5  \n",
       " Mean   :627.5   Mean   :23.52   Mean   :280.2   Mean   :249.5  \n",
       " 3rd Qu.:629.0   3rd Qu.:25.00   3rd Qu.:300.2   3rd Qu.:251.2  \n",
       " Max.   :634.0   Max.   :30.00   Max.   :323.0   Max.   :253.0  \n",
       "                                                 NA's   :168    \n",
       " idCirconscription                           region  \n",
       " Min.   :512.0     Casablanca - Settat          :32  \n",
       " 1st Qu.:534.8     Fès - Meknès                 :22  \n",
       " Median :557.5     Rabat - Salé - Kénitra       :22  \n",
       " Mean   :557.5     Marrakech - Safi             :20  \n",
       " 3rd Qu.:580.2     Oriental                     :16  \n",
       " Max.   :603.0     Tanger - Tétouan - Al Hoceima:16  \n",
       "                   (Other)                      :56  \n",
       "                           wilaya         prefProv  \n",
       " Casablanca - Settat          :32   Casablanca: 16  \n",
       " Fès - Meknès                 :22   Marrakech :  6  \n",
       " Rabat - Salé - Kénitra       :22   Azilal    :  4  \n",
       " Marrakech - Safi             :20   Fès       :  4  \n",
       " Oriental                     :16   Khémisset :  4  \n",
       " Tanger - Tétouan - Al Hoceima:16   Kénitra   :  4  \n",
       " (Other)                      :56   (Other)   :146  \n",
       "                      sousPref                 circonscription     typeListe \n",
       "                          :168   Agadir - Ida-ou-Tanane:  2    locale   :92  \n",
       " Al-Fida - Mers-Sultan    :  2   Al-Fida - Mers-Sultan :  2    nationale:92  \n",
       " Aïn-Chock                :  2   Al-Haouz              :  2                  \n",
       " Aïn-Sebaâ - Hay Mohammadi:  2   Al-Hoceïma            :  2                  \n",
       " Ben-M'sick               :  2   Aousserd              :  2                  \n",
       " Casablanca - Anfa        :  2   Assa-Zag              :  2                  \n",
       " (Other)                  :  6   (Other)               :172                  \n",
       "    nSieges      nInscrits      txParticipation  pctNuls       \n",
       " Min.   :2.000   Mode:logical   Min.   :0.2561   Mode:logical  \n",
       " 1st Qu.:3.000   NA's:184       1st Qu.:0.3927   NA's:184      \n",
       " Median :3.000                  Median :0.4419                 \n",
       " Mean   :3.315                  Mean   :0.4506                 \n",
       " 3rd Qu.:4.000                  3rd Qu.:0.5098                 \n",
       " Max.   :6.000                  Max.   :0.7671                 \n",
       " NA's   :92                                                    \n",
       "      AHD              FFD              FGD            MDS         \n",
       " Min.   :   0.0   Min.   :   2.0   Min.   :   6   Min.   :    1.0  \n",
       " 1st Qu.:  66.0   1st Qu.: 107.0   1st Qu.: 556   1st Qu.:  109.2  \n",
       " Median : 157.0   Median : 265.0   Median :1178   Median :  200.0  \n",
       " Mean   : 715.9   Mean   : 629.2   Mean   :1672   Mean   :  962.7  \n",
       " 3rd Qu.: 469.0   3rd Qu.: 591.0   3rd Qu.:2484   3rd Qu.:  499.0  \n",
       " Max.   :9317.0   Max.   :5780.0   Max.   :8387   Max.   :18163.0  \n",
       " NA's   :43       NA's   :23       NA's   :2      NA's   :26       \n",
       "       MP               NEO               PAM             PAN        \n",
       " Min.   :    2.0   Min.   :   3.00   Min.   :  179   Min.   :   0.0  \n",
       " 1st Qu.:  431.2   1st Qu.:  39.25   1st Qu.: 7962   1st Qu.:  12.0  \n",
       " Median : 3747.5   Median : 138.50   Median :11388   Median :  29.0  \n",
       " Mean   : 4742.2   Mean   : 270.80   Mean   :13235   Mean   : 219.3  \n",
       " 3rd Qu.: 7896.8   3rd Qu.: 263.00   3rd Qu.:16304   3rd Qu.:  84.0  \n",
       " Max.   :18106.0   Max.   :3955.00   Max.   :41498   Max.   :7805.0  \n",
       " NA's   :14        NA's   :50        NA's   :1       NA's   :75      \n",
       "      PCS               PDI              PDN                PE        \n",
       " Min.   :   1.00   Min.   :   1.0   Min.   :   4.00   Min.   :   0.0  \n",
       " 1st Qu.:  15.75   1st Qu.:  19.5   1st Qu.:  24.75   1st Qu.:  19.0  \n",
       " Median :  36.50   Median :  53.0   Median :  84.00   Median :  59.0  \n",
       " Mean   : 109.44   Mean   : 215.6   Mean   : 213.12   Mean   : 139.4  \n",
       " 3rd Qu.: 114.25   3rd Qu.: 137.5   3rd Qu.: 102.75   3rd Qu.: 149.0  \n",
       " Max.   :1266.00   Max.   :6129.0   Max.   :3181.00   Max.   :1535.0  \n",
       " NA's   :64        NA's   :61       NA's   :160       NA's   :63      \n",
       "      PEDD              PGV               PI             PJD       \n",
       " Min.   :   0.00   Min.   :   7.0   Min.   :  114   Min.   :  204  \n",
       " 1st Qu.:  22.75   1st Qu.:  58.0   1st Qu.: 2056   1st Qu.: 7862  \n",
       " Median :  75.50   Median :  86.5   Median : 4988   Median :14034  \n",
       " Mean   : 536.46   Mean   : 418.4   Mean   : 6746   Mean   :17340  \n",
       " 3rd Qu.: 270.00   3rd Qu.: 220.2   3rd Qu.: 9400   3rd Qu.:25700  \n",
       " Max.   :5761.00   Max.   :8577.0   Max.   :27153   Max.   :60686  \n",
       " NA's   :52        NA's   :152                                     \n",
       "      PLJS             PPS             PRD              PRV         \n",
       " Min.   :   1.0   Min.   :    7   Min.   :  16.0   Min.   :   0.00  \n",
       " 1st Qu.:  17.0   1st Qu.:  447   1st Qu.:  40.0   1st Qu.:  11.75  \n",
       " Median :  41.0   Median : 1554   Median :  86.0   Median :  30.00  \n",
       " Mean   : 224.1   Mean   : 3039   Mean   : 402.5   Mean   : 162.55  \n",
       " 3rd Qu.: 137.5   3rd Qu.: 4552   3rd Qu.: 204.0   3rd Qu.: 127.75  \n",
       " Max.   :7203.0   Max.   :19832   Max.   :4041.0   Max.   :2279.00  \n",
       " NA's   :70       NA's   :2       NA's   :143      NA's   :92       \n",
       "      PSD               PT               PUD               RNI       \n",
       " Min.   :  0.00   Min.   :   0.00   Min.   :   1.00   Min.   :    5  \n",
       " 1st Qu.: 19.00   1st Qu.:  20.00   1st Qu.:  24.75   1st Qu.: 2666  \n",
       " Median : 43.00   Median :  39.50   Median :  57.00   Median : 5906  \n",
       " Mean   : 73.48   Mean   :  93.87   Mean   : 377.71   Mean   : 6267  \n",
       " 3rd Qu.: 79.50   3rd Qu.:  90.25   3rd Qu.: 115.50   3rd Qu.: 9286  \n",
       " Max.   :592.00   Max.   :1171.00   Max.   :7912.00   Max.   :29587  \n",
       " NA's   :73       NA's   :76        NA's   :68        NA's   :8      \n",
       "      SAP             UC               UMD               USFP        \n",
       " Min.   :2988   Min.   :    3.0   Min.   :   1.00   Min.   :   16.0  \n",
       " 1st Qu.:3908   1st Qu.:  287.2   1st Qu.:  10.00   1st Qu.:  729.5  \n",
       " Median :4828   Median : 1173.5   Median :  19.00   Median : 2443.0  \n",
       " Mean   :4828   Mean   : 3247.2   Mean   : 111.97   Mean   : 3973.9  \n",
       " 3rd Qu.:5748   3rd Qu.: 5632.5   3rd Qu.:  57.25   3rd Qu.: 6172.5  \n",
       " Max.   :6668   Max.   :12536.0   Max.   :2023.00   Max.   :17233.0  \n",
       " NA's   :182    NA's   :20        NA's   :80        NA's   :1        "
      ]
     },
     "metadata": {},
     "output_type": "display_data"
    }
   ],
   "source": [
    "summary(elections2016)"
   ]
  },
  {
   "cell_type": "code",
   "execution_count": null,
   "id": "526a38d6",
   "metadata": {},
   "outputs": [],
   "source": []
  },
  {
   "cell_type": "markdown",
   "id": "1bcaa76f",
   "metadata": {},
   "source": [
    "تعويض القيم المفقودة بصفر"
   ]
  },
  {
   "cell_type": "code",
   "execution_count": 6,
   "id": "8e6c963e",
   "metadata": {},
   "outputs": [],
   "source": [
    "elections2016[is.na(elections2016)] <- 0\n"
   ]
  },
  {
   "cell_type": "code",
   "execution_count": null,
   "id": "9c98752a",
   "metadata": {},
   "outputs": [],
   "source": []
  },
  {
   "cell_type": "code",
   "execution_count": null,
   "id": "35165b02",
   "metadata": {},
   "outputs": [],
   "source": [
    "\n",
    "\n"
   ]
  },
  {
   "cell_type": "code",
   "execution_count": null,
   "id": "70e87fa9",
   "metadata": {},
   "outputs": [],
   "source": []
  },
  {
   "cell_type": "code",
   "execution_count": 7,
   "id": "56a8273f",
   "metadata": {},
   "outputs": [
    {
     "data": {
      "text/html": [
       "<table>\n",
       "<thead><tr><th scope=col>idRegion</th><th scope=col>idWilaya</th><th scope=col>idPrefProv</th><th scope=col>idSousPref</th><th scope=col>idCirconscription</th><th scope=col>region</th><th scope=col>wilaya</th><th scope=col>prefProv</th><th scope=col>sousPref</th><th scope=col>circonscription</th><th scope=col>...</th><th scope=col>PRD</th><th scope=col>PRV</th><th scope=col>PSD</th><th scope=col>PT</th><th scope=col>PUD</th><th scope=col>RNI</th><th scope=col>SAP</th><th scope=col>UC</th><th scope=col>UMD</th><th scope=col>USFP</th></tr></thead>\n",
       "<tbody>\n",
       "\t<tr><td>627                   </td><td>23                    </td><td>271                   </td><td>0                     </td><td>547                   </td><td>Beni-Mellal - Khénifra</td><td>Beni-Mellal - Khénifra</td><td>Azilal                </td><td>                      </td><td>Azilal - Demnate      </td><td>...                   </td><td>1465                  </td><td>   0                  </td><td>  0                   </td><td>  0                   </td><td>7912                  </td><td>4041                  </td><td>0                     </td><td>   0                  </td><td> 0                    </td><td>2559                  </td></tr>\n",
       "\t<tr><td>627                   </td><td>23                    </td><td>271                   </td><td>0                     </td><td>547                   </td><td>Beni-Mellal - Khénifra</td><td>Beni-Mellal - Khénifra</td><td>Azilal                </td><td>                      </td><td>Azilal - Demnate      </td><td>...                   </td><td>   0                  </td><td>  14                  </td><td> 43                   </td><td> 14                   </td><td>7091                  </td><td>3934                  </td><td>0                     </td><td>  23                  </td><td>23                    </td><td>2615                  </td></tr>\n",
       "\t<tr><td>627                   </td><td>23                    </td><td>271                   </td><td>0                     </td><td>546                   </td><td>Beni-Mellal - Khénifra</td><td>Beni-Mellal - Khénifra</td><td>Azilal                </td><td>                      </td><td>Bzou - Ouaouizaght    </td><td>...                   </td><td> 343                  </td><td>   0                  </td><td>  0                   </td><td>109                   </td><td>   0                  </td><td>8199                  </td><td>0                     </td><td>7530                  </td><td> 0                    </td><td>3773                  </td></tr>\n",
       "\t<tr><td>627                   </td><td>23                    </td><td>271                   </td><td>0                     </td><td>546                   </td><td>Beni-Mellal - Khénifra</td><td>Beni-Mellal - Khénifra</td><td>Azilal                </td><td>                      </td><td>Bzou - Ouaouizaght    </td><td>...                   </td><td>   0                  </td><td>   6                  </td><td> 23                   </td><td>171                   </td><td> 162                  </td><td>7856                  </td><td>0                     </td><td>7518                  </td><td>26                    </td><td>3516                  </td></tr>\n",
       "\t<tr><td>627                   </td><td>23                    </td><td>270                   </td><td>0                     </td><td>545                   </td><td>Beni-Mellal - Khénifra</td><td>Beni-Mellal - Khénifra</td><td>Beni-Mellal           </td><td>                      </td><td>Béni-Mellal           </td><td>...                   </td><td>1478                  </td><td>   0                  </td><td>  0                   </td><td>  0                   </td><td>   0                  </td><td>2687                  </td><td>0                     </td><td>3202                  </td><td> 0                    </td><td>6965                  </td></tr>\n",
       "\t<tr><td>627                   </td><td>23                    </td><td>270                   </td><td>0                     </td><td>545                   </td><td>Beni-Mellal - Khénifra</td><td>Beni-Mellal - Khénifra</td><td>Beni-Mellal           </td><td>                      </td><td>Béni-Mellal           </td><td>...                   </td><td>   0                  </td><td>1452                  </td><td>113                   </td><td> 11                   </td><td>  51                  </td><td>2418                  </td><td>0                     </td><td>3253                  </td><td>31                    </td><td>6813                  </td></tr>\n",
       "</tbody>\n",
       "</table>\n"
      ],
      "text/latex": [
       "\\begin{tabular}{r|lllllllllllllllllllllllllllllllllllllllllll}\n",
       " idRegion & idWilaya & idPrefProv & idSousPref & idCirconscription & region & wilaya & prefProv & sousPref & circonscription & ... & PRD & PRV & PSD & PT & PUD & RNI & SAP & UC & UMD & USFP\\\\\n",
       "\\hline\n",
       "\t 627                    & 23                     & 271                    & 0                      & 547                    & Beni-Mellal - Khénifra & Beni-Mellal - Khénifra & Azilal                 &                        & Azilal - Demnate       & ...                    & 1465                   &    0                   &   0                    &   0                    & 7912                   & 4041                   & 0                      &    0                   &  0                     & 2559                  \\\\\n",
       "\t 627                    & 23                     & 271                    & 0                      & 547                    & Beni-Mellal - Khénifra & Beni-Mellal - Khénifra & Azilal                 &                        & Azilal - Demnate       & ...                    &    0                   &   14                   &  43                    &  14                    & 7091                   & 3934                   & 0                      &   23                   & 23                     & 2615                  \\\\\n",
       "\t 627                    & 23                     & 271                    & 0                      & 546                    & Beni-Mellal - Khénifra & Beni-Mellal - Khénifra & Azilal                 &                        & Bzou - Ouaouizaght     & ...                    &  343                   &    0                   &   0                    & 109                    &    0                   & 8199                   & 0                      & 7530                   &  0                     & 3773                  \\\\\n",
       "\t 627                    & 23                     & 271                    & 0                      & 546                    & Beni-Mellal - Khénifra & Beni-Mellal - Khénifra & Azilal                 &                        & Bzou - Ouaouizaght     & ...                    &    0                   &    6                   &  23                    & 171                    &  162                   & 7856                   & 0                      & 7518                   & 26                     & 3516                  \\\\\n",
       "\t 627                    & 23                     & 270                    & 0                      & 545                    & Beni-Mellal - Khénifra & Beni-Mellal - Khénifra & Beni-Mellal            &                        & Béni-Mellal            & ...                    & 1478                   &    0                   &   0                    &   0                    &    0                   & 2687                   & 0                      & 3202                   &  0                     & 6965                  \\\\\n",
       "\t 627                    & 23                     & 270                    & 0                      & 545                    & Beni-Mellal - Khénifra & Beni-Mellal - Khénifra & Beni-Mellal            &                        & Béni-Mellal            & ...                    &    0                   & 1452                   & 113                    &  11                    &   51                   & 2418                   & 0                      & 3253                   & 31                     & 6813                  \\\\\n",
       "\\end{tabular}\n"
      ],
      "text/markdown": [
       "\n",
       "| idRegion | idWilaya | idPrefProv | idSousPref | idCirconscription | region | wilaya | prefProv | sousPref | circonscription | ... | PRD | PRV | PSD | PT | PUD | RNI | SAP | UC | UMD | USFP |\n",
       "|---|---|---|---|---|---|---|---|---|---|---|---|---|---|---|---|---|---|---|---|---|\n",
       "| 627                    | 23                     | 271                    | 0                      | 547                    | Beni-Mellal - Khénifra | Beni-Mellal - Khénifra | Azilal                 |                        | Azilal - Demnate       | ...                    | 1465                   |    0                   |   0                    |   0                    | 7912                   | 4041                   | 0                      |    0                   |  0                     | 2559                   |\n",
       "| 627                    | 23                     | 271                    | 0                      | 547                    | Beni-Mellal - Khénifra | Beni-Mellal - Khénifra | Azilal                 |                        | Azilal - Demnate       | ...                    |    0                   |   14                   |  43                    |  14                    | 7091                   | 3934                   | 0                      |   23                   | 23                     | 2615                   |\n",
       "| 627                    | 23                     | 271                    | 0                      | 546                    | Beni-Mellal - Khénifra | Beni-Mellal - Khénifra | Azilal                 |                        | Bzou - Ouaouizaght     | ...                    |  343                   |    0                   |   0                    | 109                    |    0                   | 8199                   | 0                      | 7530                   |  0                     | 3773                   |\n",
       "| 627                    | 23                     | 271                    | 0                      | 546                    | Beni-Mellal - Khénifra | Beni-Mellal - Khénifra | Azilal                 |                        | Bzou - Ouaouizaght     | ...                    |    0                   |    6                   |  23                    | 171                    |  162                   | 7856                   | 0                      | 7518                   | 26                     | 3516                   |\n",
       "| 627                    | 23                     | 270                    | 0                      | 545                    | Beni-Mellal - Khénifra | Beni-Mellal - Khénifra | Beni-Mellal            |                        | Béni-Mellal            | ...                    | 1478                   |    0                   |   0                    |   0                    |    0                   | 2687                   | 0                      | 3202                   |  0                     | 6965                   |\n",
       "| 627                    | 23                     | 270                    | 0                      | 545                    | Beni-Mellal - Khénifra | Beni-Mellal - Khénifra | Beni-Mellal            |                        | Béni-Mellal            | ...                    |    0                   | 1452                   | 113                    |  11                    |   51                   | 2418                   | 0                      | 3253                   | 31                     | 6813                   |\n",
       "\n"
      ],
      "text/plain": [
       "  idRegion idWilaya idPrefProv idSousPref idCirconscription\n",
       "1 627      23       271        0          547              \n",
       "2 627      23       271        0          547              \n",
       "3 627      23       271        0          546              \n",
       "4 627      23       271        0          546              \n",
       "5 627      23       270        0          545              \n",
       "6 627      23       270        0          545              \n",
       "  region                 wilaya                 prefProv    sousPref\n",
       "1 Beni-Mellal - Khénifra Beni-Mellal - Khénifra Azilal              \n",
       "2 Beni-Mellal - Khénifra Beni-Mellal - Khénifra Azilal              \n",
       "3 Beni-Mellal - Khénifra Beni-Mellal - Khénifra Azilal              \n",
       "4 Beni-Mellal - Khénifra Beni-Mellal - Khénifra Azilal              \n",
       "5 Beni-Mellal - Khénifra Beni-Mellal - Khénifra Beni-Mellal         \n",
       "6 Beni-Mellal - Khénifra Beni-Mellal - Khénifra Beni-Mellal         \n",
       "  circonscription    ... PRD  PRV  PSD PT  PUD  RNI  SAP UC   UMD USFP\n",
       "1 Azilal - Demnate   ... 1465    0   0   0 7912 4041 0      0  0  2559\n",
       "2 Azilal - Demnate   ...    0   14  43  14 7091 3934 0     23 23  2615\n",
       "3 Bzou - Ouaouizaght ...  343    0   0 109    0 8199 0   7530  0  3773\n",
       "4 Bzou - Ouaouizaght ...    0    6  23 171  162 7856 0   7518 26  3516\n",
       "5 Béni-Mellal        ... 1478    0   0   0    0 2687 0   3202  0  6965\n",
       "6 Béni-Mellal        ...    0 1452 113  11   51 2418 0   3253 31  6813"
      ]
     },
     "metadata": {},
     "output_type": "display_data"
    }
   ],
   "source": [
    "head(elections2016)\n",
    " "
   ]
  },
  {
   "cell_type": "code",
   "execution_count": null,
   "id": "08c7448e",
   "metadata": {},
   "outputs": [],
   "source": []
  },
  {
   "cell_type": "code",
   "execution_count": 8,
   "id": "3eee0e71",
   "metadata": {},
   "outputs": [
    {
     "data": {
      "text/html": [
       "<ol class=list-inline>\n",
       "\t<li>184</li>\n",
       "\t<li>43</li>\n",
       "</ol>\n"
      ],
      "text/latex": [
       "\\begin{enumerate*}\n",
       "\\item 184\n",
       "\\item 43\n",
       "\\end{enumerate*}\n"
      ],
      "text/markdown": [
       "1. 184\n",
       "2. 43\n",
       "\n",
       "\n"
      ],
      "text/plain": [
       "[1] 184  43"
      ]
     },
     "metadata": {},
     "output_type": "display_data"
    }
   ],
   "source": [
    "dim(elections2016)"
   ]
  },
  {
   "cell_type": "markdown",
   "id": "380d3567",
   "metadata": {},
   "source": [
    "ادخال عدد المقاعد بقسمة مجموع عدد الاصوات في دائرة على نسبة المشاركةناقص متوسط نسبة عدد الاصوات الملغبية 12%\n"
   ]
  },
  {
   "cell_type": "code",
   "execution_count": null,
   "id": "19d773b4",
   "metadata": {},
   "outputs": [],
   "source": []
  },
  {
   "cell_type": "code",
   "execution_count": null,
   "id": "8efbebd5",
   "metadata": {},
   "outputs": [],
   "source": []
  },
  {
   "cell_type": "code",
   "execution_count": 9,
   "id": "ca89eb46",
   "metadata": {},
   "outputs": [],
   "source": [
    "for (i in 1:184){elections2016$nInscrits[i]<-sum(elections2016[i,16:43])/(elections2016$txParticipation[i]-0.12)}"
   ]
  },
  {
   "cell_type": "code",
   "execution_count": 10,
   "id": "febdd2bb",
   "metadata": {},
   "outputs": [
    {
     "data": {
      "text/plain": [
       "   Min. 1st Qu.  Median    Mean 3rd Qu.    Max. \n",
       "   9152  144812  196728  211154  286640  449243 "
      ]
     },
     "metadata": {},
     "output_type": "display_data"
    }
   ],
   "source": [
    "summary(elections2016$nInscrits)"
   ]
  },
  {
   "cell_type": "code",
   "execution_count": null,
   "id": "d97e6d47",
   "metadata": {},
   "outputs": [],
   "source": []
  },
  {
   "cell_type": "code",
   "execution_count": null,
   "id": "46bf292e",
   "metadata": {},
   "outputs": [],
   "source": []
  },
  {
   "cell_type": "markdown",
   "id": "cd46d024",
   "metadata": {},
   "source": [
    "تقسم الى دوائر محلية ودوائر وطنية"
   ]
  },
  {
   "cell_type": "code",
   "execution_count": 11,
   "id": "7c38ad8c",
   "metadata": {},
   "outputs": [],
   "source": [
    "elections2016_local<-subset(elections2016, typeListe == \"locale\")"
   ]
  },
  {
   "cell_type": "code",
   "execution_count": 12,
   "id": "4867ff99",
   "metadata": {},
   "outputs": [],
   "source": [
    "elections2016_nationale<-subset(elections2016, typeListe == \"nationale\")"
   ]
  },
  {
   "cell_type": "code",
   "execution_count": 13,
   "id": "49412afa",
   "metadata": {},
   "outputs": [],
   "source": [
    "elections2016_local<-select(elections2016_local, -c(idRegion:sousPref))"
   ]
  },
  {
   "cell_type": "code",
   "execution_count": 14,
   "id": "59e81d95",
   "metadata": {
    "scrolled": false
   },
   "outputs": [
    {
     "data": {
      "text/html": [
       "<table>\n",
       "<thead><tr><th></th><th scope=col>circonscription</th><th scope=col>typeListe</th><th scope=col>nSieges</th><th scope=col>nInscrits</th><th scope=col>txParticipation</th><th scope=col>pctNuls</th><th scope=col>AHD</th><th scope=col>FFD</th><th scope=col>FGD</th><th scope=col>MDS</th><th scope=col>...</th><th scope=col>PRD</th><th scope=col>PRV</th><th scope=col>PSD</th><th scope=col>PT</th><th scope=col>PUD</th><th scope=col>RNI</th><th scope=col>SAP</th><th scope=col>UC</th><th scope=col>UMD</th><th scope=col>USFP</th></tr></thead>\n",
       "<tbody>\n",
       "\t<tr><th scope=row>1</th><td>Azilal - Demnate         </td><td>locale                   </td><td>3                        </td><td>130422.10                </td><td>0.5109                   </td><td>0                        </td><td>   0                     </td><td> 174                     </td><td> 647                     </td><td> 324                     </td><td>...                      </td><td>1465                     </td><td>0                        </td><td>  0                      </td><td>  0                      </td><td>7912                     </td><td> 4041                    </td><td>   0                     </td><td>    0                    </td><td>  0                      </td><td> 2559                    </td></tr>\n",
       "\t<tr><th scope=row>3</th><td>Bzou - Ouaouizaght       </td><td>locale                   </td><td>3                        </td><td>162654.31                </td><td>0.5137                   </td><td>0                        </td><td>   0                     </td><td> 531                     </td><td>1210                     </td><td> 157                     </td><td>...                      </td><td> 343                     </td><td>0                        </td><td>  0                      </td><td>109                      </td><td>   0                     </td><td> 8199                    </td><td>   0                     </td><td> 7530                    </td><td>  0                      </td><td> 3773                    </td></tr>\n",
       "\t<tr><th scope=row>5</th><td>Béni-Mellal              </td><td>locale                   </td><td>6                        </td><td>327277.36                </td><td>0.4142                   </td><td>0                        </td><td>1891                     </td><td> 463                     </td><td>4860                     </td><td> 164                     </td><td>...                      </td><td>1478                     </td><td>0                        </td><td>  0                      </td><td>  0                      </td><td>   0                     </td><td> 2687                    </td><td>   0                     </td><td> 3202                    </td><td>  0                      </td><td> 6965                    </td></tr>\n",
       "\t<tr><th scope=row>7</th><td>Fquih Ben Salah          </td><td>locale                   </td><td>4                        </td><td>321753.10                </td><td>0.3784                   </td><td>0                        </td><td>3295                     </td><td>   0                     </td><td>1756                     </td><td> 276                     </td><td>...                      </td><td>4041                     </td><td>0                        </td><td>  0                      </td><td>  0                      </td><td>   0                     </td><td> 9391                    </td><td>   0                     </td><td> 1168                    </td><td>  0                      </td><td>16820                    </td></tr>\n",
       "\t<tr><th scope=row>9</th><td>Khénifra                 </td><td>locale                   </td><td>3                        </td><td>236620.90                </td><td>0.4550                   </td><td>0                        </td><td> 529                     </td><td>   0                     </td><td>2184                     </td><td> 997                     </td><td>...                      </td><td>   0                     </td><td>0                        </td><td>  0                      </td><td> 76                      </td><td> 296                     </td><td> 6568                    </td><td>   0                     </td><td>  864                    </td><td>  0                      </td><td>13484                    </td></tr>\n",
       "\t<tr><th scope=row>11</th><td>Khouribga                </td><td>locale                   </td><td>6                        </td><td>368274.69                </td><td>0.3559                   </td><td>0                        </td><td> 744                     </td><td>2055                     </td><td>2255                     </td><td> 972                     </td><td>...                      </td><td> 146                     </td><td>0                        </td><td>248                      </td><td>250                      </td><td>   0                     </td><td> 7157                    </td><td>   0                     </td><td> 8996                    </td><td>  0                      </td><td>10168                    </td></tr>\n",
       "\t<tr><th scope=row>13</th><td>Benslimane               </td><td>locale                   </td><td>3                        </td><td>143113.65                </td><td>0.5221                   </td><td>0                        </td><td>   0                     </td><td>   0                     </td><td> 858                     </td><td>   0                     </td><td>...                      </td><td>  37                     </td><td>0                        </td><td>  0                      </td><td>  0                      </td><td>   0                     </td><td>10792                    </td><td>6668                     </td><td>  142                    </td><td>457                      </td><td> 2053                    </td></tr>\n",
       "\t<tr><th scope=row>15</th><td>Berrechid                </td><td>locale                   </td><td>4                        </td><td>222106.35                </td><td>0.4585                   </td><td>0                        </td><td> 216                     </td><td>1408                     </td><td> 822                     </td><td> 196                     </td><td>...                      </td><td>   0                     </td><td>0                        </td><td>  0                      </td><td>  0                      </td><td>   0                     </td><td>10664                    </td><td>   0                     </td><td> 4391                    </td><td>  0                      </td><td> 4655                    </td></tr>\n",
       "\t<tr><th scope=row>17</th><td>Aïn-Chock                </td><td>locale                   </td><td>3                        </td><td>175047.69                </td><td>0.3926                   </td><td>0                        </td><td> 115                     </td><td>  38                     </td><td>2069                     </td><td>  34                     </td><td>...                      </td><td>  16                     </td><td>0                        </td><td> 58                      </td><td>  0                      </td><td>   0                     </td><td> 6981                    </td><td>   0                     </td><td>  341                    </td><td> 66                      </td><td>  548                    </td></tr>\n",
       "\t<tr><th scope=row>19</th><td>Aïn-Sebaâ - Hay-Mohammadi</td><td>locale                   </td><td>4                        </td><td>314566.28                </td><td>0.3033                   </td><td>0                        </td><td>   0                     </td><td>   0                     </td><td>2288                     </td><td> 106                     </td><td>...                      </td><td> 148                     </td><td>0                        </td><td>  0                      </td><td>  0                      </td><td>   0                     </td><td> 6593                    </td><td>   0                     </td><td> 5673                    </td><td>  0                      </td><td> 2068                    </td></tr>\n",
       "\t<tr><th scope=row>21</th><td>Al-Fida - Mers-Sultan    </td><td>locale                   </td><td>3                        </td><td>264268.92                </td><td>0.2561                   </td><td>0                        </td><td> 142                     </td><td> 369                     </td><td>1213                     </td><td> 342                     </td><td>...                      </td><td>  36                     </td><td>0                        </td><td>  0                      </td><td>  0                      </td><td> 111                     </td><td>    0                    </td><td>   0                     </td><td>  317                    </td><td>  0                      </td><td>  685                    </td></tr>\n",
       "\t<tr><th scope=row>23</th><td>Ben-M'sick               </td><td>locale                   </td><td>3                        </td><td>175272.73                </td><td>0.3290                   </td><td>0                        </td><td>  57                     </td><td> 109                     </td><td> 648                     </td><td>   0                     </td><td>...                      </td><td>   0                     </td><td>0                        </td><td>  0                      </td><td>685                      </td><td>   0                     </td><td> 4473                    </td><td>   0                     </td><td> 8657                    </td><td>  0                      </td><td>  426                    </td></tr>\n",
       "\t<tr><th scope=row>25</th><td>Casablanca - Anfa        </td><td>locale                   </td><td>4                        </td><td>311337.70                </td><td>0.3338                   </td><td>0                        </td><td> 634                     </td><td> 554                     </td><td>6629                     </td><td> 281                     </td><td>...                      </td><td>   0                     </td><td>0                        </td><td>  0                      </td><td> 77                      </td><td> 109                     </td><td> 5306                    </td><td>   0                     </td><td>  689                    </td><td>114                      </td><td> 3477                    </td></tr>\n",
       "\t<tr><th scope=row>27</th><td>Hay-Hassani              </td><td>locale                   </td><td>3                        </td><td>213148.98                </td><td>0.3207                   </td><td>0                        </td><td>  67                     </td><td>   0                     </td><td>2262                     </td><td> 166                     </td><td>...                      </td><td>   0                     </td><td>0                        </td><td>  0                      </td><td>  0                      </td><td>  60                     </td><td>  765                    </td><td>   0                     </td><td>  753                    </td><td>  0                      </td><td>  609                    </td></tr>\n",
       "\t<tr><th scope=row>29</th><td>Moulay-Rachid            </td><td>locale                   </td><td>3                        </td><td>311281.87                </td><td>0.2612                   </td><td>0                        </td><td>   0                     </td><td> 173                     </td><td> 946                     </td><td>  84                     </td><td>...                      </td><td>  34                     </td><td>0                        </td><td>  0                      </td><td>  0                      </td><td>  98                     </td><td> 6191                    </td><td>   0                     </td><td>  515                    </td><td>  0                      </td><td>  799                    </td></tr>\n",
       "\t<tr><th scope=row>31</th><td>Sidi-Bernoussi           </td><td>locale                   </td><td>3                        </td><td>325747.58                </td><td>0.2959                   </td><td>0                        </td><td>  95                     </td><td> 127                     </td><td>2208                     </td><td> 100                     </td><td>...                      </td><td>   0                     </td><td>0                        </td><td>169                      </td><td>  0                      </td><td>   0                     </td><td> 3396                    </td><td>   0                     </td><td> 2821                    </td><td>  0                      </td><td>  832                    </td></tr>\n",
       "\t<tr><th scope=row>33</th><td>El-Jadida                </td><td>locale                   </td><td>6                        </td><td>409857.82                </td><td>0.3943                   </td><td>0                        </td><td> 461                     </td><td>1261                     </td><td>4089                     </td><td>   0                     </td><td>...                      </td><td> 393                     </td><td>0                        </td><td>  0                      </td><td>  0                      </td><td>   0                     </td><td> 2537                    </td><td>   0                     </td><td>12280                    </td><td>  0                      </td><td>10418                    </td></tr>\n",
       "\t<tr><th scope=row>35</th><td>Médiouna                 </td><td>locale                   </td><td>2                        </td><td> 77569.15                </td><td>0.5466                   </td><td>0                        </td><td>   0                     </td><td>   0                     </td><td> 310                     </td><td>   0                     </td><td>...                      </td><td>   0                     </td><td>0                        </td><td>  0                      </td><td>  0                      </td><td>   0                     </td><td>  120                    </td><td>   0                     </td><td> 6501                    </td><td>  0                      </td><td>   65                    </td></tr>\n",
       "\t<tr><th scope=row>37</th><td>Mohammadia               </td><td>locale                   </td><td>3                        </td><td>229363.06                </td><td>0.4026                   </td><td>0                        </td><td> 170                     </td><td> 559                     </td><td>1538                     </td><td> 160                     </td><td>...                      </td><td>   0                     </td><td>0                        </td><td>  0                      </td><td>  0                      </td><td>   0                     </td><td>    0                    </td><td>   0                     </td><td>  538                    </td><td> 63                      </td><td> 5198                    </td></tr>\n",
       "\t<tr><th scope=row>39</th><td>Nouaceur                 </td><td>locale                   </td><td>3                        </td><td>132547.91                </td><td>0.4748                   </td><td>0                        </td><td>   0                     </td><td>   0                     </td><td> 416                     </td><td>   0                     </td><td>...                      </td><td>   0                     </td><td>0                        </td><td>  0                      </td><td>  0                      </td><td>   0                     </td><td>  717                    </td><td>   0                     </td><td> 7239                    </td><td>  0                      </td><td>  127                    </td></tr>\n",
       "\t<tr><th scope=row>41</th><td>Settat                   </td><td>locale                   </td><td>6                        </td><td>406360.90                </td><td>0.3860                   </td><td>0                        </td><td>4821                     </td><td>1318                     </td><td>3410                     </td><td>2193                     </td><td>...                      </td><td>3431                     </td><td>0                        </td><td>  0                      </td><td>  0                      </td><td>   0                     </td><td> 4204                    </td><td>   0                     </td><td> 9076                    </td><td>  0                      </td><td> 8875                    </td></tr>\n",
       "\t<tr><th scope=row>43</th><td>Sidi Bennour             </td><td>locale                   </td><td>4                        </td><td>254519.77                </td><td>0.5094                   </td><td>0                        </td><td> 492                     </td><td> 290                     </td><td>2984                     </td><td> 445                     </td><td>...                      </td><td>   0                     </td><td>0                        </td><td>  0                      </td><td>  0                      </td><td>   0                     </td><td>12048                    </td><td>   0                     </td><td> 5338                    </td><td>  0                      </td><td> 5487                    </td></tr>\n",
       "\t<tr><th scope=row>45</th><td>Aousserd                 </td><td>locale                   </td><td>2                        </td><td>  9371.04                </td><td>0.7671                   </td><td>0                        </td><td>   0                     </td><td>   0                     </td><td>   6                     </td><td>   0                     </td><td>...                      </td><td>  19                     </td><td>0                        </td><td>  0                      </td><td>  5                      </td><td>  10                     </td><td>    0                    </td><td>   0                     </td><td>    0                    </td><td>  0                      </td><td> 1997                    </td></tr>\n",
       "\t<tr><th scope=row>47</th><td>Oued-Ed-Dahab            </td><td>locale                   </td><td>2                        </td><td> 53391.86                </td><td>0.4959                   </td><td>0                        </td><td>   0                     </td><td> 561                     </td><td> 163                     </td><td> 135                     </td><td>...                      </td><td>  55                     </td><td>0                        </td><td>  0                      </td><td> 32                      </td><td>  37                     </td><td>    0                    </td><td>   0                     </td><td>  143                    </td><td>  0                      </td><td> 2134                    </td></tr>\n",
       "\t<tr><th scope=row>49</th><td>Errachidia               </td><td>locale                   </td><td>5                        </td><td>240553.36                </td><td>0.5248                   </td><td>0                        </td><td> 687                     </td><td> 232                     </td><td>1968                     </td><td> 350                     </td><td>...                      </td><td>   0                     </td><td>0                        </td><td>  0                      </td><td>  0                      </td><td>   0                     </td><td> 9251                    </td><td>   0                     </td><td> 1852                    </td><td>  0                      </td><td> 7233                    </td></tr>\n",
       "\t<tr><th scope=row>51</th><td>Midelt                   </td><td>locale                   </td><td>3                        </td><td>179906.31                </td><td>0.3975                   </td><td>0                        </td><td> 360                     </td><td> 456                     </td><td> 611                     </td><td>1522                     </td><td>...                      </td><td>  63                     </td><td>0                        </td><td>  0                      </td><td>  0                      </td><td>   0                     </td><td>16085                    </td><td>   0                     </td><td>  930                    </td><td>  0                      </td><td>  691                    </td></tr>\n",
       "\t<tr><th scope=row>53</th><td>Ouarzazate               </td><td>locale                   </td><td>3                        </td><td>169170.09                </td><td>0.4851                   </td><td>0                        </td><td>   0                     </td><td> 395                     </td><td> 933                     </td><td>1945                     </td><td>...                      </td><td> 204                     </td><td>0                        </td><td>  0                      </td><td>  0                      </td><td>   0                     </td><td> 5145                    </td><td>   0                     </td><td> 1327                    </td><td>  0                      </td><td>  712                    </td></tr>\n",
       "\t<tr><th scope=row>55</th><td>Tinghir                  </td><td>locale                   </td><td>3                        </td><td>196381.60                </td><td>0.4439                   </td><td>0                        </td><td> 135                     </td><td> 102                     </td><td> 571                     </td><td>   0                     </td><td>...                      </td><td>   0                     </td><td>0                        </td><td>  0                      </td><td>  0                      </td><td>   0                     </td><td>13659                    </td><td>   0                     </td><td>  653                    </td><td>172                      </td><td> 3593                    </td></tr>\n",
       "\t<tr><th scope=row>57</th><td>Zagora                   </td><td>locale                   </td><td>3                        </td><td>157455.80                </td><td>0.5272                   </td><td>0                        </td><td> 444                     </td><td> 495                     </td><td> 267                     </td><td> 124                     </td><td>...                      </td><td>   0                     </td><td>0                        </td><td>  0                      </td><td>  0                      </td><td>   0                     </td><td> 9542                    </td><td>   0                     </td><td> 4970                    </td><td>  0                      </td><td> 6450                    </td></tr>\n",
       "\t<tr><th scope=row>59</th><td>Boulemane                </td><td>locale                   </td><td>3                        </td><td>111250.30                </td><td>0.5311                   </td><td>0                        </td><td>  81                     </td><td> 436                     </td><td>2853                     </td><td> 214                     </td><td>...                      </td><td> 174                     </td><td>0                        </td><td>  0                      </td><td>  0                      </td><td>   0                     </td><td> 3376                    </td><td>   0                     </td><td>  661                    </td><td>  0                      </td><td>  334                    </td></tr>\n",
       "\t<tr><th scope=row>...</th><td>...</td><td>...</td><td>...</td><td>...</td><td>...</td><td>...</td><td>...</td><td>...</td><td>...</td><td>...</td><td>   </td><td>...</td><td>...</td><td>...</td><td>...</td><td>...</td><td>...</td><td>...</td><td>...</td><td>...</td><td>...</td></tr>\n",
       "\t<tr><th scope=row>125</th><td>Jerada                  </td><td>locale                  </td><td>2                       </td><td> 81175.93               </td><td>0.4457                  </td><td>0                       </td><td> 172                    </td><td>2296                    </td><td> 475                    </td><td>    0                   </td><td>...                     </td><td> 36                     </td><td>0                       </td><td>  0                     </td><td>  0                     </td><td>  0                     </td><td>    0                   </td><td>   0                    </td><td>  367                   </td><td>   0                    </td><td> 2678                   </td></tr>\n",
       "\t<tr><th scope=row>127</th><td>Nador                   </td><td>locale                  </td><td>4                       </td><td>389346.37               </td><td>0.3143                  </td><td>0                       </td><td> 148                    </td><td> 272                    </td><td> 934                    </td><td>    0                   </td><td>...                     </td><td> 23                     </td><td>0                       </td><td> 63                     </td><td>  0                     </td><td>267                     </td><td>12135                   </td><td>   0                    </td><td>   87                   </td><td>   0                    </td><td> 7769                   </td></tr>\n",
       "\t<tr><th scope=row>129</th><td>Oujda - Angad           </td><td>locale                  </td><td>4                       </td><td>358046.62               </td><td>0.3345                  </td><td>0                       </td><td> 155                    </td><td> 127                    </td><td>2103                    </td><td>    0                   </td><td>...                     </td><td>  0                     </td><td>0                       </td><td>  0                     </td><td>  0                     </td><td>  0                     </td><td> 1347                   </td><td>   0                    </td><td>  186                   </td><td>   0                    </td><td> 1676                   </td></tr>\n",
       "\t<tr><th scope=row>131</th><td>Taourirt                </td><td>locale                  </td><td>2                       </td><td>157072.34               </td><td>0.3854                  </td><td>0                       </td><td> 202                    </td><td> 246                    </td><td> 851                    </td><td>    0                   </td><td>...                     </td><td>100                     </td><td>0                       </td><td>  0                     </td><td>  0                     </td><td>  0                     </td><td>  643                   </td><td>   0                    </td><td> 7443                   </td><td>   0                    </td><td> 1278                   </td></tr>\n",
       "\t<tr><th scope=row>133</th><td>El-Gharb                </td><td>locale                  </td><td>3                       </td><td>196599.60               </td><td>0.4679                  </td><td>0                       </td><td>   0                    </td><td> 265                    </td><td> 285                    </td><td> 5848                   </td><td>...                     </td><td>  0                     </td><td>0                       </td><td>  0                     </td><td>  0                     </td><td>  0                     </td><td>11930                   </td><td>   0                    </td><td> 9194                   </td><td>   0                    </td><td> 4498                   </td></tr>\n",
       "\t<tr><th scope=row>135</th><td>Kénitra                 </td><td>locale                  </td><td>4                       </td><td>422609.23               </td><td>0.3649                  </td><td>0                       </td><td>6525                    </td><td> 129                    </td><td>3324                    </td><td>    0                   </td><td>...                     </td><td>  0                     </td><td>0                       </td><td>  0                     </td><td>151                     </td><td>  0                     </td><td>10073                   </td><td>   0                    </td><td> 9727                   </td><td> 520                    </td><td> 6165                   </td></tr>\n",
       "\t<tr><th scope=row>137</th><td>Khémisset - Oulmès      </td><td>locale                  </td><td>3                       </td><td>179084.73               </td><td>0.4292                  </td><td>0                       </td><td>   0                    </td><td> 973                    </td><td> 863                    </td><td> 3917                   </td><td>...                     </td><td>157                     </td><td>0                       </td><td>134                     </td><td>  0                     </td><td>  0                     </td><td> 7561                   </td><td>   0                    </td><td>    0                   </td><td>   0                    </td><td>  182                   </td></tr>\n",
       "\t<tr><th scope=row>139</th><td>Tifelt - Rommani        </td><td>locale                  </td><td>3                       </td><td>170629.82               </td><td>0.5217                  </td><td>0                       </td><td>   0                    </td><td>   0                    </td><td> 493                    </td><td>18163                   </td><td>...                     </td><td> 22                     </td><td>0                       </td><td>  0                     </td><td>  0                     </td><td>  0                     </td><td>14789                   </td><td>   0                    </td><td>    0                   </td><td>   0                    </td><td> 4960                   </td></tr>\n",
       "\t<tr><th scope=row>141</th><td>Rabat - Challah         </td><td>locale                  </td><td>3                       </td><td>164811.50               </td><td>0.4330                  </td><td>0                       </td><td>   0                    </td><td> 252                    </td><td>3085                    </td><td>  104                   </td><td>...                     </td><td> 76                     </td><td>0                       </td><td>  0                     </td><td>  0                     </td><td>117                     </td><td>  649                   </td><td>   0                    </td><td> 4330                   </td><td>1210                    </td><td> 1757                   </td></tr>\n",
       "\t<tr><th scope=row>143</th><td>Rabat - El Mouhit       </td><td>locale                  </td><td>4                       </td><td>224873.78               </td><td>0.4171                  </td><td>0                       </td><td>   0                    </td><td>   0                    </td><td>8048                    </td><td>  119                   </td><td>...                     </td><td> 83                     </td><td>0                       </td><td>  0                     </td><td>  0                     </td><td> 85                     </td><td> 3762                   </td><td>   0                    </td><td> 1941                   </td><td> 169                    </td><td> 1109                   </td></tr>\n",
       "\t<tr><th scope=row>145</th><td>Salé - Al-Jadida        </td><td>locale                  </td><td>3                       </td><td>221013.13               </td><td>0.3638                  </td><td>0                       </td><td> 211                    </td><td>  98                    </td><td>1195                    </td><td>   50                   </td><td>...                     </td><td> 43                     </td><td>0                       </td><td> 70                     </td><td>  0                     </td><td>  0                     </td><td>  319                   </td><td>   0                    </td><td> 3227                   </td><td>   0                    </td><td>  355                   </td></tr>\n",
       "\t<tr><th scope=row>147</th><td>Salé - Médina           </td><td>locale                  </td><td>4                       </td><td>294845.15               </td><td>0.3654                  </td><td>0                       </td><td> 125                    </td><td>   0                    </td><td>2459                    </td><td>  134                   </td><td>...                     </td><td>120                     </td><td>0                       </td><td>  0                     </td><td>  0                     </td><td> 88                     </td><td> 8674                   </td><td>   0                    </td><td>  351                   </td><td>   0                    </td><td>  913                   </td></tr>\n",
       "\t<tr><th scope=row>149</th><td>Sidi-Kacem              </td><td>locale                  </td><td>5                       </td><td>281094.26               </td><td>0.4563                  </td><td>0                       </td><td>7631                    </td><td> 286                    </td><td>2706                    </td><td>    0                   </td><td>...                     </td><td>  0                     </td><td>0                       </td><td>286                     </td><td>  0                     </td><td>  0                     </td><td> 3599                   </td><td>   0                    </td><td> 7837                   </td><td>   0                    </td><td> 5862                   </td></tr>\n",
       "\t<tr><th scope=row>151</th><td>Sidi Slimane            </td><td>locale                  </td><td>3                       </td><td>197043.64               </td><td>0.4454                  </td><td>0                       </td><td> 469                    </td><td> 599                    </td><td> 818                    </td><td>  934                   </td><td>...                     </td><td>  0                     </td><td>0                       </td><td>376                     </td><td> 48                     </td><td>203                     </td><td> 4689                   </td><td>   0                    </td><td>12536                   </td><td>   0                    </td><td>10733                   </td></tr>\n",
       "\t<tr><th scope=row>153</th><td>Skhirate - Témara       </td><td>locale                  </td><td>4                       </td><td>272358.35               </td><td>0.4571                  </td><td>0                       </td><td> 265                    </td><td> 297                    </td><td>3048                    </td><td>  511                   </td><td>...                     </td><td>  0                     </td><td>0                       </td><td>185                     </td><td>  0                     </td><td>  0                     </td><td> 7247                   </td><td>   0                    </td><td>10740                   </td><td>   0                    </td><td> 2138                   </td></tr>\n",
       "\t<tr><th scope=row>155</th><td>Agadir - Ida-ou-Tanane  </td><td>locale                  </td><td>4                       </td><td>365851.96               </td><td>0.3213                  </td><td>0                       </td><td>   0                    </td><td> 107                    </td><td>3207                    </td><td>  149                   </td><td>...                     </td><td> 86                     </td><td>0                       </td><td>  0                     </td><td>  0                     </td><td>107                     </td><td> 7804                   </td><td>   0                    </td><td>  220                   </td><td>   0                    </td><td> 3758                   </td></tr>\n",
       "\t<tr><th scope=row>157</th><td>Chtouka - Aït-Baha      </td><td>locale                  </td><td>3                       </td><td>191829.91               </td><td>0.4610                  </td><td>0                       </td><td>   0                    </td><td>   0                    </td><td>2485                    </td><td>   73                   </td><td>...                     </td><td>138                     </td><td>0                       </td><td>  0                     </td><td>  0                     </td><td>  0                     </td><td> 8128                   </td><td>   0                    </td><td>  243                   </td><td>   0                    </td><td>  730                   </td></tr>\n",
       "\t<tr><th scope=row>159</th><td>Inézgane - Aït-Melloul  </td><td>locale                  </td><td>3                       </td><td>316543.82               </td><td>0.3208                  </td><td>0                       </td><td>   0                    </td><td> 349                    </td><td>1392                    </td><td>  101                   </td><td>...                     </td><td> 40                     </td><td>0                       </td><td>  0                     </td><td>  0                     </td><td>  0                     </td><td>  960                   </td><td>   0                    </td><td>  321                   </td><td>   0                    </td><td> 1495                   </td></tr>\n",
       "\t<tr><th scope=row>161</th><td>Taroudannt - Al-Janoubia</td><td>locale                  </td><td>4                       </td><td>298779.30               </td><td>0.4698                  </td><td>0                       </td><td> 138                    </td><td> 380                    </td><td> 661                    </td><td>  144                   </td><td>...                     </td><td> 80                     </td><td>0                       </td><td> 68                     </td><td>  0                     </td><td>  0                     </td><td>15592                   </td><td>   0                    </td><td>  408                   </td><td>   0                    </td><td> 5403                   </td></tr>\n",
       "\t<tr><th scope=row>163</th><td>Taroudannt - Chamalia   </td><td>locale                  </td><td>3                       </td><td>208198.56               </td><td>0.5219                  </td><td>0                       </td><td> 239                    </td><td> 660                    </td><td> 430                    </td><td>    0                   </td><td>...                     </td><td> 56                     </td><td>0                       </td><td>  0                     </td><td>  0                     </td><td>  0                     </td><td>29587                   </td><td>   0                    </td><td> 3459                   </td><td>   0                    </td><td>  515                   </td></tr>\n",
       "\t<tr><th scope=row>165</th><td>Tata                    </td><td>locale                  </td><td>2                       </td><td> 79924.31               </td><td>0.5560                  </td><td>0                       </td><td>   0                    </td><td>   0                    </td><td> 381                    </td><td>  280                   </td><td>...                     </td><td>  0                     </td><td>0                       </td><td>  0                     </td><td>  0                     </td><td>  0                     </td><td>10114                   </td><td>   0                    </td><td>  231                   </td><td>   0                    </td><td>  657                   </td></tr>\n",
       "\t<tr><th scope=row>167</th><td>Tiznit                  </td><td>locale                  </td><td>2                       </td><td>145264.36               </td><td>0.4264                  </td><td>0                       </td><td>   0                    </td><td> 130                    </td><td> 474                    </td><td>  200                   </td><td>...                     </td><td>  0                     </td><td>0                       </td><td>  0                     </td><td>  0                     </td><td> 57                     </td><td>14027                   </td><td>   0                    </td><td>    0                   </td><td>   0                    </td><td> 5842                   </td></tr>\n",
       "\t<tr><th scope=row>169</th><td>Al-Hoceïma              </td><td>locale                  </td><td>4                       </td><td>254720.78               </td><td>0.4280                  </td><td>0                       </td><td>   0                    </td><td> 133                    </td><td> 326                    </td><td>  233                   </td><td>...                     </td><td>  0                     </td><td>0                       </td><td>  0                     </td><td>  0                     </td><td>  0                     </td><td> 5941                   </td><td>   0                    </td><td>    0                   </td><td>   0                    </td><td> 7525                   </td></tr>\n",
       "\t<tr><th scope=row>171</th><td>Chefchaouen             </td><td>locale                  </td><td>4                       </td><td>228506.69               </td><td>0.5238                  </td><td>0                       </td><td> 768                    </td><td>5780                    </td><td> 427                    </td><td> 1336                   </td><td>...                     </td><td>  0                     </td><td>0                       </td><td>  0                     </td><td>  0                     </td><td>  0                     </td><td> 3750                   </td><td>   0                    </td><td>10435                   </td><td>   0                    </td><td> 7954                   </td></tr>\n",
       "\t<tr><th scope=row>173</th><td>Fahs - Anjra            </td><td>locale                  </td><td>2                       </td><td> 43813.87               </td><td>0.5799                  </td><td>0                       </td><td> 524                    </td><td>  17                    </td><td>  79                    </td><td>    0                   </td><td>...                     </td><td>  0                     </td><td>0                       </td><td>  0                     </td><td>  0                     </td><td>  0                     </td><td> 4819                   </td><td>   0                    </td><td>    0                   </td><td>   0                    </td><td>  161                   </td></tr>\n",
       "\t<tr><th scope=row>175</th><td>Larache                 </td><td>locale                  </td><td>4                       </td><td>257697.12               </td><td>0.4396                  </td><td>0                       </td><td> 152                    </td><td>1148                    </td><td>1279                    </td><td>    0                   </td><td>...                     </td><td>  0                     </td><td>0                       </td><td>  0                     </td><td>  0                     </td><td>  0                     </td><td> 6568                   </td><td>   0                    </td><td>10633                   </td><td>   0                    </td><td> 4994                   </td></tr>\n",
       "\t<tr><th scope=row>177</th><td>M'Diq - Fnideq          </td><td>locale                  </td><td>2                       </td><td>112919.08               </td><td>0.3968                  </td><td>0                       </td><td>   0                    </td><td>  52                    </td><td> 400                    </td><td>   83                   </td><td>...                     </td><td> 22                     </td><td>0                       </td><td>  0                     </td><td>  0                     </td><td>  0                     </td><td>    0                   </td><td>   0                    </td><td> 1309                   </td><td>   0                    </td><td> 1588                   </td></tr>\n",
       "\t<tr><th scope=row>179</th><td>Ouezzane                </td><td>locale                  </td><td>3                       </td><td>161256.28               </td><td>0.5976                  </td><td>0                       </td><td>   0                    </td><td> 834                    </td><td> 599                    </td><td>  385                   </td><td>...                     </td><td>  0                     </td><td>0                       </td><td> 82                     </td><td>  0                     </td><td>  0                     </td><td> 7513                   </td><td>   0                    </td><td> 3965                   </td><td>   0                    </td><td>11190                   </td></tr>\n",
       "\t<tr><th scope=row>181</th><td>Tanger - Assilah        </td><td>locale                  </td><td>5                       </td><td>448726.09               </td><td>0.3657                  </td><td>0                       </td><td> 197                    </td><td>   0                    </td><td>2668                    </td><td>    0                   </td><td>...                     </td><td>  0                     </td><td>0                       </td><td> 86                     </td><td>  0                     </td><td>  0                     </td><td> 6525                   </td><td>   0                    </td><td>10636                   </td><td>   0                    </td><td>  748                   </td></tr>\n",
       "\t<tr><th scope=row>183</th><td>Tétouan                 </td><td>locale                  </td><td>5                       </td><td>299668.17               </td><td>0.3852                  </td><td>0                       </td><td>   0                    </td><td>   0                    </td><td>2478                    </td><td>  282                   </td><td>...                     </td><td>  0                     </td><td>0                       </td><td>  0                     </td><td>  0                     </td><td> 99                     </td><td>16328                   </td><td>2988                    </td><td>   79                   </td><td>   0                    </td><td>10639                   </td></tr>\n",
       "</tbody>\n",
       "</table>\n"
      ],
      "text/latex": [
       "\\begin{tabular}{r|llllllllllllllllllllllllllllllllll}\n",
       "  & circonscription & typeListe & nSieges & nInscrits & txParticipation & pctNuls & AHD & FFD & FGD & MDS & ... & PRD & PRV & PSD & PT & PUD & RNI & SAP & UC & UMD & USFP\\\\\n",
       "\\hline\n",
       "\t1 & Azilal - Demnate          & locale                    & 3                         & 130422.10                 & 0.5109                    & 0                         &    0                      &  174                      &  647                      &  324                      & ...                       & 1465                      & 0                         &   0                       &   0                       & 7912                      &  4041                     &    0                      &     0                     &   0                       &  2559                    \\\\\n",
       "\t3 & Bzou - Ouaouizaght        & locale                    & 3                         & 162654.31                 & 0.5137                    & 0                         &    0                      &  531                      & 1210                      &  157                      & ...                       &  343                      & 0                         &   0                       & 109                       &    0                      &  8199                     &    0                      &  7530                     &   0                       &  3773                    \\\\\n",
       "\t5 & Béni-Mellal               & locale                    & 6                         & 327277.36                 & 0.4142                    & 0                         & 1891                      &  463                      & 4860                      &  164                      & ...                       & 1478                      & 0                         &   0                       &   0                       &    0                      &  2687                     &    0                      &  3202                     &   0                       &  6965                    \\\\\n",
       "\t7 & Fquih Ben Salah           & locale                    & 4                         & 321753.10                 & 0.3784                    & 0                         & 3295                      &    0                      & 1756                      &  276                      & ...                       & 4041                      & 0                         &   0                       &   0                       &    0                      &  9391                     &    0                      &  1168                     &   0                       & 16820                    \\\\\n",
       "\t9 & Khénifra                  & locale                    & 3                         & 236620.90                 & 0.4550                    & 0                         &  529                      &    0                      & 2184                      &  997                      & ...                       &    0                      & 0                         &   0                       &  76                       &  296                      &  6568                     &    0                      &   864                     &   0                       & 13484                    \\\\\n",
       "\t11 & Khouribga                 & locale                    & 6                         & 368274.69                 & 0.3559                    & 0                         &  744                      & 2055                      & 2255                      &  972                      & ...                       &  146                      & 0                         & 248                       & 250                       &    0                      &  7157                     &    0                      &  8996                     &   0                       & 10168                    \\\\\n",
       "\t13 & Benslimane                & locale                    & 3                         & 143113.65                 & 0.5221                    & 0                         &    0                      &    0                      &  858                      &    0                      & ...                       &   37                      & 0                         &   0                       &   0                       &    0                      & 10792                     & 6668                      &   142                     & 457                       &  2053                    \\\\\n",
       "\t15 & Berrechid                 & locale                    & 4                         & 222106.35                 & 0.4585                    & 0                         &  216                      & 1408                      &  822                      &  196                      & ...                       &    0                      & 0                         &   0                       &   0                       &    0                      & 10664                     &    0                      &  4391                     &   0                       &  4655                    \\\\\n",
       "\t17 & Aïn-Chock                 & locale                    & 3                         & 175047.69                 & 0.3926                    & 0                         &  115                      &   38                      & 2069                      &   34                      & ...                       &   16                      & 0                         &  58                       &   0                       &    0                      &  6981                     &    0                      &   341                     &  66                       &   548                    \\\\\n",
       "\t19 & Aïn-Sebaâ - Hay-Mohammadi & locale                    & 4                         & 314566.28                 & 0.3033                    & 0                         &    0                      &    0                      & 2288                      &  106                      & ...                       &  148                      & 0                         &   0                       &   0                       &    0                      &  6593                     &    0                      &  5673                     &   0                       &  2068                    \\\\\n",
       "\t21 & Al-Fida - Mers-Sultan     & locale                    & 3                         & 264268.92                 & 0.2561                    & 0                         &  142                      &  369                      & 1213                      &  342                      & ...                       &   36                      & 0                         &   0                       &   0                       &  111                      &     0                     &    0                      &   317                     &   0                       &   685                    \\\\\n",
       "\t23 & Ben-M'sick                & locale                    & 3                         & 175272.73                 & 0.3290                    & 0                         &   57                      &  109                      &  648                      &    0                      & ...                       &    0                      & 0                         &   0                       & 685                       &    0                      &  4473                     &    0                      &  8657                     &   0                       &   426                    \\\\\n",
       "\t25 & Casablanca - Anfa         & locale                    & 4                         & 311337.70                 & 0.3338                    & 0                         &  634                      &  554                      & 6629                      &  281                      & ...                       &    0                      & 0                         &   0                       &  77                       &  109                      &  5306                     &    0                      &   689                     & 114                       &  3477                    \\\\\n",
       "\t27 & Hay-Hassani               & locale                    & 3                         & 213148.98                 & 0.3207                    & 0                         &   67                      &    0                      & 2262                      &  166                      & ...                       &    0                      & 0                         &   0                       &   0                       &   60                      &   765                     &    0                      &   753                     &   0                       &   609                    \\\\\n",
       "\t29 & Moulay-Rachid             & locale                    & 3                         & 311281.87                 & 0.2612                    & 0                         &    0                      &  173                      &  946                      &   84                      & ...                       &   34                      & 0                         &   0                       &   0                       &   98                      &  6191                     &    0                      &   515                     &   0                       &   799                    \\\\\n",
       "\t31 & Sidi-Bernoussi            & locale                    & 3                         & 325747.58                 & 0.2959                    & 0                         &   95                      &  127                      & 2208                      &  100                      & ...                       &    0                      & 0                         & 169                       &   0                       &    0                      &  3396                     &    0                      &  2821                     &   0                       &   832                    \\\\\n",
       "\t33 & El-Jadida                 & locale                    & 6                         & 409857.82                 & 0.3943                    & 0                         &  461                      & 1261                      & 4089                      &    0                      & ...                       &  393                      & 0                         &   0                       &   0                       &    0                      &  2537                     &    0                      & 12280                     &   0                       & 10418                    \\\\\n",
       "\t35 & Médiouna                  & locale                    & 2                         &  77569.15                 & 0.5466                    & 0                         &    0                      &    0                      &  310                      &    0                      & ...                       &    0                      & 0                         &   0                       &   0                       &    0                      &   120                     &    0                      &  6501                     &   0                       &    65                    \\\\\n",
       "\t37 & Mohammadia                & locale                    & 3                         & 229363.06                 & 0.4026                    & 0                         &  170                      &  559                      & 1538                      &  160                      & ...                       &    0                      & 0                         &   0                       &   0                       &    0                      &     0                     &    0                      &   538                     &  63                       &  5198                    \\\\\n",
       "\t39 & Nouaceur                  & locale                    & 3                         & 132547.91                 & 0.4748                    & 0                         &    0                      &    0                      &  416                      &    0                      & ...                       &    0                      & 0                         &   0                       &   0                       &    0                      &   717                     &    0                      &  7239                     &   0                       &   127                    \\\\\n",
       "\t41 & Settat                    & locale                    & 6                         & 406360.90                 & 0.3860                    & 0                         & 4821                      & 1318                      & 3410                      & 2193                      & ...                       & 3431                      & 0                         &   0                       &   0                       &    0                      &  4204                     &    0                      &  9076                     &   0                       &  8875                    \\\\\n",
       "\t43 & Sidi Bennour              & locale                    & 4                         & 254519.77                 & 0.5094                    & 0                         &  492                      &  290                      & 2984                      &  445                      & ...                       &    0                      & 0                         &   0                       &   0                       &    0                      & 12048                     &    0                      &  5338                     &   0                       &  5487                    \\\\\n",
       "\t45 & Aousserd                  & locale                    & 2                         &   9371.04                 & 0.7671                    & 0                         &    0                      &    0                      &    6                      &    0                      & ...                       &   19                      & 0                         &   0                       &   5                       &   10                      &     0                     &    0                      &     0                     &   0                       &  1997                    \\\\\n",
       "\t47 & Oued-Ed-Dahab             & locale                    & 2                         &  53391.86                 & 0.4959                    & 0                         &    0                      &  561                      &  163                      &  135                      & ...                       &   55                      & 0                         &   0                       &  32                       &   37                      &     0                     &    0                      &   143                     &   0                       &  2134                    \\\\\n",
       "\t49 & Errachidia                & locale                    & 5                         & 240553.36                 & 0.5248                    & 0                         &  687                      &  232                      & 1968                      &  350                      & ...                       &    0                      & 0                         &   0                       &   0                       &    0                      &  9251                     &    0                      &  1852                     &   0                       &  7233                    \\\\\n",
       "\t51 & Midelt                    & locale                    & 3                         & 179906.31                 & 0.3975                    & 0                         &  360                      &  456                      &  611                      & 1522                      & ...                       &   63                      & 0                         &   0                       &   0                       &    0                      & 16085                     &    0                      &   930                     &   0                       &   691                    \\\\\n",
       "\t53 & Ouarzazate                & locale                    & 3                         & 169170.09                 & 0.4851                    & 0                         &    0                      &  395                      &  933                      & 1945                      & ...                       &  204                      & 0                         &   0                       &   0                       &    0                      &  5145                     &    0                      &  1327                     &   0                       &   712                    \\\\\n",
       "\t55 & Tinghir                   & locale                    & 3                         & 196381.60                 & 0.4439                    & 0                         &  135                      &  102                      &  571                      &    0                      & ...                       &    0                      & 0                         &   0                       &   0                       &    0                      & 13659                     &    0                      &   653                     & 172                       &  3593                    \\\\\n",
       "\t57 & Zagora                    & locale                    & 3                         & 157455.80                 & 0.5272                    & 0                         &  444                      &  495                      &  267                      &  124                      & ...                       &    0                      & 0                         &   0                       &   0                       &    0                      &  9542                     &    0                      &  4970                     &   0                       &  6450                    \\\\\n",
       "\t59 & Boulemane                 & locale                    & 3                         & 111250.30                 & 0.5311                    & 0                         &   81                      &  436                      & 2853                      &  214                      & ...                       &  174                      & 0                         &   0                       &   0                       &    0                      &  3376                     &    0                      &   661                     &   0                       &   334                    \\\\\n",
       "\t... & ... & ... & ... & ... & ... & ... & ... & ... & ... & ... &     & ... & ... & ... & ... & ... & ... & ... & ... & ... & ...\\\\\n",
       "\t125 & Jerada                   & locale                   & 2                        &  81175.93                & 0.4457                   & 0                        &  172                     & 2296                     &  475                     &     0                    & ...                      &  36                      & 0                        &   0                      &   0                      &   0                      &     0                    &    0                     &   367                    &    0                     &  2678                   \\\\\n",
       "\t127 & Nador                    & locale                   & 4                        & 389346.37                & 0.3143                   & 0                        &  148                     &  272                     &  934                     &     0                    & ...                      &  23                      & 0                        &  63                      &   0                      & 267                      & 12135                    &    0                     &    87                    &    0                     &  7769                   \\\\\n",
       "\t129 & Oujda - Angad            & locale                   & 4                        & 358046.62                & 0.3345                   & 0                        &  155                     &  127                     & 2103                     &     0                    & ...                      &   0                      & 0                        &   0                      &   0                      &   0                      &  1347                    &    0                     &   186                    &    0                     &  1676                   \\\\\n",
       "\t131 & Taourirt                 & locale                   & 2                        & 157072.34                & 0.3854                   & 0                        &  202                     &  246                     &  851                     &     0                    & ...                      & 100                      & 0                        &   0                      &   0                      &   0                      &   643                    &    0                     &  7443                    &    0                     &  1278                   \\\\\n",
       "\t133 & El-Gharb                 & locale                   & 3                        & 196599.60                & 0.4679                   & 0                        &    0                     &  265                     &  285                     &  5848                    & ...                      &   0                      & 0                        &   0                      &   0                      &   0                      & 11930                    &    0                     &  9194                    &    0                     &  4498                   \\\\\n",
       "\t135 & Kénitra                  & locale                   & 4                        & 422609.23                & 0.3649                   & 0                        & 6525                     &  129                     & 3324                     &     0                    & ...                      &   0                      & 0                        &   0                      & 151                      &   0                      & 10073                    &    0                     &  9727                    &  520                     &  6165                   \\\\\n",
       "\t137 & Khémisset - Oulmès       & locale                   & 3                        & 179084.73                & 0.4292                   & 0                        &    0                     &  973                     &  863                     &  3917                    & ...                      & 157                      & 0                        & 134                      &   0                      &   0                      &  7561                    &    0                     &     0                    &    0                     &   182                   \\\\\n",
       "\t139 & Tifelt - Rommani         & locale                   & 3                        & 170629.82                & 0.5217                   & 0                        &    0                     &    0                     &  493                     & 18163                    & ...                      &  22                      & 0                        &   0                      &   0                      &   0                      & 14789                    &    0                     &     0                    &    0                     &  4960                   \\\\\n",
       "\t141 & Rabat - Challah          & locale                   & 3                        & 164811.50                & 0.4330                   & 0                        &    0                     &  252                     & 3085                     &   104                    & ...                      &  76                      & 0                        &   0                      &   0                      & 117                      &   649                    &    0                     &  4330                    & 1210                     &  1757                   \\\\\n",
       "\t143 & Rabat - El Mouhit        & locale                   & 4                        & 224873.78                & 0.4171                   & 0                        &    0                     &    0                     & 8048                     &   119                    & ...                      &  83                      & 0                        &   0                      &   0                      &  85                      &  3762                    &    0                     &  1941                    &  169                     &  1109                   \\\\\n",
       "\t145 & Salé - Al-Jadida         & locale                   & 3                        & 221013.13                & 0.3638                   & 0                        &  211                     &   98                     & 1195                     &    50                    & ...                      &  43                      & 0                        &  70                      &   0                      &   0                      &   319                    &    0                     &  3227                    &    0                     &   355                   \\\\\n",
       "\t147 & Salé - Médina            & locale                   & 4                        & 294845.15                & 0.3654                   & 0                        &  125                     &    0                     & 2459                     &   134                    & ...                      & 120                      & 0                        &   0                      &   0                      &  88                      &  8674                    &    0                     &   351                    &    0                     &   913                   \\\\\n",
       "\t149 & Sidi-Kacem               & locale                   & 5                        & 281094.26                & 0.4563                   & 0                        & 7631                     &  286                     & 2706                     &     0                    & ...                      &   0                      & 0                        & 286                      &   0                      &   0                      &  3599                    &    0                     &  7837                    &    0                     &  5862                   \\\\\n",
       "\t151 & Sidi Slimane             & locale                   & 3                        & 197043.64                & 0.4454                   & 0                        &  469                     &  599                     &  818                     &   934                    & ...                      &   0                      & 0                        & 376                      &  48                      & 203                      &  4689                    &    0                     & 12536                    &    0                     & 10733                   \\\\\n",
       "\t153 & Skhirate - Témara        & locale                   & 4                        & 272358.35                & 0.4571                   & 0                        &  265                     &  297                     & 3048                     &   511                    & ...                      &   0                      & 0                        & 185                      &   0                      &   0                      &  7247                    &    0                     & 10740                    &    0                     &  2138                   \\\\\n",
       "\t155 & Agadir - Ida-ou-Tanane   & locale                   & 4                        & 365851.96                & 0.3213                   & 0                        &    0                     &  107                     & 3207                     &   149                    & ...                      &  86                      & 0                        &   0                      &   0                      & 107                      &  7804                    &    0                     &   220                    &    0                     &  3758                   \\\\\n",
       "\t157 & Chtouka - Aït-Baha       & locale                   & 3                        & 191829.91                & 0.4610                   & 0                        &    0                     &    0                     & 2485                     &    73                    & ...                      & 138                      & 0                        &   0                      &   0                      &   0                      &  8128                    &    0                     &   243                    &    0                     &   730                   \\\\\n",
       "\t159 & Inézgane - Aït-Melloul   & locale                   & 3                        & 316543.82                & 0.3208                   & 0                        &    0                     &  349                     & 1392                     &   101                    & ...                      &  40                      & 0                        &   0                      &   0                      &   0                      &   960                    &    0                     &   321                    &    0                     &  1495                   \\\\\n",
       "\t161 & Taroudannt - Al-Janoubia & locale                   & 4                        & 298779.30                & 0.4698                   & 0                        &  138                     &  380                     &  661                     &   144                    & ...                      &  80                      & 0                        &  68                      &   0                      &   0                      & 15592                    &    0                     &   408                    &    0                     &  5403                   \\\\\n",
       "\t163 & Taroudannt - Chamalia    & locale                   & 3                        & 208198.56                & 0.5219                   & 0                        &  239                     &  660                     &  430                     &     0                    & ...                      &  56                      & 0                        &   0                      &   0                      &   0                      & 29587                    &    0                     &  3459                    &    0                     &   515                   \\\\\n",
       "\t165 & Tata                     & locale                   & 2                        &  79924.31                & 0.5560                   & 0                        &    0                     &    0                     &  381                     &   280                    & ...                      &   0                      & 0                        &   0                      &   0                      &   0                      & 10114                    &    0                     &   231                    &    0                     &   657                   \\\\\n",
       "\t167 & Tiznit                   & locale                   & 2                        & 145264.36                & 0.4264                   & 0                        &    0                     &  130                     &  474                     &   200                    & ...                      &   0                      & 0                        &   0                      &   0                      &  57                      & 14027                    &    0                     &     0                    &    0                     &  5842                   \\\\\n",
       "\t169 & Al-Hoceïma               & locale                   & 4                        & 254720.78                & 0.4280                   & 0                        &    0                     &  133                     &  326                     &   233                    & ...                      &   0                      & 0                        &   0                      &   0                      &   0                      &  5941                    &    0                     &     0                    &    0                     &  7525                   \\\\\n",
       "\t171 & Chefchaouen              & locale                   & 4                        & 228506.69                & 0.5238                   & 0                        &  768                     & 5780                     &  427                     &  1336                    & ...                      &   0                      & 0                        &   0                      &   0                      &   0                      &  3750                    &    0                     & 10435                    &    0                     &  7954                   \\\\\n",
       "\t173 & Fahs - Anjra             & locale                   & 2                        &  43813.87                & 0.5799                   & 0                        &  524                     &   17                     &   79                     &     0                    & ...                      &   0                      & 0                        &   0                      &   0                      &   0                      &  4819                    &    0                     &     0                    &    0                     &   161                   \\\\\n",
       "\t175 & Larache                  & locale                   & 4                        & 257697.12                & 0.4396                   & 0                        &  152                     & 1148                     & 1279                     &     0                    & ...                      &   0                      & 0                        &   0                      &   0                      &   0                      &  6568                    &    0                     & 10633                    &    0                     &  4994                   \\\\\n",
       "\t177 & M'Diq - Fnideq           & locale                   & 2                        & 112919.08                & 0.3968                   & 0                        &    0                     &   52                     &  400                     &    83                    & ...                      &  22                      & 0                        &   0                      &   0                      &   0                      &     0                    &    0                     &  1309                    &    0                     &  1588                   \\\\\n",
       "\t179 & Ouezzane                 & locale                   & 3                        & 161256.28                & 0.5976                   & 0                        &    0                     &  834                     &  599                     &   385                    & ...                      &   0                      & 0                        &  82                      &   0                      &   0                      &  7513                    &    0                     &  3965                    &    0                     & 11190                   \\\\\n",
       "\t181 & Tanger - Assilah         & locale                   & 5                        & 448726.09                & 0.3657                   & 0                        &  197                     &    0                     & 2668                     &     0                    & ...                      &   0                      & 0                        &  86                      &   0                      &   0                      &  6525                    &    0                     & 10636                    &    0                     &   748                   \\\\\n",
       "\t183 & Tétouan                  & locale                   & 5                        & 299668.17                & 0.3852                   & 0                        &    0                     &    0                     & 2478                     &   282                    & ...                      &   0                      & 0                        &   0                      &   0                      &  99                      & 16328                    & 2988                     &    79                    &    0                     & 10639                   \\\\\n",
       "\\end{tabular}\n"
      ],
      "text/markdown": [
       "\n",
       "| <!--/--> | circonscription | typeListe | nSieges | nInscrits | txParticipation | pctNuls | AHD | FFD | FGD | MDS | ... | PRD | PRV | PSD | PT | PUD | RNI | SAP | UC | UMD | USFP |\n",
       "|---|---|---|---|---|---|---|---|---|---|---|---|---|---|---|---|---|---|---|---|---|---|\n",
       "| 1 | Azilal - Demnate          | locale                    | 3                         | 130422.10                 | 0.5109                    | 0                         |    0                      |  174                      |  647                      |  324                      | ...                       | 1465                      | 0                         |   0                       |   0                       | 7912                      |  4041                     |    0                      |     0                     |   0                       |  2559                     |\n",
       "| 3 | Bzou - Ouaouizaght        | locale                    | 3                         | 162654.31                 | 0.5137                    | 0                         |    0                      |  531                      | 1210                      |  157                      | ...                       |  343                      | 0                         |   0                       | 109                       |    0                      |  8199                     |    0                      |  7530                     |   0                       |  3773                     |\n",
       "| 5 | Béni-Mellal               | locale                    | 6                         | 327277.36                 | 0.4142                    | 0                         | 1891                      |  463                      | 4860                      |  164                      | ...                       | 1478                      | 0                         |   0                       |   0                       |    0                      |  2687                     |    0                      |  3202                     |   0                       |  6965                     |\n",
       "| 7 | Fquih Ben Salah           | locale                    | 4                         | 321753.10                 | 0.3784                    | 0                         | 3295                      |    0                      | 1756                      |  276                      | ...                       | 4041                      | 0                         |   0                       |   0                       |    0                      |  9391                     |    0                      |  1168                     |   0                       | 16820                     |\n",
       "| 9 | Khénifra                  | locale                    | 3                         | 236620.90                 | 0.4550                    | 0                         |  529                      |    0                      | 2184                      |  997                      | ...                       |    0                      | 0                         |   0                       |  76                       |  296                      |  6568                     |    0                      |   864                     |   0                       | 13484                     |\n",
       "| 11 | Khouribga                 | locale                    | 6                         | 368274.69                 | 0.3559                    | 0                         |  744                      | 2055                      | 2255                      |  972                      | ...                       |  146                      | 0                         | 248                       | 250                       |    0                      |  7157                     |    0                      |  8996                     |   0                       | 10168                     |\n",
       "| 13 | Benslimane                | locale                    | 3                         | 143113.65                 | 0.5221                    | 0                         |    0                      |    0                      |  858                      |    0                      | ...                       |   37                      | 0                         |   0                       |   0                       |    0                      | 10792                     | 6668                      |   142                     | 457                       |  2053                     |\n",
       "| 15 | Berrechid                 | locale                    | 4                         | 222106.35                 | 0.4585                    | 0                         |  216                      | 1408                      |  822                      |  196                      | ...                       |    0                      | 0                         |   0                       |   0                       |    0                      | 10664                     |    0                      |  4391                     |   0                       |  4655                     |\n",
       "| 17 | Aïn-Chock                 | locale                    | 3                         | 175047.69                 | 0.3926                    | 0                         |  115                      |   38                      | 2069                      |   34                      | ...                       |   16                      | 0                         |  58                       |   0                       |    0                      |  6981                     |    0                      |   341                     |  66                       |   548                     |\n",
       "| 19 | Aïn-Sebaâ - Hay-Mohammadi | locale                    | 4                         | 314566.28                 | 0.3033                    | 0                         |    0                      |    0                      | 2288                      |  106                      | ...                       |  148                      | 0                         |   0                       |   0                       |    0                      |  6593                     |    0                      |  5673                     |   0                       |  2068                     |\n",
       "| 21 | Al-Fida - Mers-Sultan     | locale                    | 3                         | 264268.92                 | 0.2561                    | 0                         |  142                      |  369                      | 1213                      |  342                      | ...                       |   36                      | 0                         |   0                       |   0                       |  111                      |     0                     |    0                      |   317                     |   0                       |   685                     |\n",
       "| 23 | Ben-M'sick                | locale                    | 3                         | 175272.73                 | 0.3290                    | 0                         |   57                      |  109                      |  648                      |    0                      | ...                       |    0                      | 0                         |   0                       | 685                       |    0                      |  4473                     |    0                      |  8657                     |   0                       |   426                     |\n",
       "| 25 | Casablanca - Anfa         | locale                    | 4                         | 311337.70                 | 0.3338                    | 0                         |  634                      |  554                      | 6629                      |  281                      | ...                       |    0                      | 0                         |   0                       |  77                       |  109                      |  5306                     |    0                      |   689                     | 114                       |  3477                     |\n",
       "| 27 | Hay-Hassani               | locale                    | 3                         | 213148.98                 | 0.3207                    | 0                         |   67                      |    0                      | 2262                      |  166                      | ...                       |    0                      | 0                         |   0                       |   0                       |   60                      |   765                     |    0                      |   753                     |   0                       |   609                     |\n",
       "| 29 | Moulay-Rachid             | locale                    | 3                         | 311281.87                 | 0.2612                    | 0                         |    0                      |  173                      |  946                      |   84                      | ...                       |   34                      | 0                         |   0                       |   0                       |   98                      |  6191                     |    0                      |   515                     |   0                       |   799                     |\n",
       "| 31 | Sidi-Bernoussi            | locale                    | 3                         | 325747.58                 | 0.2959                    | 0                         |   95                      |  127                      | 2208                      |  100                      | ...                       |    0                      | 0                         | 169                       |   0                       |    0                      |  3396                     |    0                      |  2821                     |   0                       |   832                     |\n",
       "| 33 | El-Jadida                 | locale                    | 6                         | 409857.82                 | 0.3943                    | 0                         |  461                      | 1261                      | 4089                      |    0                      | ...                       |  393                      | 0                         |   0                       |   0                       |    0                      |  2537                     |    0                      | 12280                     |   0                       | 10418                     |\n",
       "| 35 | Médiouna                  | locale                    | 2                         |  77569.15                 | 0.5466                    | 0                         |    0                      |    0                      |  310                      |    0                      | ...                       |    0                      | 0                         |   0                       |   0                       |    0                      |   120                     |    0                      |  6501                     |   0                       |    65                     |\n",
       "| 37 | Mohammadia                | locale                    | 3                         | 229363.06                 | 0.4026                    | 0                         |  170                      |  559                      | 1538                      |  160                      | ...                       |    0                      | 0                         |   0                       |   0                       |    0                      |     0                     |    0                      |   538                     |  63                       |  5198                     |\n",
       "| 39 | Nouaceur                  | locale                    | 3                         | 132547.91                 | 0.4748                    | 0                         |    0                      |    0                      |  416                      |    0                      | ...                       |    0                      | 0                         |   0                       |   0                       |    0                      |   717                     |    0                      |  7239                     |   0                       |   127                     |\n",
       "| 41 | Settat                    | locale                    | 6                         | 406360.90                 | 0.3860                    | 0                         | 4821                      | 1318                      | 3410                      | 2193                      | ...                       | 3431                      | 0                         |   0                       |   0                       |    0                      |  4204                     |    0                      |  9076                     |   0                       |  8875                     |\n",
       "| 43 | Sidi Bennour              | locale                    | 4                         | 254519.77                 | 0.5094                    | 0                         |  492                      |  290                      | 2984                      |  445                      | ...                       |    0                      | 0                         |   0                       |   0                       |    0                      | 12048                     |    0                      |  5338                     |   0                       |  5487                     |\n",
       "| 45 | Aousserd                  | locale                    | 2                         |   9371.04                 | 0.7671                    | 0                         |    0                      |    0                      |    6                      |    0                      | ...                       |   19                      | 0                         |   0                       |   5                       |   10                      |     0                     |    0                      |     0                     |   0                       |  1997                     |\n",
       "| 47 | Oued-Ed-Dahab             | locale                    | 2                         |  53391.86                 | 0.4959                    | 0                         |    0                      |  561                      |  163                      |  135                      | ...                       |   55                      | 0                         |   0                       |  32                       |   37                      |     0                     |    0                      |   143                     |   0                       |  2134                     |\n",
       "| 49 | Errachidia                | locale                    | 5                         | 240553.36                 | 0.5248                    | 0                         |  687                      |  232                      | 1968                      |  350                      | ...                       |    0                      | 0                         |   0                       |   0                       |    0                      |  9251                     |    0                      |  1852                     |   0                       |  7233                     |\n",
       "| 51 | Midelt                    | locale                    | 3                         | 179906.31                 | 0.3975                    | 0                         |  360                      |  456                      |  611                      | 1522                      | ...                       |   63                      | 0                         |   0                       |   0                       |    0                      | 16085                     |    0                      |   930                     |   0                       |   691                     |\n",
       "| 53 | Ouarzazate                | locale                    | 3                         | 169170.09                 | 0.4851                    | 0                         |    0                      |  395                      |  933                      | 1945                      | ...                       |  204                      | 0                         |   0                       |   0                       |    0                      |  5145                     |    0                      |  1327                     |   0                       |   712                     |\n",
       "| 55 | Tinghir                   | locale                    | 3                         | 196381.60                 | 0.4439                    | 0                         |  135                      |  102                      |  571                      |    0                      | ...                       |    0                      | 0                         |   0                       |   0                       |    0                      | 13659                     |    0                      |   653                     | 172                       |  3593                     |\n",
       "| 57 | Zagora                    | locale                    | 3                         | 157455.80                 | 0.5272                    | 0                         |  444                      |  495                      |  267                      |  124                      | ...                       |    0                      | 0                         |   0                       |   0                       |    0                      |  9542                     |    0                      |  4970                     |   0                       |  6450                     |\n",
       "| 59 | Boulemane                 | locale                    | 3                         | 111250.30                 | 0.5311                    | 0                         |   81                      |  436                      | 2853                      |  214                      | ...                       |  174                      | 0                         |   0                       |   0                       |    0                      |  3376                     |    0                      |   661                     |   0                       |   334                     |\n",
       "| ... | ... | ... | ... | ... | ... | ... | ... | ... | ... | ... |     | ... | ... | ... | ... | ... | ... | ... | ... | ... | ... |\n",
       "| 125 | Jerada                   | locale                   | 2                        |  81175.93                | 0.4457                   | 0                        |  172                     | 2296                     |  475                     |     0                    | ...                      |  36                      | 0                        |   0                      |   0                      |   0                      |     0                    |    0                     |   367                    |    0                     |  2678                    |\n",
       "| 127 | Nador                    | locale                   | 4                        | 389346.37                | 0.3143                   | 0                        |  148                     |  272                     |  934                     |     0                    | ...                      |  23                      | 0                        |  63                      |   0                      | 267                      | 12135                    |    0                     |    87                    |    0                     |  7769                    |\n",
       "| 129 | Oujda - Angad            | locale                   | 4                        | 358046.62                | 0.3345                   | 0                        |  155                     |  127                     | 2103                     |     0                    | ...                      |   0                      | 0                        |   0                      |   0                      |   0                      |  1347                    |    0                     |   186                    |    0                     |  1676                    |\n",
       "| 131 | Taourirt                 | locale                   | 2                        | 157072.34                | 0.3854                   | 0                        |  202                     |  246                     |  851                     |     0                    | ...                      | 100                      | 0                        |   0                      |   0                      |   0                      |   643                    |    0                     |  7443                    |    0                     |  1278                    |\n",
       "| 133 | El-Gharb                 | locale                   | 3                        | 196599.60                | 0.4679                   | 0                        |    0                     |  265                     |  285                     |  5848                    | ...                      |   0                      | 0                        |   0                      |   0                      |   0                      | 11930                    |    0                     |  9194                    |    0                     |  4498                    |\n",
       "| 135 | Kénitra                  | locale                   | 4                        | 422609.23                | 0.3649                   | 0                        | 6525                     |  129                     | 3324                     |     0                    | ...                      |   0                      | 0                        |   0                      | 151                      |   0                      | 10073                    |    0                     |  9727                    |  520                     |  6165                    |\n",
       "| 137 | Khémisset - Oulmès       | locale                   | 3                        | 179084.73                | 0.4292                   | 0                        |    0                     |  973                     |  863                     |  3917                    | ...                      | 157                      | 0                        | 134                      |   0                      |   0                      |  7561                    |    0                     |     0                    |    0                     |   182                    |\n",
       "| 139 | Tifelt - Rommani         | locale                   | 3                        | 170629.82                | 0.5217                   | 0                        |    0                     |    0                     |  493                     | 18163                    | ...                      |  22                      | 0                        |   0                      |   0                      |   0                      | 14789                    |    0                     |     0                    |    0                     |  4960                    |\n",
       "| 141 | Rabat - Challah          | locale                   | 3                        | 164811.50                | 0.4330                   | 0                        |    0                     |  252                     | 3085                     |   104                    | ...                      |  76                      | 0                        |   0                      |   0                      | 117                      |   649                    |    0                     |  4330                    | 1210                     |  1757                    |\n",
       "| 143 | Rabat - El Mouhit        | locale                   | 4                        | 224873.78                | 0.4171                   | 0                        |    0                     |    0                     | 8048                     |   119                    | ...                      |  83                      | 0                        |   0                      |   0                      |  85                      |  3762                    |    0                     |  1941                    |  169                     |  1109                    |\n",
       "| 145 | Salé - Al-Jadida         | locale                   | 3                        | 221013.13                | 0.3638                   | 0                        |  211                     |   98                     | 1195                     |    50                    | ...                      |  43                      | 0                        |  70                      |   0                      |   0                      |   319                    |    0                     |  3227                    |    0                     |   355                    |\n",
       "| 147 | Salé - Médina            | locale                   | 4                        | 294845.15                | 0.3654                   | 0                        |  125                     |    0                     | 2459                     |   134                    | ...                      | 120                      | 0                        |   0                      |   0                      |  88                      |  8674                    |    0                     |   351                    |    0                     |   913                    |\n",
       "| 149 | Sidi-Kacem               | locale                   | 5                        | 281094.26                | 0.4563                   | 0                        | 7631                     |  286                     | 2706                     |     0                    | ...                      |   0                      | 0                        | 286                      |   0                      |   0                      |  3599                    |    0                     |  7837                    |    0                     |  5862                    |\n",
       "| 151 | Sidi Slimane             | locale                   | 3                        | 197043.64                | 0.4454                   | 0                        |  469                     |  599                     |  818                     |   934                    | ...                      |   0                      | 0                        | 376                      |  48                      | 203                      |  4689                    |    0                     | 12536                    |    0                     | 10733                    |\n",
       "| 153 | Skhirate - Témara        | locale                   | 4                        | 272358.35                | 0.4571                   | 0                        |  265                     |  297                     | 3048                     |   511                    | ...                      |   0                      | 0                        | 185                      |   0                      |   0                      |  7247                    |    0                     | 10740                    |    0                     |  2138                    |\n",
       "| 155 | Agadir - Ida-ou-Tanane   | locale                   | 4                        | 365851.96                | 0.3213                   | 0                        |    0                     |  107                     | 3207                     |   149                    | ...                      |  86                      | 0                        |   0                      |   0                      | 107                      |  7804                    |    0                     |   220                    |    0                     |  3758                    |\n",
       "| 157 | Chtouka - Aït-Baha       | locale                   | 3                        | 191829.91                | 0.4610                   | 0                        |    0                     |    0                     | 2485                     |    73                    | ...                      | 138                      | 0                        |   0                      |   0                      |   0                      |  8128                    |    0                     |   243                    |    0                     |   730                    |\n",
       "| 159 | Inézgane - Aït-Melloul   | locale                   | 3                        | 316543.82                | 0.3208                   | 0                        |    0                     |  349                     | 1392                     |   101                    | ...                      |  40                      | 0                        |   0                      |   0                      |   0                      |   960                    |    0                     |   321                    |    0                     |  1495                    |\n",
       "| 161 | Taroudannt - Al-Janoubia | locale                   | 4                        | 298779.30                | 0.4698                   | 0                        |  138                     |  380                     |  661                     |   144                    | ...                      |  80                      | 0                        |  68                      |   0                      |   0                      | 15592                    |    0                     |   408                    |    0                     |  5403                    |\n",
       "| 163 | Taroudannt - Chamalia    | locale                   | 3                        | 208198.56                | 0.5219                   | 0                        |  239                     |  660                     |  430                     |     0                    | ...                      |  56                      | 0                        |   0                      |   0                      |   0                      | 29587                    |    0                     |  3459                    |    0                     |   515                    |\n",
       "| 165 | Tata                     | locale                   | 2                        |  79924.31                | 0.5560                   | 0                        |    0                     |    0                     |  381                     |   280                    | ...                      |   0                      | 0                        |   0                      |   0                      |   0                      | 10114                    |    0                     |   231                    |    0                     |   657                    |\n",
       "| 167 | Tiznit                   | locale                   | 2                        | 145264.36                | 0.4264                   | 0                        |    0                     |  130                     |  474                     |   200                    | ...                      |   0                      | 0                        |   0                      |   0                      |  57                      | 14027                    |    0                     |     0                    |    0                     |  5842                    |\n",
       "| 169 | Al-Hoceïma               | locale                   | 4                        | 254720.78                | 0.4280                   | 0                        |    0                     |  133                     |  326                     |   233                    | ...                      |   0                      | 0                        |   0                      |   0                      |   0                      |  5941                    |    0                     |     0                    |    0                     |  7525                    |\n",
       "| 171 | Chefchaouen              | locale                   | 4                        | 228506.69                | 0.5238                   | 0                        |  768                     | 5780                     |  427                     |  1336                    | ...                      |   0                      | 0                        |   0                      |   0                      |   0                      |  3750                    |    0                     | 10435                    |    0                     |  7954                    |\n",
       "| 173 | Fahs - Anjra             | locale                   | 2                        |  43813.87                | 0.5799                   | 0                        |  524                     |   17                     |   79                     |     0                    | ...                      |   0                      | 0                        |   0                      |   0                      |   0                      |  4819                    |    0                     |     0                    |    0                     |   161                    |\n",
       "| 175 | Larache                  | locale                   | 4                        | 257697.12                | 0.4396                   | 0                        |  152                     | 1148                     | 1279                     |     0                    | ...                      |   0                      | 0                        |   0                      |   0                      |   0                      |  6568                    |    0                     | 10633                    |    0                     |  4994                    |\n",
       "| 177 | M'Diq - Fnideq           | locale                   | 2                        | 112919.08                | 0.3968                   | 0                        |    0                     |   52                     |  400                     |    83                    | ...                      |  22                      | 0                        |   0                      |   0                      |   0                      |     0                    |    0                     |  1309                    |    0                     |  1588                    |\n",
       "| 179 | Ouezzane                 | locale                   | 3                        | 161256.28                | 0.5976                   | 0                        |    0                     |  834                     |  599                     |   385                    | ...                      |   0                      | 0                        |  82                      |   0                      |   0                      |  7513                    |    0                     |  3965                    |    0                     | 11190                    |\n",
       "| 181 | Tanger - Assilah         | locale                   | 5                        | 448726.09                | 0.3657                   | 0                        |  197                     |    0                     | 2668                     |     0                    | ...                      |   0                      | 0                        |  86                      |   0                      |   0                      |  6525                    |    0                     | 10636                    |    0                     |   748                    |\n",
       "| 183 | Tétouan                  | locale                   | 5                        | 299668.17                | 0.3852                   | 0                        |    0                     |    0                     | 2478                     |   282                    | ...                      |   0                      | 0                        |   0                      |   0                      |  99                      | 16328                    | 2988                     |    79                    |    0                     | 10639                    |\n",
       "\n"
      ],
      "text/plain": [
       "    circonscription           typeListe nSieges nInscrits txParticipation\n",
       "1   Azilal - Demnate          locale    3       130422.10 0.5109         \n",
       "3   Bzou - Ouaouizaght        locale    3       162654.31 0.5137         \n",
       "5   Béni-Mellal               locale    6       327277.36 0.4142         \n",
       "7   Fquih Ben Salah           locale    4       321753.10 0.3784         \n",
       "9   Khénifra                  locale    3       236620.90 0.4550         \n",
       "11  Khouribga                 locale    6       368274.69 0.3559         \n",
       "13  Benslimane                locale    3       143113.65 0.5221         \n",
       "15  Berrechid                 locale    4       222106.35 0.4585         \n",
       "17  Aïn-Chock                 locale    3       175047.69 0.3926         \n",
       "19  Aïn-Sebaâ - Hay-Mohammadi locale    4       314566.28 0.3033         \n",
       "21  Al-Fida - Mers-Sultan     locale    3       264268.92 0.2561         \n",
       "23  Ben-M'sick                locale    3       175272.73 0.3290         \n",
       "25  Casablanca - Anfa         locale    4       311337.70 0.3338         \n",
       "27  Hay-Hassani               locale    3       213148.98 0.3207         \n",
       "29  Moulay-Rachid             locale    3       311281.87 0.2612         \n",
       "31  Sidi-Bernoussi            locale    3       325747.58 0.2959         \n",
       "33  El-Jadida                 locale    6       409857.82 0.3943         \n",
       "35  Médiouna                  locale    2        77569.15 0.5466         \n",
       "37  Mohammadia                locale    3       229363.06 0.4026         \n",
       "39  Nouaceur                  locale    3       132547.91 0.4748         \n",
       "41  Settat                    locale    6       406360.90 0.3860         \n",
       "43  Sidi Bennour              locale    4       254519.77 0.5094         \n",
       "45  Aousserd                  locale    2         9371.04 0.7671         \n",
       "47  Oued-Ed-Dahab             locale    2        53391.86 0.4959         \n",
       "49  Errachidia                locale    5       240553.36 0.5248         \n",
       "51  Midelt                    locale    3       179906.31 0.3975         \n",
       "53  Ouarzazate                locale    3       169170.09 0.4851         \n",
       "55  Tinghir                   locale    3       196381.60 0.4439         \n",
       "57  Zagora                    locale    3       157455.80 0.5272         \n",
       "59  Boulemane                 locale    3       111250.30 0.5311         \n",
       "... ...                       ...       ...     ...       ...            \n",
       "125 Jerada                    locale    2        81175.93 0.4457         \n",
       "127 Nador                     locale    4       389346.37 0.3143         \n",
       "129 Oujda - Angad             locale    4       358046.62 0.3345         \n",
       "131 Taourirt                  locale    2       157072.34 0.3854         \n",
       "133 El-Gharb                  locale    3       196599.60 0.4679         \n",
       "135 Kénitra                   locale    4       422609.23 0.3649         \n",
       "137 Khémisset - Oulmès        locale    3       179084.73 0.4292         \n",
       "139 Tifelt - Rommani          locale    3       170629.82 0.5217         \n",
       "141 Rabat - Challah           locale    3       164811.50 0.4330         \n",
       "143 Rabat - El Mouhit         locale    4       224873.78 0.4171         \n",
       "145 Salé - Al-Jadida          locale    3       221013.13 0.3638         \n",
       "147 Salé - Médina             locale    4       294845.15 0.3654         \n",
       "149 Sidi-Kacem                locale    5       281094.26 0.4563         \n",
       "151 Sidi Slimane              locale    3       197043.64 0.4454         \n",
       "153 Skhirate - Témara         locale    4       272358.35 0.4571         \n",
       "155 Agadir - Ida-ou-Tanane    locale    4       365851.96 0.3213         \n",
       "157 Chtouka - Aït-Baha        locale    3       191829.91 0.4610         \n",
       "159 Inézgane - Aït-Melloul    locale    3       316543.82 0.3208         \n",
       "161 Taroudannt - Al-Janoubia  locale    4       298779.30 0.4698         \n",
       "163 Taroudannt - Chamalia     locale    3       208198.56 0.5219         \n",
       "165 Tata                      locale    2        79924.31 0.5560         \n",
       "167 Tiznit                    locale    2       145264.36 0.4264         \n",
       "169 Al-Hoceïma                locale    4       254720.78 0.4280         \n",
       "171 Chefchaouen               locale    4       228506.69 0.5238         \n",
       "173 Fahs - Anjra              locale    2        43813.87 0.5799         \n",
       "175 Larache                   locale    4       257697.12 0.4396         \n",
       "177 M'Diq - Fnideq            locale    2       112919.08 0.3968         \n",
       "179 Ouezzane                  locale    3       161256.28 0.5976         \n",
       "181 Tanger - Assilah          locale    5       448726.09 0.3657         \n",
       "183 Tétouan                   locale    5       299668.17 0.3852         \n",
       "    pctNuls AHD  FFD  FGD  MDS   ... PRD  PRV PSD PT  PUD  RNI   SAP  UC   \n",
       "1   0          0  174  647  324  ... 1465 0     0   0 7912  4041    0     0\n",
       "3   0          0  531 1210  157  ...  343 0     0 109    0  8199    0  7530\n",
       "5   0       1891  463 4860  164  ... 1478 0     0   0    0  2687    0  3202\n",
       "7   0       3295    0 1756  276  ... 4041 0     0   0    0  9391    0  1168\n",
       "9   0        529    0 2184  997  ...    0 0     0  76  296  6568    0   864\n",
       "11  0        744 2055 2255  972  ...  146 0   248 250    0  7157    0  8996\n",
       "13  0          0    0  858    0  ...   37 0     0   0    0 10792 6668   142\n",
       "15  0        216 1408  822  196  ...    0 0     0   0    0 10664    0  4391\n",
       "17  0        115   38 2069   34  ...   16 0    58   0    0  6981    0   341\n",
       "19  0          0    0 2288  106  ...  148 0     0   0    0  6593    0  5673\n",
       "21  0        142  369 1213  342  ...   36 0     0   0  111     0    0   317\n",
       "23  0         57  109  648    0  ...    0 0     0 685    0  4473    0  8657\n",
       "25  0        634  554 6629  281  ...    0 0     0  77  109  5306    0   689\n",
       "27  0         67    0 2262  166  ...    0 0     0   0   60   765    0   753\n",
       "29  0          0  173  946   84  ...   34 0     0   0   98  6191    0   515\n",
       "31  0         95  127 2208  100  ...    0 0   169   0    0  3396    0  2821\n",
       "33  0        461 1261 4089    0  ...  393 0     0   0    0  2537    0 12280\n",
       "35  0          0    0  310    0  ...    0 0     0   0    0   120    0  6501\n",
       "37  0        170  559 1538  160  ...    0 0     0   0    0     0    0   538\n",
       "39  0          0    0  416    0  ...    0 0     0   0    0   717    0  7239\n",
       "41  0       4821 1318 3410 2193  ... 3431 0     0   0    0  4204    0  9076\n",
       "43  0        492  290 2984  445  ...    0 0     0   0    0 12048    0  5338\n",
       "45  0          0    0    6    0  ...   19 0     0   5   10     0    0     0\n",
       "47  0          0  561  163  135  ...   55 0     0  32   37     0    0   143\n",
       "49  0        687  232 1968  350  ...    0 0     0   0    0  9251    0  1852\n",
       "51  0        360  456  611 1522  ...   63 0     0   0    0 16085    0   930\n",
       "53  0          0  395  933 1945  ...  204 0     0   0    0  5145    0  1327\n",
       "55  0        135  102  571    0  ...    0 0     0   0    0 13659    0   653\n",
       "57  0        444  495  267  124  ...    0 0     0   0    0  9542    0  4970\n",
       "59  0         81  436 2853  214  ...  174 0     0   0    0  3376    0   661\n",
       "... ...     ...  ...  ...  ...       ...  ... ... ... ...  ...   ...  ...  \n",
       "125 0        172 2296  475     0 ...  36  0     0   0   0      0    0   367\n",
       "127 0        148  272  934     0 ...  23  0    63   0 267  12135    0    87\n",
       "129 0        155  127 2103     0 ...   0  0     0   0   0   1347    0   186\n",
       "131 0        202  246  851     0 ... 100  0     0   0   0    643    0  7443\n",
       "133 0          0  265  285  5848 ...   0  0     0   0   0  11930    0  9194\n",
       "135 0       6525  129 3324     0 ...   0  0     0 151   0  10073    0  9727\n",
       "137 0          0  973  863  3917 ... 157  0   134   0   0   7561    0     0\n",
       "139 0          0    0  493 18163 ...  22  0     0   0   0  14789    0     0\n",
       "141 0          0  252 3085   104 ...  76  0     0   0 117    649    0  4330\n",
       "143 0          0    0 8048   119 ...  83  0     0   0  85   3762    0  1941\n",
       "145 0        211   98 1195    50 ...  43  0    70   0   0    319    0  3227\n",
       "147 0        125    0 2459   134 ... 120  0     0   0  88   8674    0   351\n",
       "149 0       7631  286 2706     0 ...   0  0   286   0   0   3599    0  7837\n",
       "151 0        469  599  818   934 ...   0  0   376  48 203   4689    0 12536\n",
       "153 0        265  297 3048   511 ...   0  0   185   0   0   7247    0 10740\n",
       "155 0          0  107 3207   149 ...  86  0     0   0 107   7804    0   220\n",
       "157 0          0    0 2485    73 ... 138  0     0   0   0   8128    0   243\n",
       "159 0          0  349 1392   101 ...  40  0     0   0   0    960    0   321\n",
       "161 0        138  380  661   144 ...  80  0    68   0   0  15592    0   408\n",
       "163 0        239  660  430     0 ...  56  0     0   0   0  29587    0  3459\n",
       "165 0          0    0  381   280 ...   0  0     0   0   0  10114    0   231\n",
       "167 0          0  130  474   200 ...   0  0     0   0  57  14027    0     0\n",
       "169 0          0  133  326   233 ...   0  0     0   0   0   5941    0     0\n",
       "171 0        768 5780  427  1336 ...   0  0     0   0   0   3750    0 10435\n",
       "173 0        524   17   79     0 ...   0  0     0   0   0   4819    0     0\n",
       "175 0        152 1148 1279     0 ...   0  0     0   0   0   6568    0 10633\n",
       "177 0          0   52  400    83 ...  22  0     0   0   0      0    0  1309\n",
       "179 0          0  834  599   385 ...   0  0    82   0   0   7513    0  3965\n",
       "181 0        197    0 2668     0 ...   0  0    86   0   0   6525    0 10636\n",
       "183 0          0    0 2478   282 ...   0  0     0   0  99  16328 2988    79\n",
       "    UMD  USFP \n",
       "1     0   2559\n",
       "3     0   3773\n",
       "5     0   6965\n",
       "7     0  16820\n",
       "9     0  13484\n",
       "11    0  10168\n",
       "13  457   2053\n",
       "15    0   4655\n",
       "17   66    548\n",
       "19    0   2068\n",
       "21    0    685\n",
       "23    0    426\n",
       "25  114   3477\n",
       "27    0    609\n",
       "29    0    799\n",
       "31    0    832\n",
       "33    0  10418\n",
       "35    0     65\n",
       "37   63   5198\n",
       "39    0    127\n",
       "41    0   8875\n",
       "43    0   5487\n",
       "45    0   1997\n",
       "47    0   2134\n",
       "49    0   7233\n",
       "51    0    691\n",
       "53    0    712\n",
       "55  172   3593\n",
       "57    0   6450\n",
       "59    0    334\n",
       "... ...  ...  \n",
       "125    0  2678\n",
       "127    0  7769\n",
       "129    0  1676\n",
       "131    0  1278\n",
       "133    0  4498\n",
       "135  520  6165\n",
       "137    0   182\n",
       "139    0  4960\n",
       "141 1210  1757\n",
       "143  169  1109\n",
       "145    0   355\n",
       "147    0   913\n",
       "149    0  5862\n",
       "151    0 10733\n",
       "153    0  2138\n",
       "155    0  3758\n",
       "157    0   730\n",
       "159    0  1495\n",
       "161    0  5403\n",
       "163    0   515\n",
       "165    0   657\n",
       "167    0  5842\n",
       "169    0  7525\n",
       "171    0  7954\n",
       "173    0   161\n",
       "175    0  4994\n",
       "177    0  1588\n",
       "179    0 11190\n",
       "181    0   748\n",
       "183    0 10639"
      ]
     },
     "metadata": {},
     "output_type": "display_data"
    }
   ],
   "source": [
    "elections2016_local"
   ]
  },
  {
   "cell_type": "code",
   "execution_count": 15,
   "id": "8e84e262",
   "metadata": {},
   "outputs": [],
   "source": [
    "for (j in 1:92) {for (i in 7:34) {elections2016_local[j,i]=elections2016_local[j,i]/(elections2016_local$nInscrits[j]/elections2016_local$nSieges[j])}}"
   ]
  },
  {
   "cell_type": "code",
   "execution_count": 16,
   "id": "47d739ef",
   "metadata": {},
   "outputs": [
    {
     "data": {
      "text/html": [
       "<ol class=list-inline>\n",
       "\t<li>92</li>\n",
       "\t<li>34</li>\n",
       "</ol>\n"
      ],
      "text/latex": [
       "\\begin{enumerate*}\n",
       "\\item 92\n",
       "\\item 34\n",
       "\\end{enumerate*}\n"
      ],
      "text/markdown": [
       "1. 92\n",
       "2. 34\n",
       "\n",
       "\n"
      ],
      "text/plain": [
       "[1] 92 34"
      ]
     },
     "metadata": {},
     "output_type": "display_data"
    }
   ],
   "source": [
    "dim(elections2016_local)"
   ]
  },
  {
   "cell_type": "code",
   "execution_count": 17,
   "id": "60119733",
   "metadata": {},
   "outputs": [
    {
     "data": {
      "text/html": [
       "91"
      ],
      "text/latex": [
       "91"
      ],
      "text/markdown": [
       "91"
      ],
      "text/plain": [
       "[1] 91"
      ]
     },
     "metadata": {},
     "output_type": "display_data"
    }
   ],
   "source": [
    "which.max(elections2016_local$PJD)"
   ]
  },
  {
   "cell_type": "code",
   "execution_count": 18,
   "id": "5cfad862",
   "metadata": {},
   "outputs": [
    {
     "data": {
      "text/html": [
       "0.671656958603926"
      ],
      "text/latex": [
       "0.671656958603926"
      ],
      "text/markdown": [
       "0.671656958603926"
      ],
      "text/plain": [
       "[1] 0.671657"
      ]
     },
     "metadata": {},
     "output_type": "display_data"
    }
   ],
   "source": [
    "elections2016_local$PJD[91]"
   ]
  },
  {
   "cell_type": "code",
   "execution_count": 19,
   "id": "a3722e41",
   "metadata": {},
   "outputs": [],
   "source": [
    "elections2016_locall<-select(elections2016_local,7:34)"
   ]
  },
  {
   "cell_type": "code",
   "execution_count": 20,
   "id": "e0ddaf4c",
   "metadata": {},
   "outputs": [
    {
     "data": {
      "text/plain": [
       "      AHD                FFD                 FGD                MDS          \n",
       " Min.   :0.000000   Min.   :0.0000000   Min.   :0.000000   Min.   :0.000000  \n",
       " 1st Qu.:0.000000   1st Qu.:0.0004884   1st Qu.:0.008709   1st Qu.:0.000000  \n",
       " Median :0.001211   Median :0.0035054   Median :0.014843   Median :0.002195  \n",
       " Mean   :0.008609   Mean   :0.0108578   Mean   :0.024129   Mean   :0.013168  \n",
       " 3rd Qu.:0.004575   3rd Qu.:0.0110671   3rd Qu.:0.031982   3rd Qu.:0.007046  \n",
       " Max.   :0.179060   Max.   :0.1011787   Max.   :0.143156   Max.   :0.319340  \n",
       "       MP                NEO                PAM              PAN          \n",
       " Min.   :0.000000   Min.   :0.000000   Min.   :0.0000   Min.   :0.000000  \n",
       " 1st Qu.:0.003631   1st Qu.:0.000000   1st Qu.:0.1399   1st Qu.:0.000000  \n",
       " Median :0.051146   Median :0.000000   Median :0.2007   Median :0.000000  \n",
       " Mean   :0.076002   Mean   :0.003470   Mean   :0.2317   Mean   :0.001799  \n",
       " 3rd Qu.:0.122633   3rd Qu.:0.003194   3rd Qu.:0.2903   3rd Qu.:0.000000  \n",
       " Max.   :0.300975   Max.   :0.090974   Max.   :0.6418   Max.   :0.112741  \n",
       "      PCS                PDI                PDN                  PE         \n",
       " Min.   :0.000000   Min.   :0.000000   Min.   :0.000e+00   Min.   :0.00000  \n",
       " 1st Qu.:0.000000   1st Qu.:0.000000   1st Qu.:0.000e+00   1st Qu.:0.00000  \n",
       " Median :0.000000   Median :0.000000   Median :0.000e+00   Median :0.00000  \n",
       " Mean   :0.001069   Mean   :0.002601   Mean   :8.543e-04   Mean   :0.00140  \n",
       " 3rd Qu.:0.001307   3rd Qu.:0.001092   3rd Qu.:7.517e-05   3rd Qu.:0.00139  \n",
       " Max.   :0.020333   Max.   :0.112363   Max.   :4.697e-02   Max.   :0.02475  \n",
       "      PEDD               PGV                  PI                PJD         \n",
       " Min.   :0.000000   Min.   :0.0000000   Min.   :0.003959   Min.   :0.02495  \n",
       " 1st Qu.:0.000000   1st Qu.:0.0000000   1st Qu.:0.034737   1st Qu.:0.15514  \n",
       " Median :0.000000   Median :0.0000000   Median :0.111261   Median :0.24240  \n",
       " Mean   :0.006049   Mean   :0.0028186   Mean   :0.125458   Mean   :0.26471  \n",
       " 3rd Qu.:0.002714   3rd Qu.:0.0009641   3rd Qu.:0.170948   3rd Qu.:0.34768  \n",
       " Max.   :0.100553   Max.   :0.1782765   Max.   :0.544807   Max.   :0.67166  \n",
       "      PLJS               PPS                PRD                PRV   \n",
       " Min.   :0.000000   Min.   :0.000000   Min.   :0.000000   Min.   :0  \n",
       " 1st Qu.:0.000000   1st Qu.:0.007196   1st Qu.:0.000000   1st Qu.:0  \n",
       " Median :0.000000   Median :0.026451   Median :0.000000   Median :0  \n",
       " Mean   :0.001947   Mean   :0.051350   Mean   :0.002879   Mean   :0  \n",
       " 3rd Qu.:0.000000   3rd Qu.:0.082447   3rd Qu.:0.001185   3rd Qu.:0  \n",
       " Max.   :0.126088   Max.   :0.339299   Max.   :0.050659   Max.   :0  \n",
       "      PSD                  PT                 PUD                 RNI         \n",
       " Min.   :0.0000000   Min.   :0.0000000   Min.   :0.0000000   Min.   :0.00000  \n",
       " 1st Qu.:0.0000000   1st Qu.:0.0000000   1st Qu.:0.0000000   1st Qu.:0.03567  \n",
       " Median :0.0000000   Median :0.0000000   Median :0.0000000   Median :0.08765  \n",
       " Mean   :0.0004786   Mean   :0.0005757   Mean   :0.0039994   Mean   :0.09755  \n",
       " 3rd Qu.:0.0000000   3rd Qu.:0.0000000   3rd Qu.:0.0006995   3rd Qu.:0.13250  \n",
       " Max.   :0.0078246   Max.   :0.0196004   Max.   :0.1819937   Max.   :0.42633  \n",
       "      SAP                 UC                UMD                 USFP        \n",
       " Min.   :0.000000   Min.   :0.000000   Min.   :0.0000000   Min.   :0.00000  \n",
       " 1st Qu.:0.000000   1st Qu.:0.001958   1st Qu.:0.0000000   1st Qu.:0.01066  \n",
       " Median :0.000000   Median :0.014371   Median :0.0000000   Median :0.04385  \n",
       " Mean   :0.002061   Mean   :0.047116   Mean   :0.0009111   Mean   :0.07132  \n",
       " 3rd Qu.:0.000000   3rd Qu.:0.084140   3rd Qu.:0.0000000   3rd Qu.:0.11058  \n",
       " Max.   :0.139777   Max.   :0.190861   Max.   :0.0294745   Max.   :0.42621  "
      ]
     },
     "metadata": {},
     "output_type": "display_data"
    }
   ],
   "source": [
    "summary(elections2016_locall)"
   ]
  },
  {
   "cell_type": "code",
   "execution_count": null,
   "id": "72d355f9",
   "metadata": {},
   "outputs": [],
   "source": []
  },
  {
   "cell_type": "code",
   "execution_count": 21,
   "id": "cd67fbfa",
   "metadata": {},
   "outputs": [],
   "source": [
    "elections2016_localr<- matrix(0,nrow = 92,ncol = 28)"
   ]
  },
  {
   "cell_type": "code",
   "execution_count": 22,
   "id": "499cae7c",
   "metadata": {
    "scrolled": true
   },
   "outputs": [
    {
     "name": "stdout",
     "output_type": "stream",
     "text": [
      "'data.frame':\t92 obs. of  28 variables:\n",
      " $ AHD : num  0 0 0.03467 0.04096 0.00671 ...\n",
      " $ FFD : num  0.004 0.00979 0.00849 0 0 ...\n",
      " $ FGD : num  0.0149 0.0223 0.0891 0.0218 0.0277 ...\n",
      " $ MDS : num  0.00745 0.0029 0.00301 0.00343 0.01264 ...\n",
      " $ MP  : num  0.0159 0.1145 0.1487 0.2085 0.1547 ...\n",
      " $ NEO : num  0.091 0 0 0 0 ...\n",
      " $ PAM : num  0.282 0.264 0.474 0.181 0.14 ...\n",
      " $ PAN : num  0 0 0 0 0 ...\n",
      " $ PCS : num  0 0 0 0 0 ...\n",
      " $ PDI : num  0 0.00232 0.11236 0 0 ...\n",
      " $ PDN : num  0 0.0017 0 0 0 ...\n",
      " $ PE  : num  0.00357 0.0028 0.02475 0 0 ...\n",
      " $ PEDD: num  0 0.09652 0.00552 0 0.06067 ...\n",
      " $ PGV : num  0 0.00926 0.00332 0 0.001 ...\n",
      " $ PI  : num  0.1023 0.1143 0.1558 0.0222 0.1476 ...\n",
      " $ PJD : num  0.2005 0.0868 0.3981 0.1256 0.1472 ...\n",
      " $ PLJS: num  0 0 0 0.000957 0 ...\n",
      " $ PPS : num  0.0836 0.0854 0.0448 0.0382 0.037 ...\n",
      " $ PRD : num  0.0337 0.00633 0.0271 0.05024 0 ...\n",
      " $ PRV : num  0 0 0 0 0 0 0 0 0 0 ...\n",
      " $ PSD : num  0 0 0 0 0 ...\n",
      " $ PT  : num  0 0.00201 0 0 0.000964 ...\n",
      " $ PUD : num  0.18199 0 0 0 0.00375 ...\n",
      " $ RNI : num  0.093 0.1512 0.0493 0.1167 0.0833 ...\n",
      " $ SAP : num  0 0 0 0 0 ...\n",
      " $ UC  : num  0 0.1389 0.0587 0.0145 0.011 ...\n",
      " $ UMD : num  0 0 0 0 0 ...\n",
      " $ USFP: num  0.0589 0.0696 0.1277 0.2091 0.171 ...\n"
     ]
    }
   ],
   "source": [
    "str(elections2016_locall)"
   ]
  },
  {
   "cell_type": "code",
   "execution_count": 23,
   "id": "e0f9f5ab",
   "metadata": {},
   "outputs": [
    {
     "name": "stdout",
     "output_type": "stream",
     "text": [
      " num [1:92, 1:28] 0 0 0 0 0 0 0 0 0 0 ...\n"
     ]
    }
   ],
   "source": [
    "str(elections2016_localr)"
   ]
  },
  {
   "cell_type": "code",
   "execution_count": null,
   "id": "ec4ff083",
   "metadata": {},
   "outputs": [],
   "source": []
  },
  {
   "cell_type": "code",
   "execution_count": 24,
   "id": "47816ea5",
   "metadata": {},
   "outputs": [],
   "source": [
    "for (i in 1:92){c = elections2016_locall[i,]\n",
    "        b<-sort(c,decreasing = TRUE)\n",
    "                  for (j in 1:elections2016_local$nSieges[i]){\n",
    "                    for (t in 1:28){\n",
    "                      if(c[t]==b[j] ) {elections2016_localr[i,t]<-1}\n",
    "                    }\n",
    "             \n",
    "             }\n",
    "                    \n",
    "}\n",
    "\n",
    "\n"
   ]
  },
  {
   "cell_type": "code",
   "execution_count": 25,
   "id": "abb33fd6",
   "metadata": {},
   "outputs": [
    {
     "data": {
      "text/html": [
       "305"
      ],
      "text/latex": [
       "305"
      ],
      "text/markdown": [
       "305"
      ],
      "text/plain": [
       "[1] 305"
      ]
     },
     "metadata": {},
     "output_type": "display_data"
    }
   ],
   "source": [
    "sum(elections2016_localr)"
   ]
  },
  {
   "cell_type": "code",
   "execution_count": null,
   "id": "e467eb8b",
   "metadata": {},
   "outputs": [],
   "source": []
  },
  {
   "cell_type": "code",
   "execution_count": null,
   "id": "c7f8a022",
   "metadata": {},
   "outputs": [],
   "source": []
  },
  {
   "cell_type": "code",
   "execution_count": null,
   "id": "2d293abf",
   "metadata": {},
   "outputs": [],
   "source": []
  },
  {
   "cell_type": "code",
   "execution_count": null,
   "id": "3db8df96",
   "metadata": {},
   "outputs": [],
   "source": []
  },
  {
   "cell_type": "code",
   "execution_count": 26,
   "id": "64fbf678",
   "metadata": {},
   "outputs": [
    {
     "data": {
      "text/html": [
       "<ol class=list-inline>\n",
       "\t<li>92</li>\n",
       "\t<li>28</li>\n",
       "</ol>\n"
      ],
      "text/latex": [
       "\\begin{enumerate*}\n",
       "\\item 92\n",
       "\\item 28\n",
       "\\end{enumerate*}\n"
      ],
      "text/markdown": [
       "1. 92\n",
       "2. 28\n",
       "\n",
       "\n"
      ],
      "text/plain": [
       "[1] 92 28"
      ]
     },
     "metadata": {},
     "output_type": "display_data"
    }
   ],
   "source": [
    "dim(elections2016_localr)"
   ]
  },
  {
   "cell_type": "code",
   "execution_count": null,
   "id": "ecd3f60f",
   "metadata": {},
   "outputs": [],
   "source": []
  },
  {
   "cell_type": "code",
   "execution_count": null,
   "id": "3653f963",
   "metadata": {},
   "outputs": [],
   "source": []
  },
  {
   "cell_type": "markdown",
   "id": "5a528ea8",
   "metadata": {},
   "source": [
    "# المقاعد الجهوية\n"
   ]
  },
  {
   "cell_type": "code",
   "execution_count": 27,
   "id": "3b7cde98",
   "metadata": {},
   "outputs": [
    {
     "data": {
      "text/html": [
       "<ol class=list-inline>\n",
       "\t<li>92</li>\n",
       "\t<li>43</li>\n",
       "</ol>\n"
      ],
      "text/latex": [
       "\\begin{enumerate*}\n",
       "\\item 92\n",
       "\\item 43\n",
       "\\end{enumerate*}\n"
      ],
      "text/markdown": [
       "1. 92\n",
       "2. 43\n",
       "\n",
       "\n"
      ],
      "text/plain": [
       "[1] 92 43"
      ]
     },
     "metadata": {},
     "output_type": "display_data"
    }
   ],
   "source": [
    "dim(elections2016_nationale)\n",
    "\n"
   ]
  },
  {
   "cell_type": "code",
   "execution_count": 28,
   "id": "d52c1cd1",
   "metadata": {},
   "outputs": [],
   "source": [
    "elections2016_nationale<-select(elections2016_nationale, -c(wilaya:typeListe))"
   ]
  },
  {
   "cell_type": "code",
   "execution_count": 29,
   "id": "3ab24227",
   "metadata": {},
   "outputs": [],
   "source": [
    "elections2016_nationale<-select(elections2016_nationale, -c(idRegion:idCirconscription))"
   ]
  },
  {
   "cell_type": "code",
   "execution_count": 30,
   "id": "94f75e43",
   "metadata": {},
   "outputs": [],
   "source": [
    "\n",
    "elections2016_nationale<-select(elections2016_nationale, -pctNuls)"
   ]
  },
  {
   "cell_type": "code",
   "execution_count": 31,
   "id": "cf9ee3bb",
   "metadata": {},
   "outputs": [],
   "source": [
    "?aggregate"
   ]
  },
  {
   "cell_type": "markdown",
   "id": "3b2323a8",
   "metadata": {},
   "source": [
    "regunal2016<-(elections2016_nationale %>% \n",
    "group_by(region) %>% summarise_all(.funs = ,na.rm=T))"
   ]
  },
  {
   "cell_type": "code",
   "execution_count": 33,
   "id": "1d473190",
   "metadata": {},
   "outputs": [],
   "source": [
    "tb<-elections2016_nationale"
   ]
  },
  {
   "cell_type": "code",
   "execution_count": 34,
   "id": "6bd5c9c6",
   "metadata": {},
   "outputs": [
    {
     "data": {
      "text/html": [
       "<ol class=list-inline>\n",
       "\t<li>92</li>\n",
       "\t<li>32</li>\n",
       "</ol>\n"
      ],
      "text/latex": [
       "\\begin{enumerate*}\n",
       "\\item 92\n",
       "\\item 32\n",
       "\\end{enumerate*}\n"
      ],
      "text/markdown": [
       "1. 92\n",
       "2. 32\n",
       "\n",
       "\n"
      ],
      "text/plain": [
       "[1] 92 32"
      ]
     },
     "metadata": {},
     "output_type": "display_data"
    }
   ],
   "source": [
    "dim(tb)"
   ]
  },
  {
   "cell_type": "markdown",
   "id": "53b8210b",
   "metadata": {},
   "source": [
    "tb<-elections2016_nationale[, lapply(.SD, sum), by = elections2016_nationale$region]"
   ]
  },
  {
   "cell_type": "code",
   "execution_count": null,
   "id": "401b7a0f",
   "metadata": {},
   "outputs": [],
   "source": []
  },
  {
   "cell_type": "code",
   "execution_count": null,
   "id": "e899b30d",
   "metadata": {},
   "outputs": [],
   "source": []
  },
  {
   "cell_type": "code",
   "execution_count": null,
   "id": "eb23dce3",
   "metadata": {},
   "outputs": [],
   "source": []
  },
  {
   "cell_type": "code",
   "execution_count": null,
   "id": "85125cb2",
   "metadata": {},
   "outputs": [],
   "source": []
  },
  {
   "cell_type": "code",
   "execution_count": null,
   "id": "ac1ad1c9",
   "metadata": {},
   "outputs": [],
   "source": []
  },
  {
   "cell_type": "markdown",
   "id": "8c74fc21",
   "metadata": {},
   "source": [
    "جمع الاصوات المحصل عليها في كل ولاية وعدد المسجلين"
   ]
  },
  {
   "cell_type": "code",
   "execution_count": 35,
   "id": "9ea1e28f",
   "metadata": {},
   "outputs": [
    {
     "name": "stderr",
     "output_type": "stream",
     "text": [
      "------------------------------------------------------------------------------\n",
      "You have loaded plyr after dplyr - this is likely to cause problems.\n",
      "If you need functions from both plyr and dplyr, please load plyr first, then dplyr:\n",
      "library(plyr); library(dplyr)\n",
      "------------------------------------------------------------------------------\n",
      "\n",
      "Attaching package: ‘plyr’\n",
      "\n",
      "The following objects are masked from ‘package:dplyr’:\n",
      "\n",
      "    arrange, count, desc, failwith, id, mutate, rename, summarise,\n",
      "    summarize\n",
      "\n"
     ]
    }
   ],
   "source": [
    "library(plyr)\n",
    "df<-ddply(elections2016_nationale,\"region\",numcolwise(sum))"
   ]
  },
  {
   "cell_type": "code",
   "execution_count": 36,
   "id": "50191ee6",
   "metadata": {},
   "outputs": [
    {
     "data": {
      "text/html": [
       "<ol class=list-inline>\n",
       "\t<li>12</li>\n",
       "\t<li>32</li>\n",
       "</ol>\n"
      ],
      "text/latex": [
       "\\begin{enumerate*}\n",
       "\\item 12\n",
       "\\item 32\n",
       "\\end{enumerate*}\n"
      ],
      "text/markdown": [
       "1. 12\n",
       "2. 32\n",
       "\n",
       "\n"
      ],
      "text/plain": [
       "[1] 12 32"
      ]
     },
     "metadata": {},
     "output_type": "display_data"
    }
   ],
   "source": [
    "dim(df)"
   ]
  },
  {
   "cell_type": "code",
   "execution_count": null,
   "id": "1ff173a6",
   "metadata": {},
   "outputs": [],
   "source": []
  },
  {
   "cell_type": "code",
   "execution_count": 37,
   "id": "f9bcbb59",
   "metadata": {},
   "outputs": [
    {
     "data": {
      "text/plain": [
       "                    region     nSieges    nInscrits       txParticipation\n",
       " Beni-Mellal - Khénifra:1   Min.   :0   Min.   :  63280   Min.   :1.263  \n",
       " Casablanca - Settat   :1   1st Qu.:0   1st Qu.: 780249   1st Qu.:2.541  \n",
       " Dakhla - Oued Ed-Dahab:1   Median :0   Median :1595213   Median :3.176  \n",
       " Drâa - Tafilalet      :1   Mean   :0   Mean   :1623391   Mean   :3.454  \n",
       " Fès - Meknès          :1   3rd Qu.:0   3rd Qu.:2324371   3rd Qu.:4.467  \n",
       " Guelmim - Oued-Noun   :1   Max.   :0   Max.   :3972502   Max.   :6.187  \n",
       " (Other)               :6                                                \n",
       "      AHD               FFD            FGD             MDS       \n",
       " Min.   :    7.0   Min.   : 476   Min.   :  261   Min.   :  121  \n",
       " 1st Qu.:  427.8   1st Qu.:1383   1st Qu.: 5042   1st Qu.: 1168  \n",
       " Median : 1881.0   Median :2972   Median :11310   Median : 3269  \n",
       " Mean   : 4325.5   Mean   :4113   Mean   :13715   Mean   : 6469  \n",
       " 3rd Qu.: 6659.2   3rd Qu.:7515   3rd Qu.:18670   3rd Qu.: 6404  \n",
       " Max.   :16299.0   Max.   :9907   Max.   :36248   Max.   :30572  \n",
       "                                                                 \n",
       "       MP             NEO              PAM              PAN        \n",
       " Min.   : 1458   Min.   : 220.0   Min.   :  2004   Min.   :  10.0  \n",
       " 1st Qu.: 6368   1st Qu.: 552.8   1st Qu.: 53186   1st Qu.: 144.2  \n",
       " Median :40364   Median :1501.5   Median :101923   Median : 278.5  \n",
       " Mean   :33090   Mean   :1607.0   Mean   :101379   Mean   :1059.2  \n",
       " 3rd Qu.:48094   3rd Qu.:2157.5   3rd Qu.:143315   3rd Qu.: 683.0  \n",
       " Max.   :83499   Max.   :3941.0   Max.   :223528   Max.   :8894.0  \n",
       "                                                                   \n",
       "      PCS              PDI              PDN          PE        \n",
       " Min.   : 120.0   Min.   : 124.0   Min.   :0   Min.   :  51.0  \n",
       " 1st Qu.: 146.2   1st Qu.: 280.5   1st Qu.:0   1st Qu.: 230.2  \n",
       " Median : 576.0   Median : 580.0   Median :0   Median : 520.0  \n",
       " Mean   : 581.4   Mean   :1118.2   Mean   :0   Mean   : 759.8  \n",
       " 3rd Qu.: 880.8   3rd Qu.:1037.5   3rd Qu.:0   3rd Qu.: 957.5  \n",
       " Max.   :1344.0   Max.   :4866.0   Max.   :0   Max.   :2240.0  \n",
       "                                                               \n",
       "      PEDD              PGV          PI              PJD        \n",
       " Min.   :   39.0   Min.   :0   Min.   :  3984   Min.   :  7161  \n",
       " 1st Qu.:  284.5   1st Qu.:0   1st Qu.: 36964   1st Qu.: 63689  \n",
       " Median : 1115.5   Median :0   Median : 47249   Median :113420  \n",
       " Mean   : 2930.6   Mean   :0   Mean   : 51670   Mean   :134914  \n",
       " 3rd Qu.: 5133.2   3rd Qu.:0   3rd Qu.: 64227   3rd Qu.:207308  \n",
       " Max.   :10256.0   Max.   :0   Max.   :112905   Max.   :339672  \n",
       "                                                                \n",
       "      PLJS             PPS             PRD         PRV              PSD        \n",
       " Min.   :  70.0   Min.   :  617   Min.   :0   Min.   :  20.0   Min.   :  26.0  \n",
       " 1st Qu.: 209.2   1st Qu.: 6855   1st Qu.:0   1st Qu.: 655.2   1st Qu.: 175.8  \n",
       " Median : 449.5   Median :23508   Median :0   Median :1345.0   Median : 271.0  \n",
       " Mean   :1227.9   Mean   :22817   Mean   :0   Mean   :1246.2   Mean   : 425.8  \n",
       " 3rd Qu.:1195.0   3rd Qu.:36326   3rd Qu.:0   3rd Qu.:1784.2   3rd Qu.: 514.0  \n",
       " Max.   :6821.0   Max.   :51486   Max.   :0   Max.   :2577.0   Max.   :1269.0  \n",
       "                                                                               \n",
       "       PT              PUD            RNI             SAP          UC       \n",
       " Min.   :  47.0   Min.   :  54   Min.   :   54   Min.   :0   Min.   :   82  \n",
       " 1st Qu.: 352.8   1st Qu.: 258   1st Qu.:25816   1st Qu.:0   1st Qu.: 3946  \n",
       " Median : 423.0   Median :1056   Median :50370   Median :0   Median :15811  \n",
       " Mean   : 602.3   Mean   :1964   Mean   :45343   Mean   :0   Mean   :21977  \n",
       " 3rd Qu.: 625.0   3rd Qu.:1729   3rd Qu.:69879   3rd Qu.:0   3rd Qu.:35549  \n",
       " Max.   :1732.0   Max.   :8126   Max.   :84916   Max.   :0   Max.   :64256  \n",
       "                                                                            \n",
       "      UMD              USFP      \n",
       " Min.   :  11.0   Min.   : 3645  \n",
       " 1st Qu.:  81.5   1st Qu.:17795  \n",
       " Median : 141.0   Median :29918  \n",
       " Mean   : 531.6   Mean   :29967  \n",
       " 3rd Qu.: 537.8   3rd Qu.:44011  \n",
       " Max.   :2147.0   Max.   :53971  \n",
       "                                 "
      ]
     },
     "metadata": {},
     "output_type": "display_data"
    }
   ],
   "source": [
    "summary(df)"
   ]
  },
  {
   "cell_type": "code",
   "execution_count": null,
   "id": "9a01d795",
   "metadata": {},
   "outputs": [],
   "source": []
  },
  {
   "cell_type": "code",
   "execution_count": null,
   "id": "f4cc80ca",
   "metadata": {},
   "outputs": [],
   "source": []
  },
  {
   "cell_type": "code",
   "execution_count": null,
   "id": "e4720467",
   "metadata": {},
   "outputs": [],
   "source": []
  },
  {
   "cell_type": "code",
   "execution_count": 38,
   "id": "54e08d0e",
   "metadata": {},
   "outputs": [
    {
     "data": {
      "text/html": [
       "'numeric'"
      ],
      "text/latex": [
       "'numeric'"
      ],
      "text/markdown": [
       "'numeric'"
      ],
      "text/plain": [
       "[1] \"numeric\""
      ]
     },
     "metadata": {},
     "output_type": "display_data"
    }
   ],
   "source": [
    "class(df$nSieges)\n"
   ]
  },
  {
   "cell_type": "code",
   "execution_count": null,
   "id": "9f1e83dd",
   "metadata": {},
   "outputs": [],
   "source": []
  },
  {
   "cell_type": "code",
   "execution_count": 45,
   "id": "d6d7a6be",
   "metadata": {},
   "outputs": [],
   "source": [
    "df<-as.data.frame(df)"
   ]
  },
  {
   "cell_type": "code",
   "execution_count": 40,
   "id": "ef5631db",
   "metadata": {},
   "outputs": [
    {
     "ename": "ERROR",
     "evalue": "Error in eval(expr, envir, enclos): object 'regunal2016' not found\n",
     "output_type": "error",
     "traceback": [
      "Error in eval(expr, envir, enclos): object 'regunal2016' not found\nTraceback:\n"
     ]
    }
   ],
   "source": [
    "\n",
    "dim(regunal2016)"
   ]
  },
  {
   "cell_type": "markdown",
   "id": "b56d26fe",
   "metadata": {},
   "source": [
    "ادخال عدد المقاعد المخصصة لكل جهة "
   ]
  },
  {
   "cell_type": "code",
   "execution_count": 41,
   "id": "978f8b3f",
   "metadata": {},
   "outputs": [],
   "source": [
    "df$nSieges<-c(7,12,3,6,10,5,5,10,7,10,7,8)"
   ]
  },
  {
   "cell_type": "code",
   "execution_count": 42,
   "id": "f8b32cc4",
   "metadata": {},
   "outputs": [
    {
     "name": "stdout",
     "output_type": "stream",
     "text": [
      " num [1:12] 7 12 3 6 10 5 5 10 7 10 ...\n"
     ]
    }
   ],
   "source": [
    "str(df$nSieges)"
   ]
  },
  {
   "cell_type": "markdown",
   "id": "bb7cae6b",
   "metadata": {},
   "source": [
    "region<-regunal2016$region"
   ]
  },
  {
   "cell_type": "code",
   "execution_count": 43,
   "id": "3802eee7",
   "metadata": {},
   "outputs": [],
   "source": [
    "df <- lapply(df, as.numeric)"
   ]
  },
  {
   "cell_type": "code",
   "execution_count": 46,
   "id": "8c5ba4c2",
   "metadata": {},
   "outputs": [
    {
     "data": {
      "text/html": [
       "<table>\n",
       "<thead><tr><th scope=col>region</th><th scope=col>nSieges</th><th scope=col>nInscrits</th><th scope=col>txParticipation</th><th scope=col>AHD</th><th scope=col>FFD</th><th scope=col>FGD</th><th scope=col>MDS</th><th scope=col>MP</th><th scope=col>NEO</th><th scope=col>...</th><th scope=col>PRD</th><th scope=col>PRV</th><th scope=col>PSD</th><th scope=col>PT</th><th scope=col>PUD</th><th scope=col>RNI</th><th scope=col>SAP</th><th scope=col>UC</th><th scope=col>UMD</th><th scope=col>USFP</th></tr></thead>\n",
       "<tbody>\n",
       "\t<tr><td> 1        </td><td> 7        </td><td>1540935.46</td><td>2.6281    </td><td> 6274     </td><td>3187      </td><td>14341     </td><td> 3199     </td><td>49083     </td><td>3941      </td><td>...       </td><td>0         </td><td>2220      </td><td> 458      </td><td> 802      </td><td>7596      </td><td>35773     </td><td>0         </td><td>21247     </td><td> 163      </td><td>53971     </td></tr>\n",
       "\t<tr><td> 2        </td><td>12        </td><td>3972501.58</td><td>6.1869    </td><td> 7815     </td><td>5321      </td><td>36248     </td><td> 4619     </td><td>48323     </td><td>3519      </td><td>...       </td><td>0         </td><td>2446      </td><td> 682      </td><td>1589      </td><td>1175      </td><td>73999     </td><td>0         </td><td>64256     </td><td> 912      </td><td>45673     </td></tr>\n",
       "\t<tr><td> 3        </td><td> 3        </td><td>  63280.36</td><td>1.2630    </td><td>    7     </td><td> 476      </td><td>  261     </td><td>  121     </td><td> 5996     </td><td> 546      </td><td>...       </td><td>0         </td><td>  78      </td><td>  26      </td><td>  47      </td><td>  54      </td><td>   54     </td><td>0         </td><td>  122     </td><td>  12      </td><td> 3645     </td></tr>\n",
       "\t<tr><td> 4        </td><td> 6        </td><td> 933981.53</td><td>2.3785    </td><td> 1504     </td><td>1542      </td><td> 5624     </td><td> 3850     </td><td>21652     </td><td>1581      </td><td>...       </td><td>0         </td><td>1397      </td><td> 215      </td><td> 125      </td><td> 392      </td><td>52566     </td><td>0         </td><td> 9255     </td><td> 234      </td><td>18002     </td></tr>\n",
       "\t<tr><td> 5        </td><td>10        </td><td>2263435.74</td><td>5.1301    </td><td> 5396     </td><td>9907      </td><td>23657     </td><td>11761     </td><td>83499     </td><td>1783      </td><td>...       </td><td>0         </td><td>1639      </td><td> 373      </td><td>1732      </td><td>8126      </td><td>62548     </td><td>0         </td><td>18537     </td><td>2129      </td><td>47127     </td></tr>\n",
       "\t<tr><td> 6        </td><td> 5        </td><td> 319052.23</td><td>2.0984    </td><td>  283     </td><td> 978      </td><td> 3295     </td><td> 2195     </td><td> 6327     </td><td> 555      </td><td>...       </td><td>0         </td><td> 885      </td><td>  58      </td><td> 461      </td><td>  61      </td><td>14133     </td><td>0         </td><td> 1846     </td><td>  11      </td><td>27130     </td></tr>\n",
       "\t<tr><td> 7        </td><td> 5        </td><td> 222246.93</td><td>2.5945    </td><td>  116     </td><td> 683      </td><td>  856     </td><td>  168     </td><td> 6382     </td><td> 270      </td><td>...       </td><td>0         </td><td>  20      </td><td>  51      </td><td> 381      </td><td>  72      </td><td>  351     </td><td>0         </td><td>   82     </td><td>  32      </td><td> 6028     </td></tr>\n",
       "\t<tr><td> 8        </td><td>10        </td><td>2507176.46</td><td>4.3825    </td><td> 1243     </td><td>7703      </td><td>17008     </td><td>15839     </td><td>45620     </td><td>2032      </td><td>...       </td><td>0         </td><td>2577      </td><td>1184      </td><td> 385      </td><td>1917      </td><td>68811     </td><td>0         </td><td>34919     </td><td> 413      </td><td>32707     </td></tr>\n",
       "\t<tr><td> 9        </td><td> 7        </td><td>1550086.15</td><td>3.2757    </td><td>10235     </td><td>7452      </td><td>11048     </td><td>  614     </td><td>48017     </td><td> 881      </td><td>...       </td><td>0         </td><td>1431      </td><td> 259      </td><td> 384      </td><td>1666      </td><td>29710     </td><td>0         </td><td>13085     </td><td> 109      </td><td>26457     </td></tr>\n",
       "\t<tr><td>10        </td><td>10        </td><td>2652026.41</td><td>4.7218    </td><td>16299     </td><td>2758      </td><td>30052     </td><td>30572     </td><td>35907     </td><td>1422      </td><td>...       </td><td>0         </td><td>1293      </td><td>1269      </td><td> 566      </td><td>1258      </td><td>73082     </td><td>0         </td><td>58285     </td><td>2147      </td><td>38230     </td></tr>\n",
       "\t<tr><td>11        </td><td> 7        </td><td>1640339.90</td><td>3.0772    </td><td>  476     </td><td>1518      </td><td>11571     </td><td> 1353     </td><td> 1458     </td><td> 220      </td><td>...       </td><td>0         </td><td> 143      </td><td> 252      </td><td> 268      </td><td> 320      </td><td>84916     </td><td>0         </td><td> 4646     </td><td>  98      </td><td>17173     </td></tr>\n",
       "\t<tr><td>12        </td><td> 8        </td><td>1815628.53</td><td>3.7166    </td><td> 2258     </td><td>7835      </td><td>10614     </td><td> 3339     </td><td>44821     </td><td>2534      </td><td>...       </td><td>0         </td><td> 826      </td><td> 283      </td><td> 488      </td><td> 937      </td><td>48175     </td><td>0         </td><td>37440     </td><td> 119      </td><td>43457     </td></tr>\n",
       "</tbody>\n",
       "</table>\n"
      ],
      "text/latex": [
       "\\begin{tabular}{r|llllllllllllllllllllllllllllllll}\n",
       " region & nSieges & nInscrits & txParticipation & AHD & FFD & FGD & MDS & MP & NEO & ... & PRD & PRV & PSD & PT & PUD & RNI & SAP & UC & UMD & USFP\\\\\n",
       "\\hline\n",
       "\t  1         &  7         & 1540935.46 & 2.6281     &  6274      & 3187       & 14341      &  3199      & 49083      & 3941       & ...        & 0          & 2220       &  458       &  802       & 7596       & 35773      & 0          & 21247      &  163       & 53971     \\\\\n",
       "\t  2         & 12         & 3972501.58 & 6.1869     &  7815      & 5321       & 36248      &  4619      & 48323      & 3519       & ...        & 0          & 2446       &  682       & 1589       & 1175       & 73999      & 0          & 64256      &  912       & 45673     \\\\\n",
       "\t  3         &  3         &   63280.36 & 1.2630     &     7      &  476       &   261      &   121      &  5996      &  546       & ...        & 0          &   78       &   26       &   47       &   54       &    54      & 0          &   122      &   12       &  3645     \\\\\n",
       "\t  4         &  6         &  933981.53 & 2.3785     &  1504      & 1542       &  5624      &  3850      & 21652      & 1581       & ...        & 0          & 1397       &  215       &  125       &  392       & 52566      & 0          &  9255      &  234       & 18002     \\\\\n",
       "\t  5         & 10         & 2263435.74 & 5.1301     &  5396      & 9907       & 23657      & 11761      & 83499      & 1783       & ...        & 0          & 1639       &  373       & 1732       & 8126       & 62548      & 0          & 18537      & 2129       & 47127     \\\\\n",
       "\t  6         &  5         &  319052.23 & 2.0984     &   283      &  978       &  3295      &  2195      &  6327      &  555       & ...        & 0          &  885       &   58       &  461       &   61       & 14133      & 0          &  1846      &   11       & 27130     \\\\\n",
       "\t  7         &  5         &  222246.93 & 2.5945     &   116      &  683       &   856      &   168      &  6382      &  270       & ...        & 0          &   20       &   51       &  381       &   72       &   351      & 0          &    82      &   32       &  6028     \\\\\n",
       "\t  8         & 10         & 2507176.46 & 4.3825     &  1243      & 7703       & 17008      & 15839      & 45620      & 2032       & ...        & 0          & 2577       & 1184       &  385       & 1917       & 68811      & 0          & 34919      &  413       & 32707     \\\\\n",
       "\t  9         &  7         & 1550086.15 & 3.2757     & 10235      & 7452       & 11048      &   614      & 48017      &  881       & ...        & 0          & 1431       &  259       &  384       & 1666       & 29710      & 0          & 13085      &  109       & 26457     \\\\\n",
       "\t 10         & 10         & 2652026.41 & 4.7218     & 16299      & 2758       & 30052      & 30572      & 35907      & 1422       & ...        & 0          & 1293       & 1269       &  566       & 1258       & 73082      & 0          & 58285      & 2147       & 38230     \\\\\n",
       "\t 11         &  7         & 1640339.90 & 3.0772     &   476      & 1518       & 11571      &  1353      &  1458      &  220       & ...        & 0          &  143       &  252       &  268       &  320       & 84916      & 0          &  4646      &   98       & 17173     \\\\\n",
       "\t 12         &  8         & 1815628.53 & 3.7166     &  2258      & 7835       & 10614      &  3339      & 44821      & 2534       & ...        & 0          &  826       &  283       &  488       &  937       & 48175      & 0          & 37440      &  119       & 43457     \\\\\n",
       "\\end{tabular}\n"
      ],
      "text/markdown": [
       "\n",
       "| region | nSieges | nInscrits | txParticipation | AHD | FFD | FGD | MDS | MP | NEO | ... | PRD | PRV | PSD | PT | PUD | RNI | SAP | UC | UMD | USFP |\n",
       "|---|---|---|---|---|---|---|---|---|---|---|---|---|---|---|---|---|---|---|---|---|\n",
       "|  1         |  7         | 1540935.46 | 2.6281     |  6274      | 3187       | 14341      |  3199      | 49083      | 3941       | ...        | 0          | 2220       |  458       |  802       | 7596       | 35773      | 0          | 21247      |  163       | 53971      |\n",
       "|  2         | 12         | 3972501.58 | 6.1869     |  7815      | 5321       | 36248      |  4619      | 48323      | 3519       | ...        | 0          | 2446       |  682       | 1589       | 1175       | 73999      | 0          | 64256      |  912       | 45673      |\n",
       "|  3         |  3         |   63280.36 | 1.2630     |     7      |  476       |   261      |   121      |  5996      |  546       | ...        | 0          |   78       |   26       |   47       |   54       |    54      | 0          |   122      |   12       |  3645      |\n",
       "|  4         |  6         |  933981.53 | 2.3785     |  1504      | 1542       |  5624      |  3850      | 21652      | 1581       | ...        | 0          | 1397       |  215       |  125       |  392       | 52566      | 0          |  9255      |  234       | 18002      |\n",
       "|  5         | 10         | 2263435.74 | 5.1301     |  5396      | 9907       | 23657      | 11761      | 83499      | 1783       | ...        | 0          | 1639       |  373       | 1732       | 8126       | 62548      | 0          | 18537      | 2129       | 47127      |\n",
       "|  6         |  5         |  319052.23 | 2.0984     |   283      |  978       |  3295      |  2195      |  6327      |  555       | ...        | 0          |  885       |   58       |  461       |   61       | 14133      | 0          |  1846      |   11       | 27130      |\n",
       "|  7         |  5         |  222246.93 | 2.5945     |   116      |  683       |   856      |   168      |  6382      |  270       | ...        | 0          |   20       |   51       |  381       |   72       |   351      | 0          |    82      |   32       |  6028      |\n",
       "|  8         | 10         | 2507176.46 | 4.3825     |  1243      | 7703       | 17008      | 15839      | 45620      | 2032       | ...        | 0          | 2577       | 1184       |  385       | 1917       | 68811      | 0          | 34919      |  413       | 32707      |\n",
       "|  9         |  7         | 1550086.15 | 3.2757     | 10235      | 7452       | 11048      |   614      | 48017      |  881       | ...        | 0          | 1431       |  259       |  384       | 1666       | 29710      | 0          | 13085      |  109       | 26457      |\n",
       "| 10         | 10         | 2652026.41 | 4.7218     | 16299      | 2758       | 30052      | 30572      | 35907      | 1422       | ...        | 0          | 1293       | 1269       |  566       | 1258       | 73082      | 0          | 58285      | 2147       | 38230      |\n",
       "| 11         |  7         | 1640339.90 | 3.0772     |   476      | 1518       | 11571      |  1353      |  1458      |  220       | ...        | 0          |  143       |  252       |  268       |  320       | 84916      | 0          |  4646      |   98       | 17173      |\n",
       "| 12         |  8         | 1815628.53 | 3.7166     |  2258      | 7835       | 10614      |  3339      | 44821      | 2534       | ...        | 0          |  826       |  283       |  488       |  937       | 48175      | 0          | 37440      |  119       | 43457      |\n",
       "\n"
      ],
      "text/plain": [
       "   region nSieges nInscrits  txParticipation AHD   FFD  FGD   MDS   MP    NEO \n",
       "1   1      7      1540935.46 2.6281           6274 3187 14341  3199 49083 3941\n",
       "2   2     12      3972501.58 6.1869           7815 5321 36248  4619 48323 3519\n",
       "3   3      3        63280.36 1.2630              7  476   261   121  5996  546\n",
       "4   4      6       933981.53 2.3785           1504 1542  5624  3850 21652 1581\n",
       "5   5     10      2263435.74 5.1301           5396 9907 23657 11761 83499 1783\n",
       "6   6      5       319052.23 2.0984            283  978  3295  2195  6327  555\n",
       "7   7      5       222246.93 2.5945            116  683   856   168  6382  270\n",
       "8   8     10      2507176.46 4.3825           1243 7703 17008 15839 45620 2032\n",
       "9   9      7      1550086.15 3.2757          10235 7452 11048   614 48017  881\n",
       "10 10     10      2652026.41 4.7218          16299 2758 30052 30572 35907 1422\n",
       "11 11      7      1640339.90 3.0772            476 1518 11571  1353  1458  220\n",
       "12 12      8      1815628.53 3.7166           2258 7835 10614  3339 44821 2534\n",
       "   ... PRD PRV  PSD  PT   PUD  RNI   SAP UC    UMD  USFP \n",
       "1  ... 0   2220  458  802 7596 35773 0   21247  163 53971\n",
       "2  ... 0   2446  682 1589 1175 73999 0   64256  912 45673\n",
       "3  ... 0     78   26   47   54    54 0     122   12  3645\n",
       "4  ... 0   1397  215  125  392 52566 0    9255  234 18002\n",
       "5  ... 0   1639  373 1732 8126 62548 0   18537 2129 47127\n",
       "6  ... 0    885   58  461   61 14133 0    1846   11 27130\n",
       "7  ... 0     20   51  381   72   351 0      82   32  6028\n",
       "8  ... 0   2577 1184  385 1917 68811 0   34919  413 32707\n",
       "9  ... 0   1431  259  384 1666 29710 0   13085  109 26457\n",
       "10 ... 0   1293 1269  566 1258 73082 0   58285 2147 38230\n",
       "11 ... 0    143  252  268  320 84916 0    4646   98 17173\n",
       "12 ... 0    826  283  488  937 48175 0   37440  119 43457"
      ]
     },
     "metadata": {},
     "output_type": "display_data"
    }
   ],
   "source": [
    "df"
   ]
  },
  {
   "cell_type": "code",
   "execution_count": 47,
   "id": "b4104b7d",
   "metadata": {},
   "outputs": [],
   "source": [
    "regunal2016t<-select(df,5:32)"
   ]
  },
  {
   "cell_type": "code",
   "execution_count": 48,
   "id": "1dc71ca4",
   "metadata": {},
   "outputs": [
    {
     "data": {
      "text/html": [
       "<ol class=list-inline>\n",
       "\t<li>12</li>\n",
       "\t<li>28</li>\n",
       "</ol>\n"
      ],
      "text/latex": [
       "\\begin{enumerate*}\n",
       "\\item 12\n",
       "\\item 28\n",
       "\\end{enumerate*}\n"
      ],
      "text/markdown": [
       "1. 12\n",
       "2. 28\n",
       "\n",
       "\n"
      ],
      "text/plain": [
       "[1] 12 28"
      ]
     },
     "metadata": {},
     "output_type": "display_data"
    }
   ],
   "source": [
    "dim(regunal2016t)"
   ]
  },
  {
   "cell_type": "code",
   "execution_count": 49,
   "id": "1ff8749b",
   "metadata": {},
   "outputs": [
    {
     "data": {
      "text/html": [
       "<table>\n",
       "<thead><tr><th scope=col>region</th><th scope=col>nSieges</th><th scope=col>nInscrits</th><th scope=col>txParticipation</th><th scope=col>AHD</th><th scope=col>FFD</th><th scope=col>FGD</th><th scope=col>MDS</th><th scope=col>MP</th><th scope=col>NEO</th><th scope=col>...</th><th scope=col>PRD</th><th scope=col>PRV</th><th scope=col>PSD</th><th scope=col>PT</th><th scope=col>PUD</th><th scope=col>RNI</th><th scope=col>SAP</th><th scope=col>UC</th><th scope=col>UMD</th><th scope=col>USFP</th></tr></thead>\n",
       "<tbody>\n",
       "\t<tr><td> 1        </td><td> 7        </td><td>1540935.46</td><td>2.6281    </td><td> 6274     </td><td>3187      </td><td>14341     </td><td> 3199     </td><td>49083     </td><td>3941      </td><td>...       </td><td>0         </td><td>2220      </td><td> 458      </td><td> 802      </td><td>7596      </td><td>35773     </td><td>0         </td><td>21247     </td><td> 163      </td><td>53971     </td></tr>\n",
       "\t<tr><td> 2        </td><td>12        </td><td>3972501.58</td><td>6.1869    </td><td> 7815     </td><td>5321      </td><td>36248     </td><td> 4619     </td><td>48323     </td><td>3519      </td><td>...       </td><td>0         </td><td>2446      </td><td> 682      </td><td>1589      </td><td>1175      </td><td>73999     </td><td>0         </td><td>64256     </td><td> 912      </td><td>45673     </td></tr>\n",
       "\t<tr><td> 3        </td><td> 3        </td><td>  63280.36</td><td>1.2630    </td><td>    7     </td><td> 476      </td><td>  261     </td><td>  121     </td><td> 5996     </td><td> 546      </td><td>...       </td><td>0         </td><td>  78      </td><td>  26      </td><td>  47      </td><td>  54      </td><td>   54     </td><td>0         </td><td>  122     </td><td>  12      </td><td> 3645     </td></tr>\n",
       "\t<tr><td> 4        </td><td> 6        </td><td> 933981.53</td><td>2.3785    </td><td> 1504     </td><td>1542      </td><td> 5624     </td><td> 3850     </td><td>21652     </td><td>1581      </td><td>...       </td><td>0         </td><td>1397      </td><td> 215      </td><td> 125      </td><td> 392      </td><td>52566     </td><td>0         </td><td> 9255     </td><td> 234      </td><td>18002     </td></tr>\n",
       "\t<tr><td> 5        </td><td>10        </td><td>2263435.74</td><td>5.1301    </td><td> 5396     </td><td>9907      </td><td>23657     </td><td>11761     </td><td>83499     </td><td>1783      </td><td>...       </td><td>0         </td><td>1639      </td><td> 373      </td><td>1732      </td><td>8126      </td><td>62548     </td><td>0         </td><td>18537     </td><td>2129      </td><td>47127     </td></tr>\n",
       "\t<tr><td> 6        </td><td> 5        </td><td> 319052.23</td><td>2.0984    </td><td>  283     </td><td> 978      </td><td> 3295     </td><td> 2195     </td><td> 6327     </td><td> 555      </td><td>...       </td><td>0         </td><td> 885      </td><td>  58      </td><td> 461      </td><td>  61      </td><td>14133     </td><td>0         </td><td> 1846     </td><td>  11      </td><td>27130     </td></tr>\n",
       "\t<tr><td> 7        </td><td> 5        </td><td> 222246.93</td><td>2.5945    </td><td>  116     </td><td> 683      </td><td>  856     </td><td>  168     </td><td> 6382     </td><td> 270      </td><td>...       </td><td>0         </td><td>  20      </td><td>  51      </td><td> 381      </td><td>  72      </td><td>  351     </td><td>0         </td><td>   82     </td><td>  32      </td><td> 6028     </td></tr>\n",
       "\t<tr><td> 8        </td><td>10        </td><td>2507176.46</td><td>4.3825    </td><td> 1243     </td><td>7703      </td><td>17008     </td><td>15839     </td><td>45620     </td><td>2032      </td><td>...       </td><td>0         </td><td>2577      </td><td>1184      </td><td> 385      </td><td>1917      </td><td>68811     </td><td>0         </td><td>34919     </td><td> 413      </td><td>32707     </td></tr>\n",
       "\t<tr><td> 9        </td><td> 7        </td><td>1550086.15</td><td>3.2757    </td><td>10235     </td><td>7452      </td><td>11048     </td><td>  614     </td><td>48017     </td><td> 881      </td><td>...       </td><td>0         </td><td>1431      </td><td> 259      </td><td> 384      </td><td>1666      </td><td>29710     </td><td>0         </td><td>13085     </td><td> 109      </td><td>26457     </td></tr>\n",
       "\t<tr><td>10        </td><td>10        </td><td>2652026.41</td><td>4.7218    </td><td>16299     </td><td>2758      </td><td>30052     </td><td>30572     </td><td>35907     </td><td>1422      </td><td>...       </td><td>0         </td><td>1293      </td><td>1269      </td><td> 566      </td><td>1258      </td><td>73082     </td><td>0         </td><td>58285     </td><td>2147      </td><td>38230     </td></tr>\n",
       "\t<tr><td>11        </td><td> 7        </td><td>1640339.90</td><td>3.0772    </td><td>  476     </td><td>1518      </td><td>11571     </td><td> 1353     </td><td> 1458     </td><td> 220      </td><td>...       </td><td>0         </td><td> 143      </td><td> 252      </td><td> 268      </td><td> 320      </td><td>84916     </td><td>0         </td><td> 4646     </td><td>  98      </td><td>17173     </td></tr>\n",
       "\t<tr><td>12        </td><td> 8        </td><td>1815628.53</td><td>3.7166    </td><td> 2258     </td><td>7835      </td><td>10614     </td><td> 3339     </td><td>44821     </td><td>2534      </td><td>...       </td><td>0         </td><td> 826      </td><td> 283      </td><td> 488      </td><td> 937      </td><td>48175     </td><td>0         </td><td>37440     </td><td> 119      </td><td>43457     </td></tr>\n",
       "</tbody>\n",
       "</table>\n"
      ],
      "text/latex": [
       "\\begin{tabular}{r|llllllllllllllllllllllllllllllll}\n",
       " region & nSieges & nInscrits & txParticipation & AHD & FFD & FGD & MDS & MP & NEO & ... & PRD & PRV & PSD & PT & PUD & RNI & SAP & UC & UMD & USFP\\\\\n",
       "\\hline\n",
       "\t  1         &  7         & 1540935.46 & 2.6281     &  6274      & 3187       & 14341      &  3199      & 49083      & 3941       & ...        & 0          & 2220       &  458       &  802       & 7596       & 35773      & 0          & 21247      &  163       & 53971     \\\\\n",
       "\t  2         & 12         & 3972501.58 & 6.1869     &  7815      & 5321       & 36248      &  4619      & 48323      & 3519       & ...        & 0          & 2446       &  682       & 1589       & 1175       & 73999      & 0          & 64256      &  912       & 45673     \\\\\n",
       "\t  3         &  3         &   63280.36 & 1.2630     &     7      &  476       &   261      &   121      &  5996      &  546       & ...        & 0          &   78       &   26       &   47       &   54       &    54      & 0          &   122      &   12       &  3645     \\\\\n",
       "\t  4         &  6         &  933981.53 & 2.3785     &  1504      & 1542       &  5624      &  3850      & 21652      & 1581       & ...        & 0          & 1397       &  215       &  125       &  392       & 52566      & 0          &  9255      &  234       & 18002     \\\\\n",
       "\t  5         & 10         & 2263435.74 & 5.1301     &  5396      & 9907       & 23657      & 11761      & 83499      & 1783       & ...        & 0          & 1639       &  373       & 1732       & 8126       & 62548      & 0          & 18537      & 2129       & 47127     \\\\\n",
       "\t  6         &  5         &  319052.23 & 2.0984     &   283      &  978       &  3295      &  2195      &  6327      &  555       & ...        & 0          &  885       &   58       &  461       &   61       & 14133      & 0          &  1846      &   11       & 27130     \\\\\n",
       "\t  7         &  5         &  222246.93 & 2.5945     &   116      &  683       &   856      &   168      &  6382      &  270       & ...        & 0          &   20       &   51       &  381       &   72       &   351      & 0          &    82      &   32       &  6028     \\\\\n",
       "\t  8         & 10         & 2507176.46 & 4.3825     &  1243      & 7703       & 17008      & 15839      & 45620      & 2032       & ...        & 0          & 2577       & 1184       &  385       & 1917       & 68811      & 0          & 34919      &  413       & 32707     \\\\\n",
       "\t  9         &  7         & 1550086.15 & 3.2757     & 10235      & 7452       & 11048      &   614      & 48017      &  881       & ...        & 0          & 1431       &  259       &  384       & 1666       & 29710      & 0          & 13085      &  109       & 26457     \\\\\n",
       "\t 10         & 10         & 2652026.41 & 4.7218     & 16299      & 2758       & 30052      & 30572      & 35907      & 1422       & ...        & 0          & 1293       & 1269       &  566       & 1258       & 73082      & 0          & 58285      & 2147       & 38230     \\\\\n",
       "\t 11         &  7         & 1640339.90 & 3.0772     &   476      & 1518       & 11571      &  1353      &  1458      &  220       & ...        & 0          &  143       &  252       &  268       &  320       & 84916      & 0          &  4646      &   98       & 17173     \\\\\n",
       "\t 12         &  8         & 1815628.53 & 3.7166     &  2258      & 7835       & 10614      &  3339      & 44821      & 2534       & ...        & 0          &  826       &  283       &  488       &  937       & 48175      & 0          & 37440      &  119       & 43457     \\\\\n",
       "\\end{tabular}\n"
      ],
      "text/markdown": [
       "\n",
       "| region | nSieges | nInscrits | txParticipation | AHD | FFD | FGD | MDS | MP | NEO | ... | PRD | PRV | PSD | PT | PUD | RNI | SAP | UC | UMD | USFP |\n",
       "|---|---|---|---|---|---|---|---|---|---|---|---|---|---|---|---|---|---|---|---|---|\n",
       "|  1         |  7         | 1540935.46 | 2.6281     |  6274      | 3187       | 14341      |  3199      | 49083      | 3941       | ...        | 0          | 2220       |  458       |  802       | 7596       | 35773      | 0          | 21247      |  163       | 53971      |\n",
       "|  2         | 12         | 3972501.58 | 6.1869     |  7815      | 5321       | 36248      |  4619      | 48323      | 3519       | ...        | 0          | 2446       |  682       | 1589       | 1175       | 73999      | 0          | 64256      |  912       | 45673      |\n",
       "|  3         |  3         |   63280.36 | 1.2630     |     7      |  476       |   261      |   121      |  5996      |  546       | ...        | 0          |   78       |   26       |   47       |   54       |    54      | 0          |   122      |   12       |  3645      |\n",
       "|  4         |  6         |  933981.53 | 2.3785     |  1504      | 1542       |  5624      |  3850      | 21652      | 1581       | ...        | 0          | 1397       |  215       |  125       |  392       | 52566      | 0          |  9255      |  234       | 18002      |\n",
       "|  5         | 10         | 2263435.74 | 5.1301     |  5396      | 9907       | 23657      | 11761      | 83499      | 1783       | ...        | 0          | 1639       |  373       | 1732       | 8126       | 62548      | 0          | 18537      | 2129       | 47127      |\n",
       "|  6         |  5         |  319052.23 | 2.0984     |   283      |  978       |  3295      |  2195      |  6327      |  555       | ...        | 0          |  885       |   58       |  461       |   61       | 14133      | 0          |  1846      |   11       | 27130      |\n",
       "|  7         |  5         |  222246.93 | 2.5945     |   116      |  683       |   856      |   168      |  6382      |  270       | ...        | 0          |   20       |   51       |  381       |   72       |   351      | 0          |    82      |   32       |  6028      |\n",
       "|  8         | 10         | 2507176.46 | 4.3825     |  1243      | 7703       | 17008      | 15839      | 45620      | 2032       | ...        | 0          | 2577       | 1184       |  385       | 1917       | 68811      | 0          | 34919      |  413       | 32707      |\n",
       "|  9         |  7         | 1550086.15 | 3.2757     | 10235      | 7452       | 11048      |   614      | 48017      |  881       | ...        | 0          | 1431       |  259       |  384       | 1666       | 29710      | 0          | 13085      |  109       | 26457      |\n",
       "| 10         | 10         | 2652026.41 | 4.7218     | 16299      | 2758       | 30052      | 30572      | 35907      | 1422       | ...        | 0          | 1293       | 1269       |  566       | 1258       | 73082      | 0          | 58285      | 2147       | 38230      |\n",
       "| 11         |  7         | 1640339.90 | 3.0772     |   476      | 1518       | 11571      |  1353      |  1458      |  220       | ...        | 0          |  143       |  252       |  268       |  320       | 84916      | 0          |  4646      |   98       | 17173      |\n",
       "| 12         |  8         | 1815628.53 | 3.7166     |  2258      | 7835       | 10614      |  3339      | 44821      | 2534       | ...        | 0          |  826       |  283       |  488       |  937       | 48175      | 0          | 37440      |  119       | 43457      |\n",
       "\n"
      ],
      "text/plain": [
       "   region nSieges nInscrits  txParticipation AHD   FFD  FGD   MDS   MP    NEO \n",
       "1   1      7      1540935.46 2.6281           6274 3187 14341  3199 49083 3941\n",
       "2   2     12      3972501.58 6.1869           7815 5321 36248  4619 48323 3519\n",
       "3   3      3        63280.36 1.2630              7  476   261   121  5996  546\n",
       "4   4      6       933981.53 2.3785           1504 1542  5624  3850 21652 1581\n",
       "5   5     10      2263435.74 5.1301           5396 9907 23657 11761 83499 1783\n",
       "6   6      5       319052.23 2.0984            283  978  3295  2195  6327  555\n",
       "7   7      5       222246.93 2.5945            116  683   856   168  6382  270\n",
       "8   8     10      2507176.46 4.3825           1243 7703 17008 15839 45620 2032\n",
       "9   9      7      1550086.15 3.2757          10235 7452 11048   614 48017  881\n",
       "10 10     10      2652026.41 4.7218          16299 2758 30052 30572 35907 1422\n",
       "11 11      7      1640339.90 3.0772            476 1518 11571  1353  1458  220\n",
       "12 12      8      1815628.53 3.7166           2258 7835 10614  3339 44821 2534\n",
       "   ... PRD PRV  PSD  PT   PUD  RNI   SAP UC    UMD  USFP \n",
       "1  ... 0   2220  458  802 7596 35773 0   21247  163 53971\n",
       "2  ... 0   2446  682 1589 1175 73999 0   64256  912 45673\n",
       "3  ... 0     78   26   47   54    54 0     122   12  3645\n",
       "4  ... 0   1397  215  125  392 52566 0    9255  234 18002\n",
       "5  ... 0   1639  373 1732 8126 62548 0   18537 2129 47127\n",
       "6  ... 0    885   58  461   61 14133 0    1846   11 27130\n",
       "7  ... 0     20   51  381   72   351 0      82   32  6028\n",
       "8  ... 0   2577 1184  385 1917 68811 0   34919  413 32707\n",
       "9  ... 0   1431  259  384 1666 29710 0   13085  109 26457\n",
       "10 ... 0   1293 1269  566 1258 73082 0   58285 2147 38230\n",
       "11 ... 0    143  252  268  320 84916 0    4646   98 17173\n",
       "12 ... 0    826  283  488  937 48175 0   37440  119 43457"
      ]
     },
     "metadata": {},
     "output_type": "display_data"
    }
   ],
   "source": [
    "df"
   ]
  },
  {
   "cell_type": "code",
   "execution_count": 50,
   "id": "43860a19",
   "metadata": {},
   "outputs": [],
   "source": [
    "regunal2016r<- matrix(0,nrow = 12,ncol = 28)"
   ]
  },
  {
   "cell_type": "markdown",
   "id": "2e9b0c46",
   "metadata": {},
   "source": [
    "regunal2016r[1:28] <- lapply(regunal2016r[1:28], as.numeric)"
   ]
  },
  {
   "cell_type": "code",
   "execution_count": 51,
   "id": "30d1cfd7",
   "metadata": {},
   "outputs": [],
   "source": [
    "regunal2016rR<- matrix(0,nrow = 12,ncol = 28)"
   ]
  },
  {
   "cell_type": "markdown",
   "id": "f6c95c30",
   "metadata": {},
   "source": [
    "regunal2016rR[1:28] <- lapply(regunal2016rR[1:28], as.numeric)"
   ]
  },
  {
   "cell_type": "markdown",
   "id": "45f69d5d",
   "metadata": {},
   "source": [
    "colnames(regunal2016r)<-colnames(regunal2016t)"
   ]
  },
  {
   "cell_type": "code",
   "execution_count": 52,
   "id": "0d45bc5f",
   "metadata": {},
   "outputs": [],
   "source": [
    "regunal2016rK<- matrix(0,nrow = 12,ncol = 28)"
   ]
  },
  {
   "cell_type": "code",
   "execution_count": 53,
   "id": "2ad101a9",
   "metadata": {},
   "outputs": [
    {
     "ename": "ERROR",
     "evalue": "Error in tibble::as_tibble(regunal2016): object 'regunal2016' not found\n",
     "output_type": "error",
     "traceback": [
      "Error in tibble::as_tibble(regunal2016): object 'regunal2016' not found\nTraceback:\n",
      "1. tibble::as_tibble(regunal2016)"
     ]
    }
   ],
   "source": [
    "regunal2016<-tibble::as_tibble(regunal2016)\n",
    "\n"
   ]
  },
  {
   "cell_type": "code",
   "execution_count": 54,
   "id": "6f6c1271",
   "metadata": {},
   "outputs": [
    {
     "name": "stderr",
     "output_type": "stream",
     "text": [
      "Warning message:\n",
      "“`as_tibble.matrix()` requires a matrix with column names or a `.name_repair` argument. Using compatibility `.name_repair`.\n",
      "This warning is displayed once per session.”"
     ]
    }
   ],
   "source": [
    "regunal2016rR<-tibble::as_tibble(regunal2016rR)"
   ]
  },
  {
   "cell_type": "code",
   "execution_count": 62,
   "id": "fa974738",
   "metadata": {},
   "outputs": [
    {
     "ename": "ERROR",
     "evalue": "Error in eval(expr, envir, enclos): object 'regunal2016' not found\n",
     "output_type": "error",
     "traceback": [
      "Error in eval(expr, envir, enclos): object 'regunal2016' not found\nTraceback:\n"
     ]
    }
   ],
   "source": [
    "regunal2016\n",
    "\n"
   ]
  },
  {
   "cell_type": "code",
   "execution_count": null,
   "id": "69013196",
   "metadata": {},
   "outputs": [],
   "source": []
  },
  {
   "cell_type": "code",
   "execution_count": null,
   "id": "0999df5d",
   "metadata": {},
   "outputs": [],
   "source": []
  },
  {
   "cell_type": "code",
   "execution_count": 55,
   "id": "cfbab641",
   "metadata": {},
   "outputs": [],
   "source": [
    "for (j in 1:12) {for (i in 1:28) {regunal2016t[j,i]<-regunal2016t[j,i]/(df$nInscrits[j]/df$nSieges[j])}}"
   ]
  },
  {
   "cell_type": "code",
   "execution_count": 56,
   "id": "0cca4d83",
   "metadata": {},
   "outputs": [
    {
     "data": {
      "text/html": [
       "<table>\n",
       "<thead><tr><th scope=col>AHD</th><th scope=col>FFD</th><th scope=col>FGD</th><th scope=col>MDS</th><th scope=col>MP</th><th scope=col>NEO</th><th scope=col>PAM</th><th scope=col>PAN</th><th scope=col>PCS</th><th scope=col>PDI</th><th scope=col>...</th><th scope=col>PRD</th><th scope=col>PRV</th><th scope=col>PSD</th><th scope=col>PT</th><th scope=col>PUD</th><th scope=col>RNI</th><th scope=col>SAP</th><th scope=col>UC</th><th scope=col>UMD</th><th scope=col>USFP</th></tr></thead>\n",
       "<tbody>\n",
       "\t<tr><td>0.0285008692</td><td>0.014477569 </td><td>0.06514679  </td><td>0.014532082 </td><td>0.222969104 </td><td>0.0179027615</td><td>0.44417110  </td><td>0.0040157425</td><td>0.0061053822</td><td>0.0221047544</td><td>...         </td><td>0           </td><td>0.0100847832</td><td>0.0020805544</td><td>0.0036432415</td><td>0.0345063121</td><td>0.162505832 </td><td>0           </td><td>0.096518643 </td><td>0.0007404593</td><td>0.2451738   </td></tr>\n",
       "\t<tr><td>0.0236072908</td><td>0.016073499 </td><td>0.10949675  </td><td>0.013952921 </td><td>0.145972503 </td><td>0.0106300776</td><td>0.57660392  </td><td>0.0027942091</td><td>0.0022746372</td><td>0.0038182490</td><td>...         </td><td>0           </td><td>0.0073887950</td><td>0.0020601628</td><td>0.0047999981</td><td>0.0035494007</td><td>0.223533706 </td><td>0           </td><td>0.194102377 </td><td>0.0027549391</td><td>0.1379675   </td></tr>\n",
       "\t<tr><td>0.0003318565</td><td>0.022566244 </td><td>0.01237351  </td><td>0.005736377 </td><td>0.284258826 </td><td>0.0258848097</td><td>0.09500578  </td><td>0.0004740808</td><td>0.0070163953</td><td>0.0058786015</td><td>...         </td><td>0           </td><td>0.0036978300</td><td>0.0012326100</td><td>0.0022281796</td><td>0.0025600361</td><td>0.002560036 </td><td>0           </td><td>0.005783785 </td><td>0.0005688969</td><td>0.1728024   </td></tr>\n",
       "\t<tr><td>0.0096618613</td><td>0.009905977 </td><td>0.03612919  </td><td>0.024732823 </td><td>0.139094828 </td><td>0.0101565178</td><td>0.37938866  </td><td>0.0012848220</td><td>0.0070793691</td><td>0.0027623673</td><td>...         </td><td>0           </td><td>0.0089744815</td><td>0.0013811836</td><td>0.0008030137</td><td>0.0025182511</td><td>0.337689761 </td><td>0           </td><td>0.059455137 </td><td>0.0015032417</td><td>0.1156468   </td></tr>\n",
       "\t<tr><td>0.0238398639</td><td>0.043769743 </td><td>0.10451810  </td><td>0.051960830 </td><td>0.368903779 </td><td>0.0078774050</td><td>0.46861944  </td><td>0.0392942456</td><td>0.0043915539</td><td>0.0031368242</td><td>...         </td><td>0           </td><td>0.0072412040</td><td>0.0016479372</td><td>0.0076520838</td><td>0.0359011738</td><td>0.276340957 </td><td>0           </td><td>0.081897620 </td><td>0.0094060545</td><td>0.2082100   </td></tr>\n",
       "\t<tr><td>0.0044350105</td><td>0.015326644 </td><td>0.05163731  </td><td>0.034398757 </td><td>0.099153045 </td><td>0.0086976355</td><td>0.26022385  </td><td>0.0012850561</td><td>0.0022096696</td><td>0.0020842982</td><td>...         </td><td>0           </td><td>0.0138692025</td><td>0.0009089421</td><td>0.0072245225</td><td>0.0009559563</td><td>0.221484112 </td><td>0           </td><td>0.028929433 </td><td>0.0001723856</td><td>0.4251655   </td></tr>\n",
       "\t<tr><td>0.0026097098</td><td>0.015365791 </td><td>0.01925786  </td><td>0.003779580 </td><td>0.143579034 </td><td>0.0060743245</td><td>0.80032600  </td><td>0.0004724475</td><td>0.0026996998</td><td>0.0101238742</td><td>...         </td><td>0           </td><td>0.0004499500</td><td>0.0011473724</td><td>0.0085715468</td><td>0.0016198199</td><td>0.007896622 </td><td>0           </td><td>0.001844795 </td><td>0.0007199199</td><td>0.1356149   </td></tr>\n",
       "\t<tr><td>0.0049577683</td><td>0.030723805 </td><td>0.06783727  </td><td>0.063174652 </td><td>0.181957675 </td><td>0.0081047347</td><td>0.89155272  </td><td>0.0024569471</td><td>0.0019105157</td><td>0.0038369856</td><td>...         </td><td>0           </td><td>0.0102784947</td><td>0.0047224438</td><td>0.0015355920</td><td>0.0076460514</td><td>0.274456150 </td><td>0           </td><td>0.139276196 </td><td>0.0016472714</td><td>0.1304535   </td></tr>\n",
       "\t<tr><td>0.0462200117</td><td>0.033652323 </td><td>0.04989142  </td><td>0.002772749 </td><td>0.216838916 </td><td>0.0039784885</td><td>0.48550656  </td><td>0.0007451199</td><td>0.0006141594</td><td>0.0008264057</td><td>...         </td><td>0           </td><td>0.0064622215</td><td>0.0011696124</td><td>0.0017340972</td><td>0.0075234528</td><td>0.134166736 </td><td>0           </td><td>0.059090264 </td><td>0.0004922307</td><td>0.1194766   </td></tr>\n",
       "\t<tr><td>0.0614586640</td><td>0.010399595 </td><td>0.11331712  </td><td>0.115277887 </td><td>0.135394579 </td><td>0.0053619376</td><td>0.55830515  </td><td>0.0013423697</td><td>0.0025376821</td><td>0.0116778626</td><td>...         </td><td>0           </td><td>0.0048755171</td><td>0.0047850202</td><td>0.0021342171</td><td>0.0047435425</td><td>0.275570408 </td><td>0           </td><td>0.219775338 </td><td>0.0080956962</td><td>0.1441539   </td></tr>\n",
       "\t<tr><td>0.0020312863</td><td>0.006477926 </td><td>0.04937818  </td><td>0.005773803 </td><td>0.006221881 </td><td>0.0009388298</td><td>0.37446934  </td><td>0.0010967239</td><td>0.0035974252</td><td>0.0013356988</td><td>...         </td><td>0           </td><td>0.0006102394</td><td>0.0010753869</td><td>0.0011436654</td><td>0.0013655706</td><td>0.362371239 </td><td>0           </td><td>0.019826379 </td><td>0.0004182060</td><td>0.0732842   </td></tr>\n",
       "\t<tr><td>0.0099491717</td><td>0.034522480 </td><td>0.04676728  </td><td>0.014712261 </td><td>0.197489737 </td><td>0.0111652795</td><td>0.62449779  </td><td>0.0013218563</td><td>0.0010751098</td><td>0.0039038823</td><td>...         </td><td>0           </td><td>0.0036395110</td><td>0.0012469511</td><td>0.0021502196</td><td>0.0041285978</td><td>0.212268090 </td><td>0           </td><td>0.164967666 </td><td>0.0005243363</td><td>0.1914797   </td></tr>\n",
       "</tbody>\n",
       "</table>\n"
      ],
      "text/latex": [
       "\\begin{tabular}{r|llllllllllllllllllllllllllll}\n",
       " AHD & FFD & FGD & MDS & MP & NEO & PAM & PAN & PCS & PDI & ... & PRD & PRV & PSD & PT & PUD & RNI & SAP & UC & UMD & USFP\\\\\n",
       "\\hline\n",
       "\t 0.0285008692 & 0.014477569  & 0.06514679   & 0.014532082  & 0.222969104  & 0.0179027615 & 0.44417110   & 0.0040157425 & 0.0061053822 & 0.0221047544 & ...          & 0            & 0.0100847832 & 0.0020805544 & 0.0036432415 & 0.0345063121 & 0.162505832  & 0            & 0.096518643  & 0.0007404593 & 0.2451738   \\\\\n",
       "\t 0.0236072908 & 0.016073499  & 0.10949675   & 0.013952921  & 0.145972503  & 0.0106300776 & 0.57660392   & 0.0027942091 & 0.0022746372 & 0.0038182490 & ...          & 0            & 0.0073887950 & 0.0020601628 & 0.0047999981 & 0.0035494007 & 0.223533706  & 0            & 0.194102377  & 0.0027549391 & 0.1379675   \\\\\n",
       "\t 0.0003318565 & 0.022566244  & 0.01237351   & 0.005736377  & 0.284258826  & 0.0258848097 & 0.09500578   & 0.0004740808 & 0.0070163953 & 0.0058786015 & ...          & 0            & 0.0036978300 & 0.0012326100 & 0.0022281796 & 0.0025600361 & 0.002560036  & 0            & 0.005783785  & 0.0005688969 & 0.1728024   \\\\\n",
       "\t 0.0096618613 & 0.009905977  & 0.03612919   & 0.024732823  & 0.139094828  & 0.0101565178 & 0.37938866   & 0.0012848220 & 0.0070793691 & 0.0027623673 & ...          & 0            & 0.0089744815 & 0.0013811836 & 0.0008030137 & 0.0025182511 & 0.337689761  & 0            & 0.059455137  & 0.0015032417 & 0.1156468   \\\\\n",
       "\t 0.0238398639 & 0.043769743  & 0.10451810   & 0.051960830  & 0.368903779  & 0.0078774050 & 0.46861944   & 0.0392942456 & 0.0043915539 & 0.0031368242 & ...          & 0            & 0.0072412040 & 0.0016479372 & 0.0076520838 & 0.0359011738 & 0.276340957  & 0            & 0.081897620  & 0.0094060545 & 0.2082100   \\\\\n",
       "\t 0.0044350105 & 0.015326644  & 0.05163731   & 0.034398757  & 0.099153045  & 0.0086976355 & 0.26022385   & 0.0012850561 & 0.0022096696 & 0.0020842982 & ...          & 0            & 0.0138692025 & 0.0009089421 & 0.0072245225 & 0.0009559563 & 0.221484112  & 0            & 0.028929433  & 0.0001723856 & 0.4251655   \\\\\n",
       "\t 0.0026097098 & 0.015365791  & 0.01925786   & 0.003779580  & 0.143579034  & 0.0060743245 & 0.80032600   & 0.0004724475 & 0.0026996998 & 0.0101238742 & ...          & 0            & 0.0004499500 & 0.0011473724 & 0.0085715468 & 0.0016198199 & 0.007896622  & 0            & 0.001844795  & 0.0007199199 & 0.1356149   \\\\\n",
       "\t 0.0049577683 & 0.030723805  & 0.06783727   & 0.063174652  & 0.181957675  & 0.0081047347 & 0.89155272   & 0.0024569471 & 0.0019105157 & 0.0038369856 & ...          & 0            & 0.0102784947 & 0.0047224438 & 0.0015355920 & 0.0076460514 & 0.274456150  & 0            & 0.139276196  & 0.0016472714 & 0.1304535   \\\\\n",
       "\t 0.0462200117 & 0.033652323  & 0.04989142   & 0.002772749  & 0.216838916  & 0.0039784885 & 0.48550656   & 0.0007451199 & 0.0006141594 & 0.0008264057 & ...          & 0            & 0.0064622215 & 0.0011696124 & 0.0017340972 & 0.0075234528 & 0.134166736  & 0            & 0.059090264  & 0.0004922307 & 0.1194766   \\\\\n",
       "\t 0.0614586640 & 0.010399595  & 0.11331712   & 0.115277887  & 0.135394579  & 0.0053619376 & 0.55830515   & 0.0013423697 & 0.0025376821 & 0.0116778626 & ...          & 0            & 0.0048755171 & 0.0047850202 & 0.0021342171 & 0.0047435425 & 0.275570408  & 0            & 0.219775338  & 0.0080956962 & 0.1441539   \\\\\n",
       "\t 0.0020312863 & 0.006477926  & 0.04937818   & 0.005773803  & 0.006221881  & 0.0009388298 & 0.37446934   & 0.0010967239 & 0.0035974252 & 0.0013356988 & ...          & 0            & 0.0006102394 & 0.0010753869 & 0.0011436654 & 0.0013655706 & 0.362371239  & 0            & 0.019826379  & 0.0004182060 & 0.0732842   \\\\\n",
       "\t 0.0099491717 & 0.034522480  & 0.04676728   & 0.014712261  & 0.197489737  & 0.0111652795 & 0.62449779   & 0.0013218563 & 0.0010751098 & 0.0039038823 & ...          & 0            & 0.0036395110 & 0.0012469511 & 0.0021502196 & 0.0041285978 & 0.212268090  & 0            & 0.164967666  & 0.0005243363 & 0.1914797   \\\\\n",
       "\\end{tabular}\n"
      ],
      "text/markdown": [
       "\n",
       "| AHD | FFD | FGD | MDS | MP | NEO | PAM | PAN | PCS | PDI | ... | PRD | PRV | PSD | PT | PUD | RNI | SAP | UC | UMD | USFP |\n",
       "|---|---|---|---|---|---|---|---|---|---|---|---|---|---|---|---|---|---|---|---|---|\n",
       "| 0.0285008692 | 0.014477569  | 0.06514679   | 0.014532082  | 0.222969104  | 0.0179027615 | 0.44417110   | 0.0040157425 | 0.0061053822 | 0.0221047544 | ...          | 0            | 0.0100847832 | 0.0020805544 | 0.0036432415 | 0.0345063121 | 0.162505832  | 0            | 0.096518643  | 0.0007404593 | 0.2451738    |\n",
       "| 0.0236072908 | 0.016073499  | 0.10949675   | 0.013952921  | 0.145972503  | 0.0106300776 | 0.57660392   | 0.0027942091 | 0.0022746372 | 0.0038182490 | ...          | 0            | 0.0073887950 | 0.0020601628 | 0.0047999981 | 0.0035494007 | 0.223533706  | 0            | 0.194102377  | 0.0027549391 | 0.1379675    |\n",
       "| 0.0003318565 | 0.022566244  | 0.01237351   | 0.005736377  | 0.284258826  | 0.0258848097 | 0.09500578   | 0.0004740808 | 0.0070163953 | 0.0058786015 | ...          | 0            | 0.0036978300 | 0.0012326100 | 0.0022281796 | 0.0025600361 | 0.002560036  | 0            | 0.005783785  | 0.0005688969 | 0.1728024    |\n",
       "| 0.0096618613 | 0.009905977  | 0.03612919   | 0.024732823  | 0.139094828  | 0.0101565178 | 0.37938866   | 0.0012848220 | 0.0070793691 | 0.0027623673 | ...          | 0            | 0.0089744815 | 0.0013811836 | 0.0008030137 | 0.0025182511 | 0.337689761  | 0            | 0.059455137  | 0.0015032417 | 0.1156468    |\n",
       "| 0.0238398639 | 0.043769743  | 0.10451810   | 0.051960830  | 0.368903779  | 0.0078774050 | 0.46861944   | 0.0392942456 | 0.0043915539 | 0.0031368242 | ...          | 0            | 0.0072412040 | 0.0016479372 | 0.0076520838 | 0.0359011738 | 0.276340957  | 0            | 0.081897620  | 0.0094060545 | 0.2082100    |\n",
       "| 0.0044350105 | 0.015326644  | 0.05163731   | 0.034398757  | 0.099153045  | 0.0086976355 | 0.26022385   | 0.0012850561 | 0.0022096696 | 0.0020842982 | ...          | 0            | 0.0138692025 | 0.0009089421 | 0.0072245225 | 0.0009559563 | 0.221484112  | 0            | 0.028929433  | 0.0001723856 | 0.4251655    |\n",
       "| 0.0026097098 | 0.015365791  | 0.01925786   | 0.003779580  | 0.143579034  | 0.0060743245 | 0.80032600   | 0.0004724475 | 0.0026996998 | 0.0101238742 | ...          | 0            | 0.0004499500 | 0.0011473724 | 0.0085715468 | 0.0016198199 | 0.007896622  | 0            | 0.001844795  | 0.0007199199 | 0.1356149    |\n",
       "| 0.0049577683 | 0.030723805  | 0.06783727   | 0.063174652  | 0.181957675  | 0.0081047347 | 0.89155272   | 0.0024569471 | 0.0019105157 | 0.0038369856 | ...          | 0            | 0.0102784947 | 0.0047224438 | 0.0015355920 | 0.0076460514 | 0.274456150  | 0            | 0.139276196  | 0.0016472714 | 0.1304535    |\n",
       "| 0.0462200117 | 0.033652323  | 0.04989142   | 0.002772749  | 0.216838916  | 0.0039784885 | 0.48550656   | 0.0007451199 | 0.0006141594 | 0.0008264057 | ...          | 0            | 0.0064622215 | 0.0011696124 | 0.0017340972 | 0.0075234528 | 0.134166736  | 0            | 0.059090264  | 0.0004922307 | 0.1194766    |\n",
       "| 0.0614586640 | 0.010399595  | 0.11331712   | 0.115277887  | 0.135394579  | 0.0053619376 | 0.55830515   | 0.0013423697 | 0.0025376821 | 0.0116778626 | ...          | 0            | 0.0048755171 | 0.0047850202 | 0.0021342171 | 0.0047435425 | 0.275570408  | 0            | 0.219775338  | 0.0080956962 | 0.1441539    |\n",
       "| 0.0020312863 | 0.006477926  | 0.04937818   | 0.005773803  | 0.006221881  | 0.0009388298 | 0.37446934   | 0.0010967239 | 0.0035974252 | 0.0013356988 | ...          | 0            | 0.0006102394 | 0.0010753869 | 0.0011436654 | 0.0013655706 | 0.362371239  | 0            | 0.019826379  | 0.0004182060 | 0.0732842    |\n",
       "| 0.0099491717 | 0.034522480  | 0.04676728   | 0.014712261  | 0.197489737  | 0.0111652795 | 0.62449779   | 0.0013218563 | 0.0010751098 | 0.0039038823 | ...          | 0            | 0.0036395110 | 0.0012469511 | 0.0021502196 | 0.0041285978 | 0.212268090  | 0            | 0.164967666  | 0.0005243363 | 0.1914797    |\n",
       "\n"
      ],
      "text/plain": [
       "   AHD          FFD         FGD        MDS         MP          NEO         \n",
       "1  0.0285008692 0.014477569 0.06514679 0.014532082 0.222969104 0.0179027615\n",
       "2  0.0236072908 0.016073499 0.10949675 0.013952921 0.145972503 0.0106300776\n",
       "3  0.0003318565 0.022566244 0.01237351 0.005736377 0.284258826 0.0258848097\n",
       "4  0.0096618613 0.009905977 0.03612919 0.024732823 0.139094828 0.0101565178\n",
       "5  0.0238398639 0.043769743 0.10451810 0.051960830 0.368903779 0.0078774050\n",
       "6  0.0044350105 0.015326644 0.05163731 0.034398757 0.099153045 0.0086976355\n",
       "7  0.0026097098 0.015365791 0.01925786 0.003779580 0.143579034 0.0060743245\n",
       "8  0.0049577683 0.030723805 0.06783727 0.063174652 0.181957675 0.0081047347\n",
       "9  0.0462200117 0.033652323 0.04989142 0.002772749 0.216838916 0.0039784885\n",
       "10 0.0614586640 0.010399595 0.11331712 0.115277887 0.135394579 0.0053619376\n",
       "11 0.0020312863 0.006477926 0.04937818 0.005773803 0.006221881 0.0009388298\n",
       "12 0.0099491717 0.034522480 0.04676728 0.014712261 0.197489737 0.0111652795\n",
       "   PAM        PAN          PCS          PDI          ... PRD PRV         \n",
       "1  0.44417110 0.0040157425 0.0061053822 0.0221047544 ... 0   0.0100847832\n",
       "2  0.57660392 0.0027942091 0.0022746372 0.0038182490 ... 0   0.0073887950\n",
       "3  0.09500578 0.0004740808 0.0070163953 0.0058786015 ... 0   0.0036978300\n",
       "4  0.37938866 0.0012848220 0.0070793691 0.0027623673 ... 0   0.0089744815\n",
       "5  0.46861944 0.0392942456 0.0043915539 0.0031368242 ... 0   0.0072412040\n",
       "6  0.26022385 0.0012850561 0.0022096696 0.0020842982 ... 0   0.0138692025\n",
       "7  0.80032600 0.0004724475 0.0026996998 0.0101238742 ... 0   0.0004499500\n",
       "8  0.89155272 0.0024569471 0.0019105157 0.0038369856 ... 0   0.0102784947\n",
       "9  0.48550656 0.0007451199 0.0006141594 0.0008264057 ... 0   0.0064622215\n",
       "10 0.55830515 0.0013423697 0.0025376821 0.0116778626 ... 0   0.0048755171\n",
       "11 0.37446934 0.0010967239 0.0035974252 0.0013356988 ... 0   0.0006102394\n",
       "12 0.62449779 0.0013218563 0.0010751098 0.0039038823 ... 0   0.0036395110\n",
       "   PSD          PT           PUD          RNI         SAP UC         \n",
       "1  0.0020805544 0.0036432415 0.0345063121 0.162505832 0   0.096518643\n",
       "2  0.0020601628 0.0047999981 0.0035494007 0.223533706 0   0.194102377\n",
       "3  0.0012326100 0.0022281796 0.0025600361 0.002560036 0   0.005783785\n",
       "4  0.0013811836 0.0008030137 0.0025182511 0.337689761 0   0.059455137\n",
       "5  0.0016479372 0.0076520838 0.0359011738 0.276340957 0   0.081897620\n",
       "6  0.0009089421 0.0072245225 0.0009559563 0.221484112 0   0.028929433\n",
       "7  0.0011473724 0.0085715468 0.0016198199 0.007896622 0   0.001844795\n",
       "8  0.0047224438 0.0015355920 0.0076460514 0.274456150 0   0.139276196\n",
       "9  0.0011696124 0.0017340972 0.0075234528 0.134166736 0   0.059090264\n",
       "10 0.0047850202 0.0021342171 0.0047435425 0.275570408 0   0.219775338\n",
       "11 0.0010753869 0.0011436654 0.0013655706 0.362371239 0   0.019826379\n",
       "12 0.0012469511 0.0021502196 0.0041285978 0.212268090 0   0.164967666\n",
       "   UMD          USFP     \n",
       "1  0.0007404593 0.2451738\n",
       "2  0.0027549391 0.1379675\n",
       "3  0.0005688969 0.1728024\n",
       "4  0.0015032417 0.1156468\n",
       "5  0.0094060545 0.2082100\n",
       "6  0.0001723856 0.4251655\n",
       "7  0.0007199199 0.1356149\n",
       "8  0.0016472714 0.1304535\n",
       "9  0.0004922307 0.1194766\n",
       "10 0.0080956962 0.1441539\n",
       "11 0.0004182060 0.0732842\n",
       "12 0.0005243363 0.1914797"
      ]
     },
     "metadata": {},
     "output_type": "display_data"
    }
   ],
   "source": [
    "\n",
    "regunal2016t"
   ]
  },
  {
   "cell_type": "code",
   "execution_count": null,
   "id": "e7f4f37d",
   "metadata": {},
   "outputs": [],
   "source": []
  },
  {
   "cell_type": "code",
   "execution_count": 57,
   "id": "c7277f16",
   "metadata": {},
   "outputs": [],
   "source": [
    " for (i in 1:12){for (j in 1:28){ regunal2016r[i,j]<-regunal2016t[i,j]%%1\n",
    "\n",
    "     }\n",
    "        }\n",
    "       "
   ]
  },
  {
   "cell_type": "code",
   "execution_count": 58,
   "id": "1153e947",
   "metadata": {},
   "outputs": [
    {
     "data": {
      "text/html": [
       "<table>\n",
       "<tbody>\n",
       "\t<tr><td>0  </td><td>0  </td><td>0  </td><td>0  </td><td>0  </td><td>0  </td><td>0  </td><td>0  </td><td>0  </td><td>0  </td><td>...</td><td>0  </td><td>0  </td><td>0  </td><td>0  </td><td>0  </td><td>0  </td><td>0  </td><td>0  </td><td>0  </td><td>0  </td></tr>\n",
       "\t<tr><td>0  </td><td>0  </td><td>0  </td><td>0  </td><td>0  </td><td>0  </td><td>0  </td><td>0  </td><td>0  </td><td>0  </td><td>...</td><td>0  </td><td>0  </td><td>0  </td><td>0  </td><td>0  </td><td>0  </td><td>0  </td><td>0  </td><td>0  </td><td>0  </td></tr>\n",
       "\t<tr><td>0  </td><td>0  </td><td>0  </td><td>0  </td><td>0  </td><td>0  </td><td>0  </td><td>0  </td><td>0  </td><td>0  </td><td>...</td><td>0  </td><td>0  </td><td>0  </td><td>0  </td><td>0  </td><td>0  </td><td>0  </td><td>0  </td><td>0  </td><td>0  </td></tr>\n",
       "\t<tr><td>0  </td><td>0  </td><td>0  </td><td>0  </td><td>0  </td><td>0  </td><td>0  </td><td>0  </td><td>0  </td><td>0  </td><td>...</td><td>0  </td><td>0  </td><td>0  </td><td>0  </td><td>0  </td><td>0  </td><td>0  </td><td>0  </td><td>0  </td><td>0  </td></tr>\n",
       "\t<tr><td>0  </td><td>0  </td><td>0  </td><td>0  </td><td>0  </td><td>0  </td><td>0  </td><td>0  </td><td>0  </td><td>0  </td><td>...</td><td>0  </td><td>0  </td><td>0  </td><td>0  </td><td>0  </td><td>0  </td><td>0  </td><td>0  </td><td>0  </td><td>0  </td></tr>\n",
       "\t<tr><td>0  </td><td>0  </td><td>0  </td><td>0  </td><td>0  </td><td>0  </td><td>0  </td><td>0  </td><td>0  </td><td>0  </td><td>...</td><td>0  </td><td>0  </td><td>0  </td><td>0  </td><td>0  </td><td>0  </td><td>0  </td><td>0  </td><td>0  </td><td>0  </td></tr>\n",
       "\t<tr><td>0  </td><td>0  </td><td>0  </td><td>0  </td><td>0  </td><td>0  </td><td>0  </td><td>0  </td><td>0  </td><td>0  </td><td>...</td><td>0  </td><td>0  </td><td>0  </td><td>0  </td><td>0  </td><td>0  </td><td>0  </td><td>0  </td><td>0  </td><td>0  </td></tr>\n",
       "\t<tr><td>0  </td><td>0  </td><td>0  </td><td>0  </td><td>0  </td><td>0  </td><td>0  </td><td>0  </td><td>0  </td><td>0  </td><td>...</td><td>0  </td><td>0  </td><td>0  </td><td>0  </td><td>0  </td><td>0  </td><td>0  </td><td>0  </td><td>0  </td><td>0  </td></tr>\n",
       "\t<tr><td>0  </td><td>0  </td><td>0  </td><td>0  </td><td>0  </td><td>0  </td><td>0  </td><td>0  </td><td>0  </td><td>0  </td><td>...</td><td>0  </td><td>0  </td><td>0  </td><td>0  </td><td>0  </td><td>0  </td><td>0  </td><td>0  </td><td>0  </td><td>0  </td></tr>\n",
       "\t<tr><td>0  </td><td>0  </td><td>0  </td><td>0  </td><td>0  </td><td>0  </td><td>0  </td><td>0  </td><td>0  </td><td>0  </td><td>...</td><td>0  </td><td>0  </td><td>0  </td><td>0  </td><td>0  </td><td>0  </td><td>0  </td><td>0  </td><td>0  </td><td>0  </td></tr>\n",
       "\t<tr><td>0  </td><td>0  </td><td>0  </td><td>0  </td><td>0  </td><td>0  </td><td>0  </td><td>0  </td><td>0  </td><td>0  </td><td>...</td><td>0  </td><td>0  </td><td>0  </td><td>0  </td><td>0  </td><td>0  </td><td>0  </td><td>0  </td><td>0  </td><td>0  </td></tr>\n",
       "\t<tr><td>0  </td><td>0  </td><td>0  </td><td>0  </td><td>0  </td><td>0  </td><td>0  </td><td>0  </td><td>0  </td><td>0  </td><td>...</td><td>0  </td><td>0  </td><td>0  </td><td>0  </td><td>0  </td><td>0  </td><td>0  </td><td>0  </td><td>0  </td><td>0  </td></tr>\n",
       "</tbody>\n",
       "</table>\n"
      ],
      "text/latex": [
       "\\begin{tabular}{llllllllllllllllllllllllllll}\n",
       "\t 0   & 0   & 0   & 0   & 0   & 0   & 0   & 0   & 0   & 0   & ... & 0   & 0   & 0   & 0   & 0   & 0   & 0   & 0   & 0   & 0  \\\\\n",
       "\t 0   & 0   & 0   & 0   & 0   & 0   & 0   & 0   & 0   & 0   & ... & 0   & 0   & 0   & 0   & 0   & 0   & 0   & 0   & 0   & 0  \\\\\n",
       "\t 0   & 0   & 0   & 0   & 0   & 0   & 0   & 0   & 0   & 0   & ... & 0   & 0   & 0   & 0   & 0   & 0   & 0   & 0   & 0   & 0  \\\\\n",
       "\t 0   & 0   & 0   & 0   & 0   & 0   & 0   & 0   & 0   & 0   & ... & 0   & 0   & 0   & 0   & 0   & 0   & 0   & 0   & 0   & 0  \\\\\n",
       "\t 0   & 0   & 0   & 0   & 0   & 0   & 0   & 0   & 0   & 0   & ... & 0   & 0   & 0   & 0   & 0   & 0   & 0   & 0   & 0   & 0  \\\\\n",
       "\t 0   & 0   & 0   & 0   & 0   & 0   & 0   & 0   & 0   & 0   & ... & 0   & 0   & 0   & 0   & 0   & 0   & 0   & 0   & 0   & 0  \\\\\n",
       "\t 0   & 0   & 0   & 0   & 0   & 0   & 0   & 0   & 0   & 0   & ... & 0   & 0   & 0   & 0   & 0   & 0   & 0   & 0   & 0   & 0  \\\\\n",
       "\t 0   & 0   & 0   & 0   & 0   & 0   & 0   & 0   & 0   & 0   & ... & 0   & 0   & 0   & 0   & 0   & 0   & 0   & 0   & 0   & 0  \\\\\n",
       "\t 0   & 0   & 0   & 0   & 0   & 0   & 0   & 0   & 0   & 0   & ... & 0   & 0   & 0   & 0   & 0   & 0   & 0   & 0   & 0   & 0  \\\\\n",
       "\t 0   & 0   & 0   & 0   & 0   & 0   & 0   & 0   & 0   & 0   & ... & 0   & 0   & 0   & 0   & 0   & 0   & 0   & 0   & 0   & 0  \\\\\n",
       "\t 0   & 0   & 0   & 0   & 0   & 0   & 0   & 0   & 0   & 0   & ... & 0   & 0   & 0   & 0   & 0   & 0   & 0   & 0   & 0   & 0  \\\\\n",
       "\t 0   & 0   & 0   & 0   & 0   & 0   & 0   & 0   & 0   & 0   & ... & 0   & 0   & 0   & 0   & 0   & 0   & 0   & 0   & 0   & 0  \\\\\n",
       "\\end{tabular}\n"
      ],
      "text/markdown": [
       "\n",
       "| 0   | 0   | 0   | 0   | 0   | 0   | 0   | 0   | 0   | 0   | ... | 0   | 0   | 0   | 0   | 0   | 0   | 0   | 0   | 0   | 0   |\n",
       "| 0   | 0   | 0   | 0   | 0   | 0   | 0   | 0   | 0   | 0   | ... | 0   | 0   | 0   | 0   | 0   | 0   | 0   | 0   | 0   | 0   |\n",
       "| 0   | 0   | 0   | 0   | 0   | 0   | 0   | 0   | 0   | 0   | ... | 0   | 0   | 0   | 0   | 0   | 0   | 0   | 0   | 0   | 0   |\n",
       "| 0   | 0   | 0   | 0   | 0   | 0   | 0   | 0   | 0   | 0   | ... | 0   | 0   | 0   | 0   | 0   | 0   | 0   | 0   | 0   | 0   |\n",
       "| 0   | 0   | 0   | 0   | 0   | 0   | 0   | 0   | 0   | 0   | ... | 0   | 0   | 0   | 0   | 0   | 0   | 0   | 0   | 0   | 0   |\n",
       "| 0   | 0   | 0   | 0   | 0   | 0   | 0   | 0   | 0   | 0   | ... | 0   | 0   | 0   | 0   | 0   | 0   | 0   | 0   | 0   | 0   |\n",
       "| 0   | 0   | 0   | 0   | 0   | 0   | 0   | 0   | 0   | 0   | ... | 0   | 0   | 0   | 0   | 0   | 0   | 0   | 0   | 0   | 0   |\n",
       "| 0   | 0   | 0   | 0   | 0   | 0   | 0   | 0   | 0   | 0   | ... | 0   | 0   | 0   | 0   | 0   | 0   | 0   | 0   | 0   | 0   |\n",
       "| 0   | 0   | 0   | 0   | 0   | 0   | 0   | 0   | 0   | 0   | ... | 0   | 0   | 0   | 0   | 0   | 0   | 0   | 0   | 0   | 0   |\n",
       "| 0   | 0   | 0   | 0   | 0   | 0   | 0   | 0   | 0   | 0   | ... | 0   | 0   | 0   | 0   | 0   | 0   | 0   | 0   | 0   | 0   |\n",
       "| 0   | 0   | 0   | 0   | 0   | 0   | 0   | 0   | 0   | 0   | ... | 0   | 0   | 0   | 0   | 0   | 0   | 0   | 0   | 0   | 0   |\n",
       "| 0   | 0   | 0   | 0   | 0   | 0   | 0   | 0   | 0   | 0   | ... | 0   | 0   | 0   | 0   | 0   | 0   | 0   | 0   | 0   | 0   |\n",
       "\n"
      ],
      "text/plain": [
       "      [,1] [,2] [,3] [,4] [,5] [,6] [,7] [,8] [,9] [,10] [,11] [,12] [,13]\n",
       " [1,] 0    0    0    0    0    0    0    0    0    0     ...   0     0    \n",
       " [2,] 0    0    0    0    0    0    0    0    0    0     ...   0     0    \n",
       " [3,] 0    0    0    0    0    0    0    0    0    0     ...   0     0    \n",
       " [4,] 0    0    0    0    0    0    0    0    0    0     ...   0     0    \n",
       " [5,] 0    0    0    0    0    0    0    0    0    0     ...   0     0    \n",
       " [6,] 0    0    0    0    0    0    0    0    0    0     ...   0     0    \n",
       " [7,] 0    0    0    0    0    0    0    0    0    0     ...   0     0    \n",
       " [8,] 0    0    0    0    0    0    0    0    0    0     ...   0     0    \n",
       " [9,] 0    0    0    0    0    0    0    0    0    0     ...   0     0    \n",
       "[10,] 0    0    0    0    0    0    0    0    0    0     ...   0     0    \n",
       "[11,] 0    0    0    0    0    0    0    0    0    0     ...   0     0    \n",
       "[12,] 0    0    0    0    0    0    0    0    0    0     ...   0     0    \n",
       "      [,14] [,15] [,16] [,17] [,18] [,19] [,20] [,21]\n",
       " [1,] 0     0     0     0     0     0     0     0    \n",
       " [2,] 0     0     0     0     0     0     0     0    \n",
       " [3,] 0     0     0     0     0     0     0     0    \n",
       " [4,] 0     0     0     0     0     0     0     0    \n",
       " [5,] 0     0     0     0     0     0     0     0    \n",
       " [6,] 0     0     0     0     0     0     0     0    \n",
       " [7,] 0     0     0     0     0     0     0     0    \n",
       " [8,] 0     0     0     0     0     0     0     0    \n",
       " [9,] 0     0     0     0     0     0     0     0    \n",
       "[10,] 0     0     0     0     0     0     0     0    \n",
       "[11,] 0     0     0     0     0     0     0     0    \n",
       "[12,] 0     0     0     0     0     0     0     0    "
      ]
     },
     "metadata": {},
     "output_type": "display_data"
    }
   ],
   "source": [
    "regunal2016rK"
   ]
  },
  {
   "cell_type": "code",
   "execution_count": 59,
   "id": "5c5f7cd7",
   "metadata": {},
   "outputs": [],
   "source": [
    "for (i in 1:12){for (j in 1:28){ regunal2016rK[i,j]<-regunal2016t[i,j]-regunal2016r[i,j]\n",
    "\n",
    "     }\n",
    "        }\n",
    "       "
   ]
  },
  {
   "cell_type": "code",
   "execution_count": 60,
   "id": "c9314a66",
   "metadata": {},
   "outputs": [
    {
     "data": {
      "text/html": [
       "<ol class=list-inline>\n",
       "\t<li>12</li>\n",
       "\t<li>28</li>\n",
       "</ol>\n"
      ],
      "text/latex": [
       "\\begin{enumerate*}\n",
       "\\item 12\n",
       "\\item 28\n",
       "\\end{enumerate*}\n"
      ],
      "text/markdown": [
       "1. 12\n",
       "2. 28\n",
       "\n",
       "\n"
      ],
      "text/plain": [
       "[1] 12 28"
      ]
     },
     "metadata": {},
     "output_type": "display_data"
    }
   ],
   "source": [
    "dim(regunal2016rK)"
   ]
  },
  {
   "cell_type": "markdown",
   "id": "4c408a87",
   "metadata": {},
   "source": [
    "b<-sum(regunal2016rK[7,])"
   ]
  },
  {
   "cell_type": "markdown",
   "id": "1423e2f5",
   "metadata": {},
   "source": [
    "df$nSieges[7]-sum(regunal2016rK[7,])\n"
   ]
  },
  {
   "cell_type": "code",
   "execution_count": 62,
   "id": "4b26912f",
   "metadata": {},
   "outputs": [
    {
     "data": {
      "text/html": [
       "<ol class=list-inline>\n",
       "\t<li>12</li>\n",
       "\t<li>28</li>\n",
       "</ol>\n"
      ],
      "text/latex": [
       "\\begin{enumerate*}\n",
       "\\item 12\n",
       "\\item 28\n",
       "\\end{enumerate*}\n"
      ],
      "text/markdown": [
       "1. 12\n",
       "2. 28\n",
       "\n",
       "\n"
      ],
      "text/plain": [
       "[1] 12 28"
      ]
     },
     "metadata": {},
     "output_type": "display_data"
    }
   ],
   "source": [
    "dim(regunal2016rK)"
   ]
  },
  {
   "cell_type": "code",
   "execution_count": 64,
   "id": "63c9a8b3",
   "metadata": {},
   "outputs": [
    {
     "data": {
      "text/html": [
       "1"
      ],
      "text/latex": [
       "1"
      ],
      "text/markdown": [
       "1"
      ],
      "text/plain": [
       "[1] 1"
      ]
     },
     "metadata": {},
     "output_type": "display_data"
    }
   ],
   "source": [
    "sum(regunal2016rK)\n"
   ]
  },
  {
   "cell_type": "code",
   "execution_count": 65,
   "id": "1ed46d9a",
   "metadata": {},
   "outputs": [
    {
     "data": {
      "text/html": [
       "<ol class=list-inline>\n",
       "\t<li>12</li>\n",
       "\t<li>28</li>\n",
       "</ol>\n"
      ],
      "text/latex": [
       "\\begin{enumerate*}\n",
       "\\item 12\n",
       "\\item 28\n",
       "\\end{enumerate*}\n"
      ],
      "text/markdown": [
       "1. 12\n",
       "2. 28\n",
       "\n",
       "\n"
      ],
      "text/plain": [
       "[1] 12 28"
      ]
     },
     "metadata": {},
     "output_type": "display_data"
    }
   ],
   "source": [
    "dim(regunal2016r)"
   ]
  },
  {
   "cell_type": "code",
   "execution_count": null,
   "id": "07a5744e",
   "metadata": {},
   "outputs": [],
   "source": []
  },
  {
   "cell_type": "code",
   "execution_count": 66,
   "id": "6ca55778",
   "metadata": {},
   "outputs": [],
   "source": [
    "for (i in 1:12){df$nSieges[i]<-df$nSieges[i]- sum(regunal2016rK[i,])}"
   ]
  },
  {
   "cell_type": "code",
   "execution_count": 90,
   "id": "3e856a48",
   "metadata": {},
   "outputs": [
    {
     "data": {
      "text/html": [
       "89"
      ],
      "text/latex": [
       "89"
      ],
      "text/markdown": [
       "89"
      ],
      "text/plain": [
       "[1] 89"
      ]
     },
     "metadata": {},
     "output_type": "display_data"
    }
   ],
   "source": [
    "sum(df$nSieges)"
   ]
  },
  {
   "cell_type": "code",
   "execution_count": null,
   "id": "cc007490",
   "metadata": {},
   "outputs": [],
   "source": []
  },
  {
   "cell_type": "code",
   "execution_count": 68,
   "id": "59a019f4",
   "metadata": {},
   "outputs": [],
   "source": [
    "\n",
    "for (i in 1:12){c = regunal2016r[i,]\n",
    "        b<-sort(c,decreasing = TRUE)\n",
    "                  for (j in 1:df$nSieges[i]){\n",
    "                    for (t in 1:28){\n",
    "                      if(c[t]==b[j] ) {regunal2016rR[i,t]<-1}\n",
    "                    }\n",
    "             \n",
    "             }\n",
    "                    \n",
    "}\n",
    "\n",
    "\n",
    "\n"
   ]
  },
  {
   "cell_type": "code",
   "execution_count": 69,
   "id": "621e4a96",
   "metadata": {},
   "outputs": [
    {
     "data": {
      "text/html": [
       "<dl class=dl-horizontal>\n",
       "\t<dt>V1</dt>\n",
       "\t\t<dd>1</dd>\n",
       "\t<dt>V2</dt>\n",
       "\t\t<dd>1</dd>\n",
       "\t<dt>V3</dt>\n",
       "\t\t<dd>5</dd>\n",
       "\t<dt>V4</dt>\n",
       "\t\t<dd>3</dd>\n",
       "\t<dt>V5</dt>\n",
       "\t\t<dd>10</dd>\n",
       "\t<dt>V6</dt>\n",
       "\t\t<dd>0</dd>\n",
       "\t<dt>V7</dt>\n",
       "\t\t<dd>11</dd>\n",
       "\t<dt>V8</dt>\n",
       "\t\t<dd>0</dd>\n",
       "\t<dt>V9</dt>\n",
       "\t\t<dd>0</dd>\n",
       "\t<dt>V10</dt>\n",
       "\t\t<dd>0</dd>\n",
       "\t<dt>V11</dt>\n",
       "\t\t<dd>0</dd>\n",
       "\t<dt>V12</dt>\n",
       "\t\t<dd>0</dd>\n",
       "\t<dt>V13</dt>\n",
       "\t\t<dd>0</dd>\n",
       "\t<dt>V14</dt>\n",
       "\t\t<dd>0</dd>\n",
       "\t<dt>V15</dt>\n",
       "\t\t<dd>12</dd>\n",
       "\t<dt>V16</dt>\n",
       "\t\t<dd>12</dd>\n",
       "\t<dt>V17</dt>\n",
       "\t\t<dd>0</dd>\n",
       "\t<dt>V18</dt>\n",
       "\t\t<dd>7</dd>\n",
       "\t<dt>V19</dt>\n",
       "\t\t<dd>0</dd>\n",
       "\t<dt>V20</dt>\n",
       "\t\t<dd>0</dd>\n",
       "\t<dt>V21</dt>\n",
       "\t\t<dd>0</dd>\n",
       "\t<dt>V22</dt>\n",
       "\t\t<dd>0</dd>\n",
       "\t<dt>V23</dt>\n",
       "\t\t<dd>0</dd>\n",
       "\t<dt>V24</dt>\n",
       "\t\t<dd>10</dd>\n",
       "\t<dt>V25</dt>\n",
       "\t\t<dd>0</dd>\n",
       "\t<dt>V26</dt>\n",
       "\t\t<dd>7</dd>\n",
       "\t<dt>V27</dt>\n",
       "\t\t<dd>0</dd>\n",
       "\t<dt>V28</dt>\n",
       "\t\t<dd>10</dd>\n",
       "</dl>\n"
      ],
      "text/latex": [
       "\\begin{description*}\n",
       "\\item[V1] 1\n",
       "\\item[V2] 1\n",
       "\\item[V3] 5\n",
       "\\item[V4] 3\n",
       "\\item[V5] 10\n",
       "\\item[V6] 0\n",
       "\\item[V7] 11\n",
       "\\item[V8] 0\n",
       "\\item[V9] 0\n",
       "\\item[V10] 0\n",
       "\\item[V11] 0\n",
       "\\item[V12] 0\n",
       "\\item[V13] 0\n",
       "\\item[V14] 0\n",
       "\\item[V15] 12\n",
       "\\item[V16] 12\n",
       "\\item[V17] 0\n",
       "\\item[V18] 7\n",
       "\\item[V19] 0\n",
       "\\item[V20] 0\n",
       "\\item[V21] 0\n",
       "\\item[V22] 0\n",
       "\\item[V23] 0\n",
       "\\item[V24] 10\n",
       "\\item[V25] 0\n",
       "\\item[V26] 7\n",
       "\\item[V27] 0\n",
       "\\item[V28] 10\n",
       "\\end{description*}\n"
      ],
      "text/markdown": [
       "V1\n",
       ":   1V2\n",
       ":   1V3\n",
       ":   5V4\n",
       ":   3V5\n",
       ":   10V6\n",
       ":   0V7\n",
       ":   11V8\n",
       ":   0V9\n",
       ":   0V10\n",
       ":   0V11\n",
       ":   0V12\n",
       ":   0V13\n",
       ":   0V14\n",
       ":   0V15\n",
       ":   12V16\n",
       ":   12V17\n",
       ":   0V18\n",
       ":   7V19\n",
       ":   0V20\n",
       ":   0V21\n",
       ":   0V22\n",
       ":   0V23\n",
       ":   0V24\n",
       ":   10V25\n",
       ":   0V26\n",
       ":   7V27\n",
       ":   0V28\n",
       ":   10\n",
       "\n"
      ],
      "text/plain": [
       " V1  V2  V3  V4  V5  V6  V7  V8  V9 V10 V11 V12 V13 V14 V15 V16 V17 V18 V19 V20 \n",
       "  1   1   5   3  10   0  11   0   0   0   0   0   0   0  12  12   0   7   0   0 \n",
       "V21 V22 V23 V24 V25 V26 V27 V28 \n",
       "  0   0   0  10   0   7   0  10 "
      ]
     },
     "metadata": {},
     "output_type": "display_data"
    }
   ],
   "source": [
    "colSums(regunal2016rR)"
   ]
  },
  {
   "cell_type": "code",
   "execution_count": 70,
   "id": "fbb15ff1",
   "metadata": {},
   "outputs": [],
   "source": [
    "ad<-regunal2016rK+regunal2016rR"
   ]
  },
  {
   "cell_type": "code",
   "execution_count": 71,
   "id": "04305bca",
   "metadata": {
    "scrolled": true
   },
   "outputs": [
    {
     "data": {
      "text/html": [
       "<table>\n",
       "<thead><tr><th scope=col>V1</th><th scope=col>V2</th><th scope=col>V3</th><th scope=col>V4</th><th scope=col>V5</th><th scope=col>V6</th><th scope=col>V7</th><th scope=col>V8</th><th scope=col>V9</th><th scope=col>V10</th><th scope=col>...</th><th scope=col>V19</th><th scope=col>V20</th><th scope=col>V21</th><th scope=col>V22</th><th scope=col>V23</th><th scope=col>V24</th><th scope=col>V25</th><th scope=col>V26</th><th scope=col>V27</th><th scope=col>V28</th></tr></thead>\n",
       "<tbody>\n",
       "\t<tr><td>0  </td><td>0  </td><td>0  </td><td>0  </td><td>1  </td><td>0  </td><td>1  </td><td>0  </td><td>0  </td><td>0  </td><td>...</td><td>0  </td><td>0  </td><td>0  </td><td>0  </td><td>0  </td><td>1  </td><td>0  </td><td>1  </td><td>0  </td><td>1  </td></tr>\n",
       "\t<tr><td>1  </td><td>1  </td><td>1  </td><td>0  </td><td>1  </td><td>0  </td><td>1  </td><td>0  </td><td>0  </td><td>0  </td><td>...</td><td>0  </td><td>0  </td><td>0  </td><td>0  </td><td>0  </td><td>1  </td><td>0  </td><td>1  </td><td>0  </td><td>1  </td></tr>\n",
       "\t<tr><td>0  </td><td>0  </td><td>0  </td><td>0  </td><td>1  </td><td>0  </td><td>0  </td><td>0  </td><td>0  </td><td>0  </td><td>...</td><td>0  </td><td>0  </td><td>0  </td><td>0  </td><td>0  </td><td>0  </td><td>0  </td><td>0  </td><td>0  </td><td>0  </td></tr>\n",
       "\t<tr><td>0  </td><td>0  </td><td>0  </td><td>0  </td><td>1  </td><td>0  </td><td>1  </td><td>0  </td><td>0  </td><td>0  </td><td>...</td><td>0  </td><td>0  </td><td>0  </td><td>0  </td><td>0  </td><td>1  </td><td>0  </td><td>0  </td><td>0  </td><td>0  </td></tr>\n",
       "\t<tr><td>0  </td><td>0  </td><td>1  </td><td>1  </td><td>1  </td><td>0  </td><td>1  </td><td>0  </td><td>0  </td><td>0  </td><td>...</td><td>0  </td><td>0  </td><td>0  </td><td>0  </td><td>0  </td><td>1  </td><td>0  </td><td>1  </td><td>0  </td><td>1  </td></tr>\n",
       "\t<tr><td>0  </td><td>0  </td><td>0  </td><td>0  </td><td>0  </td><td>0  </td><td>1  </td><td>0  </td><td>0  </td><td>0  </td><td>...</td><td>0  </td><td>0  </td><td>0  </td><td>0  </td><td>0  </td><td>1  </td><td>0  </td><td>0  </td><td>0  </td><td>1  </td></tr>\n",
       "\t<tr><td>0  </td><td>0  </td><td>0  </td><td>0  </td><td>1  </td><td>0  </td><td>1  </td><td>0  </td><td>0  </td><td>0  </td><td>...</td><td>0  </td><td>0  </td><td>0  </td><td>0  </td><td>0  </td><td>0  </td><td>0  </td><td>0  </td><td>0  </td><td>1  </td></tr>\n",
       "\t<tr><td>0  </td><td>0  </td><td>1  </td><td>1  </td><td>1  </td><td>0  </td><td>1  </td><td>0  </td><td>0  </td><td>0  </td><td>...</td><td>0  </td><td>0  </td><td>0  </td><td>0  </td><td>0  </td><td>1  </td><td>0  </td><td>1  </td><td>0  </td><td>1  </td></tr>\n",
       "\t<tr><td>0  </td><td>0  </td><td>0  </td><td>0  </td><td>1  </td><td>0  </td><td>1  </td><td>0  </td><td>0  </td><td>0  </td><td>...</td><td>0  </td><td>0  </td><td>0  </td><td>0  </td><td>0  </td><td>1  </td><td>0  </td><td>1  </td><td>0  </td><td>1  </td></tr>\n",
       "\t<tr><td>0  </td><td>0  </td><td>1  </td><td>1  </td><td>1  </td><td>0  </td><td>1  </td><td>0  </td><td>0  </td><td>0  </td><td>...</td><td>0  </td><td>0  </td><td>0  </td><td>0  </td><td>0  </td><td>1  </td><td>0  </td><td>1  </td><td>0  </td><td>1  </td></tr>\n",
       "\t<tr><td>0  </td><td>0  </td><td>1  </td><td>0  </td><td>0  </td><td>0  </td><td>1  </td><td>0  </td><td>0  </td><td>0  </td><td>...</td><td>0  </td><td>0  </td><td>0  </td><td>0  </td><td>0  </td><td>1  </td><td>0  </td><td>0  </td><td>0  </td><td>1  </td></tr>\n",
       "\t<tr><td>0  </td><td>0  </td><td>0  </td><td>0  </td><td>1  </td><td>0  </td><td>1  </td><td>0  </td><td>0  </td><td>0  </td><td>...</td><td>0  </td><td>0  </td><td>0  </td><td>0  </td><td>0  </td><td>1  </td><td>0  </td><td>1  </td><td>0  </td><td>1  </td></tr>\n",
       "</tbody>\n",
       "</table>\n"
      ],
      "text/latex": [
       "\\begin{tabular}{r|llllllllllllllllllllllllllll}\n",
       " V1 & V2 & V3 & V4 & V5 & V6 & V7 & V8 & V9 & V10 & ... & V19 & V20 & V21 & V22 & V23 & V24 & V25 & V26 & V27 & V28\\\\\n",
       "\\hline\n",
       "\t 0   & 0   & 0   & 0   & 1   & 0   & 1   & 0   & 0   & 0   & ... & 0   & 0   & 0   & 0   & 0   & 1   & 0   & 1   & 0   & 1  \\\\\n",
       "\t 1   & 1   & 1   & 0   & 1   & 0   & 1   & 0   & 0   & 0   & ... & 0   & 0   & 0   & 0   & 0   & 1   & 0   & 1   & 0   & 1  \\\\\n",
       "\t 0   & 0   & 0   & 0   & 1   & 0   & 0   & 0   & 0   & 0   & ... & 0   & 0   & 0   & 0   & 0   & 0   & 0   & 0   & 0   & 0  \\\\\n",
       "\t 0   & 0   & 0   & 0   & 1   & 0   & 1   & 0   & 0   & 0   & ... & 0   & 0   & 0   & 0   & 0   & 1   & 0   & 0   & 0   & 0  \\\\\n",
       "\t 0   & 0   & 1   & 1   & 1   & 0   & 1   & 0   & 0   & 0   & ... & 0   & 0   & 0   & 0   & 0   & 1   & 0   & 1   & 0   & 1  \\\\\n",
       "\t 0   & 0   & 0   & 0   & 0   & 0   & 1   & 0   & 0   & 0   & ... & 0   & 0   & 0   & 0   & 0   & 1   & 0   & 0   & 0   & 1  \\\\\n",
       "\t 0   & 0   & 0   & 0   & 1   & 0   & 1   & 0   & 0   & 0   & ... & 0   & 0   & 0   & 0   & 0   & 0   & 0   & 0   & 0   & 1  \\\\\n",
       "\t 0   & 0   & 1   & 1   & 1   & 0   & 1   & 0   & 0   & 0   & ... & 0   & 0   & 0   & 0   & 0   & 1   & 0   & 1   & 0   & 1  \\\\\n",
       "\t 0   & 0   & 0   & 0   & 1   & 0   & 1   & 0   & 0   & 0   & ... & 0   & 0   & 0   & 0   & 0   & 1   & 0   & 1   & 0   & 1  \\\\\n",
       "\t 0   & 0   & 1   & 1   & 1   & 0   & 1   & 0   & 0   & 0   & ... & 0   & 0   & 0   & 0   & 0   & 1   & 0   & 1   & 0   & 1  \\\\\n",
       "\t 0   & 0   & 1   & 0   & 0   & 0   & 1   & 0   & 0   & 0   & ... & 0   & 0   & 0   & 0   & 0   & 1   & 0   & 0   & 0   & 1  \\\\\n",
       "\t 0   & 0   & 0   & 0   & 1   & 0   & 1   & 0   & 0   & 0   & ... & 0   & 0   & 0   & 0   & 0   & 1   & 0   & 1   & 0   & 1  \\\\\n",
       "\\end{tabular}\n"
      ],
      "text/markdown": [
       "\n",
       "| V1 | V2 | V3 | V4 | V5 | V6 | V7 | V8 | V9 | V10 | ... | V19 | V20 | V21 | V22 | V23 | V24 | V25 | V26 | V27 | V28 |\n",
       "|---|---|---|---|---|---|---|---|---|---|---|---|---|---|---|---|---|---|---|---|---|\n",
       "| 0   | 0   | 0   | 0   | 1   | 0   | 1   | 0   | 0   | 0   | ... | 0   | 0   | 0   | 0   | 0   | 1   | 0   | 1   | 0   | 1   |\n",
       "| 1   | 1   | 1   | 0   | 1   | 0   | 1   | 0   | 0   | 0   | ... | 0   | 0   | 0   | 0   | 0   | 1   | 0   | 1   | 0   | 1   |\n",
       "| 0   | 0   | 0   | 0   | 1   | 0   | 0   | 0   | 0   | 0   | ... | 0   | 0   | 0   | 0   | 0   | 0   | 0   | 0   | 0   | 0   |\n",
       "| 0   | 0   | 0   | 0   | 1   | 0   | 1   | 0   | 0   | 0   | ... | 0   | 0   | 0   | 0   | 0   | 1   | 0   | 0   | 0   | 0   |\n",
       "| 0   | 0   | 1   | 1   | 1   | 0   | 1   | 0   | 0   | 0   | ... | 0   | 0   | 0   | 0   | 0   | 1   | 0   | 1   | 0   | 1   |\n",
       "| 0   | 0   | 0   | 0   | 0   | 0   | 1   | 0   | 0   | 0   | ... | 0   | 0   | 0   | 0   | 0   | 1   | 0   | 0   | 0   | 1   |\n",
       "| 0   | 0   | 0   | 0   | 1   | 0   | 1   | 0   | 0   | 0   | ... | 0   | 0   | 0   | 0   | 0   | 0   | 0   | 0   | 0   | 1   |\n",
       "| 0   | 0   | 1   | 1   | 1   | 0   | 1   | 0   | 0   | 0   | ... | 0   | 0   | 0   | 0   | 0   | 1   | 0   | 1   | 0   | 1   |\n",
       "| 0   | 0   | 0   | 0   | 1   | 0   | 1   | 0   | 0   | 0   | ... | 0   | 0   | 0   | 0   | 0   | 1   | 0   | 1   | 0   | 1   |\n",
       "| 0   | 0   | 1   | 1   | 1   | 0   | 1   | 0   | 0   | 0   | ... | 0   | 0   | 0   | 0   | 0   | 1   | 0   | 1   | 0   | 1   |\n",
       "| 0   | 0   | 1   | 0   | 0   | 0   | 1   | 0   | 0   | 0   | ... | 0   | 0   | 0   | 0   | 0   | 1   | 0   | 0   | 0   | 1   |\n",
       "| 0   | 0   | 0   | 0   | 1   | 0   | 1   | 0   | 0   | 0   | ... | 0   | 0   | 0   | 0   | 0   | 1   | 0   | 1   | 0   | 1   |\n",
       "\n"
      ],
      "text/plain": [
       "   V1 V2 V3 V4 V5 V6 V7 V8 V9 V10 ... V19 V20 V21 V22 V23 V24 V25 V26 V27 V28\n",
       "1  0  0  0  0  1  0  1  0  0  0   ... 0   0   0   0   0   1   0   1   0   1  \n",
       "2  1  1  1  0  1  0  1  0  0  0   ... 0   0   0   0   0   1   0   1   0   1  \n",
       "3  0  0  0  0  1  0  0  0  0  0   ... 0   0   0   0   0   0   0   0   0   0  \n",
       "4  0  0  0  0  1  0  1  0  0  0   ... 0   0   0   0   0   1   0   0   0   0  \n",
       "5  0  0  1  1  1  0  1  0  0  0   ... 0   0   0   0   0   1   0   1   0   1  \n",
       "6  0  0  0  0  0  0  1  0  0  0   ... 0   0   0   0   0   1   0   0   0   1  \n",
       "7  0  0  0  0  1  0  1  0  0  0   ... 0   0   0   0   0   0   0   0   0   1  \n",
       "8  0  0  1  1  1  0  1  0  0  0   ... 0   0   0   0   0   1   0   1   0   1  \n",
       "9  0  0  0  0  1  0  1  0  0  0   ... 0   0   0   0   0   1   0   1   0   1  \n",
       "10 0  0  1  1  1  0  1  0  0  0   ... 0   0   0   0   0   1   0   1   0   1  \n",
       "11 0  0  1  0  0  0  1  0  0  0   ... 0   0   0   0   0   1   0   0   0   1  \n",
       "12 0  0  0  0  1  0  1  0  0  0   ... 0   0   0   0   0   1   0   1   0   1  "
      ]
     },
     "metadata": {},
     "output_type": "display_data"
    }
   ],
   "source": [
    "ad"
   ]
  },
  {
   "cell_type": "code",
   "execution_count": 72,
   "id": "06b31cd9",
   "metadata": {},
   "outputs": [],
   "source": [
    "ad<-tibble::as_tibble(ad)"
   ]
  },
  {
   "cell_type": "code",
   "execution_count": 73,
   "id": "c0f2c8ee",
   "metadata": {},
   "outputs": [],
   "source": [
    "colnames(ad)<-colnames(regunal2016t)"
   ]
  },
  {
   "cell_type": "code",
   "execution_count": 74,
   "id": "a39702ca",
   "metadata": {},
   "outputs": [],
   "source": [
    "colnames(ad)<-colnames(regunal2016t)"
   ]
  },
  {
   "cell_type": "code",
   "execution_count": 75,
   "id": "7fc98956",
   "metadata": {},
   "outputs": [
    {
     "data": {
      "text/html": [
       "<table>\n",
       "<thead><tr><th scope=col>AHD</th><th scope=col>FFD</th><th scope=col>FGD</th><th scope=col>MDS</th><th scope=col>MP</th><th scope=col>NEO</th><th scope=col>PAM</th><th scope=col>PAN</th><th scope=col>PCS</th><th scope=col>PDI</th><th scope=col>...</th><th scope=col>PRD</th><th scope=col>PRV</th><th scope=col>PSD</th><th scope=col>PT</th><th scope=col>PUD</th><th scope=col>RNI</th><th scope=col>SAP</th><th scope=col>UC</th><th scope=col>UMD</th><th scope=col>USFP</th></tr></thead>\n",
       "<tbody>\n",
       "\t<tr><td>0  </td><td>0  </td><td>0  </td><td>0  </td><td>1  </td><td>0  </td><td>1  </td><td>0  </td><td>0  </td><td>0  </td><td>...</td><td>0  </td><td>0  </td><td>0  </td><td>0  </td><td>0  </td><td>1  </td><td>0  </td><td>1  </td><td>0  </td><td>1  </td></tr>\n",
       "\t<tr><td>1  </td><td>1  </td><td>1  </td><td>0  </td><td>1  </td><td>0  </td><td>1  </td><td>0  </td><td>0  </td><td>0  </td><td>...</td><td>0  </td><td>0  </td><td>0  </td><td>0  </td><td>0  </td><td>1  </td><td>0  </td><td>1  </td><td>0  </td><td>1  </td></tr>\n",
       "\t<tr><td>0  </td><td>0  </td><td>0  </td><td>0  </td><td>1  </td><td>0  </td><td>0  </td><td>0  </td><td>0  </td><td>0  </td><td>...</td><td>0  </td><td>0  </td><td>0  </td><td>0  </td><td>0  </td><td>0  </td><td>0  </td><td>0  </td><td>0  </td><td>0  </td></tr>\n",
       "\t<tr><td>0  </td><td>0  </td><td>0  </td><td>0  </td><td>1  </td><td>0  </td><td>1  </td><td>0  </td><td>0  </td><td>0  </td><td>...</td><td>0  </td><td>0  </td><td>0  </td><td>0  </td><td>0  </td><td>1  </td><td>0  </td><td>0  </td><td>0  </td><td>0  </td></tr>\n",
       "\t<tr><td>0  </td><td>0  </td><td>1  </td><td>1  </td><td>1  </td><td>0  </td><td>1  </td><td>0  </td><td>0  </td><td>0  </td><td>...</td><td>0  </td><td>0  </td><td>0  </td><td>0  </td><td>0  </td><td>1  </td><td>0  </td><td>1  </td><td>0  </td><td>1  </td></tr>\n",
       "\t<tr><td>0  </td><td>0  </td><td>0  </td><td>0  </td><td>0  </td><td>0  </td><td>1  </td><td>0  </td><td>0  </td><td>0  </td><td>...</td><td>0  </td><td>0  </td><td>0  </td><td>0  </td><td>0  </td><td>1  </td><td>0  </td><td>0  </td><td>0  </td><td>1  </td></tr>\n",
       "\t<tr><td>0  </td><td>0  </td><td>0  </td><td>0  </td><td>1  </td><td>0  </td><td>1  </td><td>0  </td><td>0  </td><td>0  </td><td>...</td><td>0  </td><td>0  </td><td>0  </td><td>0  </td><td>0  </td><td>0  </td><td>0  </td><td>0  </td><td>0  </td><td>1  </td></tr>\n",
       "\t<tr><td>0  </td><td>0  </td><td>1  </td><td>1  </td><td>1  </td><td>0  </td><td>1  </td><td>0  </td><td>0  </td><td>0  </td><td>...</td><td>0  </td><td>0  </td><td>0  </td><td>0  </td><td>0  </td><td>1  </td><td>0  </td><td>1  </td><td>0  </td><td>1  </td></tr>\n",
       "\t<tr><td>0  </td><td>0  </td><td>0  </td><td>0  </td><td>1  </td><td>0  </td><td>1  </td><td>0  </td><td>0  </td><td>0  </td><td>...</td><td>0  </td><td>0  </td><td>0  </td><td>0  </td><td>0  </td><td>1  </td><td>0  </td><td>1  </td><td>0  </td><td>1  </td></tr>\n",
       "\t<tr><td>0  </td><td>0  </td><td>1  </td><td>1  </td><td>1  </td><td>0  </td><td>1  </td><td>0  </td><td>0  </td><td>0  </td><td>...</td><td>0  </td><td>0  </td><td>0  </td><td>0  </td><td>0  </td><td>1  </td><td>0  </td><td>1  </td><td>0  </td><td>1  </td></tr>\n",
       "\t<tr><td>0  </td><td>0  </td><td>1  </td><td>0  </td><td>0  </td><td>0  </td><td>1  </td><td>0  </td><td>0  </td><td>0  </td><td>...</td><td>0  </td><td>0  </td><td>0  </td><td>0  </td><td>0  </td><td>1  </td><td>0  </td><td>0  </td><td>0  </td><td>1  </td></tr>\n",
       "\t<tr><td>0  </td><td>0  </td><td>0  </td><td>0  </td><td>1  </td><td>0  </td><td>1  </td><td>0  </td><td>0  </td><td>0  </td><td>...</td><td>0  </td><td>0  </td><td>0  </td><td>0  </td><td>0  </td><td>1  </td><td>0  </td><td>1  </td><td>0  </td><td>1  </td></tr>\n",
       "</tbody>\n",
       "</table>\n"
      ],
      "text/latex": [
       "\\begin{tabular}{r|llllllllllllllllllllllllllll}\n",
       " AHD & FFD & FGD & MDS & MP & NEO & PAM & PAN & PCS & PDI & ... & PRD & PRV & PSD & PT & PUD & RNI & SAP & UC & UMD & USFP\\\\\n",
       "\\hline\n",
       "\t 0   & 0   & 0   & 0   & 1   & 0   & 1   & 0   & 0   & 0   & ... & 0   & 0   & 0   & 0   & 0   & 1   & 0   & 1   & 0   & 1  \\\\\n",
       "\t 1   & 1   & 1   & 0   & 1   & 0   & 1   & 0   & 0   & 0   & ... & 0   & 0   & 0   & 0   & 0   & 1   & 0   & 1   & 0   & 1  \\\\\n",
       "\t 0   & 0   & 0   & 0   & 1   & 0   & 0   & 0   & 0   & 0   & ... & 0   & 0   & 0   & 0   & 0   & 0   & 0   & 0   & 0   & 0  \\\\\n",
       "\t 0   & 0   & 0   & 0   & 1   & 0   & 1   & 0   & 0   & 0   & ... & 0   & 0   & 0   & 0   & 0   & 1   & 0   & 0   & 0   & 0  \\\\\n",
       "\t 0   & 0   & 1   & 1   & 1   & 0   & 1   & 0   & 0   & 0   & ... & 0   & 0   & 0   & 0   & 0   & 1   & 0   & 1   & 0   & 1  \\\\\n",
       "\t 0   & 0   & 0   & 0   & 0   & 0   & 1   & 0   & 0   & 0   & ... & 0   & 0   & 0   & 0   & 0   & 1   & 0   & 0   & 0   & 1  \\\\\n",
       "\t 0   & 0   & 0   & 0   & 1   & 0   & 1   & 0   & 0   & 0   & ... & 0   & 0   & 0   & 0   & 0   & 0   & 0   & 0   & 0   & 1  \\\\\n",
       "\t 0   & 0   & 1   & 1   & 1   & 0   & 1   & 0   & 0   & 0   & ... & 0   & 0   & 0   & 0   & 0   & 1   & 0   & 1   & 0   & 1  \\\\\n",
       "\t 0   & 0   & 0   & 0   & 1   & 0   & 1   & 0   & 0   & 0   & ... & 0   & 0   & 0   & 0   & 0   & 1   & 0   & 1   & 0   & 1  \\\\\n",
       "\t 0   & 0   & 1   & 1   & 1   & 0   & 1   & 0   & 0   & 0   & ... & 0   & 0   & 0   & 0   & 0   & 1   & 0   & 1   & 0   & 1  \\\\\n",
       "\t 0   & 0   & 1   & 0   & 0   & 0   & 1   & 0   & 0   & 0   & ... & 0   & 0   & 0   & 0   & 0   & 1   & 0   & 0   & 0   & 1  \\\\\n",
       "\t 0   & 0   & 0   & 0   & 1   & 0   & 1   & 0   & 0   & 0   & ... & 0   & 0   & 0   & 0   & 0   & 1   & 0   & 1   & 0   & 1  \\\\\n",
       "\\end{tabular}\n"
      ],
      "text/markdown": [
       "\n",
       "| AHD | FFD | FGD | MDS | MP | NEO | PAM | PAN | PCS | PDI | ... | PRD | PRV | PSD | PT | PUD | RNI | SAP | UC | UMD | USFP |\n",
       "|---|---|---|---|---|---|---|---|---|---|---|---|---|---|---|---|---|---|---|---|---|\n",
       "| 0   | 0   | 0   | 0   | 1   | 0   | 1   | 0   | 0   | 0   | ... | 0   | 0   | 0   | 0   | 0   | 1   | 0   | 1   | 0   | 1   |\n",
       "| 1   | 1   | 1   | 0   | 1   | 0   | 1   | 0   | 0   | 0   | ... | 0   | 0   | 0   | 0   | 0   | 1   | 0   | 1   | 0   | 1   |\n",
       "| 0   | 0   | 0   | 0   | 1   | 0   | 0   | 0   | 0   | 0   | ... | 0   | 0   | 0   | 0   | 0   | 0   | 0   | 0   | 0   | 0   |\n",
       "| 0   | 0   | 0   | 0   | 1   | 0   | 1   | 0   | 0   | 0   | ... | 0   | 0   | 0   | 0   | 0   | 1   | 0   | 0   | 0   | 0   |\n",
       "| 0   | 0   | 1   | 1   | 1   | 0   | 1   | 0   | 0   | 0   | ... | 0   | 0   | 0   | 0   | 0   | 1   | 0   | 1   | 0   | 1   |\n",
       "| 0   | 0   | 0   | 0   | 0   | 0   | 1   | 0   | 0   | 0   | ... | 0   | 0   | 0   | 0   | 0   | 1   | 0   | 0   | 0   | 1   |\n",
       "| 0   | 0   | 0   | 0   | 1   | 0   | 1   | 0   | 0   | 0   | ... | 0   | 0   | 0   | 0   | 0   | 0   | 0   | 0   | 0   | 1   |\n",
       "| 0   | 0   | 1   | 1   | 1   | 0   | 1   | 0   | 0   | 0   | ... | 0   | 0   | 0   | 0   | 0   | 1   | 0   | 1   | 0   | 1   |\n",
       "| 0   | 0   | 0   | 0   | 1   | 0   | 1   | 0   | 0   | 0   | ... | 0   | 0   | 0   | 0   | 0   | 1   | 0   | 1   | 0   | 1   |\n",
       "| 0   | 0   | 1   | 1   | 1   | 0   | 1   | 0   | 0   | 0   | ... | 0   | 0   | 0   | 0   | 0   | 1   | 0   | 1   | 0   | 1   |\n",
       "| 0   | 0   | 1   | 0   | 0   | 0   | 1   | 0   | 0   | 0   | ... | 0   | 0   | 0   | 0   | 0   | 1   | 0   | 0   | 0   | 1   |\n",
       "| 0   | 0   | 0   | 0   | 1   | 0   | 1   | 0   | 0   | 0   | ... | 0   | 0   | 0   | 0   | 0   | 1   | 0   | 1   | 0   | 1   |\n",
       "\n"
      ],
      "text/plain": [
       "   AHD FFD FGD MDS MP NEO PAM PAN PCS PDI ... PRD PRV PSD PT PUD RNI SAP UC UMD\n",
       "1  0   0   0   0   1  0   1   0   0   0   ... 0   0   0   0  0   1   0   1  0  \n",
       "2  1   1   1   0   1  0   1   0   0   0   ... 0   0   0   0  0   1   0   1  0  \n",
       "3  0   0   0   0   1  0   0   0   0   0   ... 0   0   0   0  0   0   0   0  0  \n",
       "4  0   0   0   0   1  0   1   0   0   0   ... 0   0   0   0  0   1   0   0  0  \n",
       "5  0   0   1   1   1  0   1   0   0   0   ... 0   0   0   0  0   1   0   1  0  \n",
       "6  0   0   0   0   0  0   1   0   0   0   ... 0   0   0   0  0   1   0   0  0  \n",
       "7  0   0   0   0   1  0   1   0   0   0   ... 0   0   0   0  0   0   0   0  0  \n",
       "8  0   0   1   1   1  0   1   0   0   0   ... 0   0   0   0  0   1   0   1  0  \n",
       "9  0   0   0   0   1  0   1   0   0   0   ... 0   0   0   0  0   1   0   1  0  \n",
       "10 0   0   1   1   1  0   1   0   0   0   ... 0   0   0   0  0   1   0   1  0  \n",
       "11 0   0   1   0   0  0   1   0   0   0   ... 0   0   0   0  0   1   0   0  0  \n",
       "12 0   0   0   0   1  0   1   0   0   0   ... 0   0   0   0  0   1   0   1  0  \n",
       "   USFP\n",
       "1  1   \n",
       "2  1   \n",
       "3  0   \n",
       "4  0   \n",
       "5  1   \n",
       "6  1   \n",
       "7  1   \n",
       "8  1   \n",
       "9  1   \n",
       "10 1   \n",
       "11 1   \n",
       "12 1   "
      ]
     },
     "metadata": {},
     "output_type": "display_data"
    }
   ],
   "source": [
    "ad"
   ]
  },
  {
   "cell_type": "code",
   "execution_count": null,
   "id": "65685484",
   "metadata": {},
   "outputs": [],
   "source": []
  },
  {
   "cell_type": "code",
   "execution_count": 89,
   "id": "0f736d55",
   "metadata": {},
   "outputs": [],
   "source": [
    "write.csv(ad, file = \"elections2016_reg\", row.names = TRUE) "
   ]
  },
  {
   "cell_type": "code",
   "execution_count": null,
   "id": "085592f8",
   "metadata": {},
   "outputs": [],
   "source": []
  },
  {
   "cell_type": "code",
   "execution_count": null,
   "id": "041b9832",
   "metadata": {},
   "outputs": [],
   "source": []
  },
  {
   "cell_type": "code",
   "execution_count": 76,
   "id": "d0d37d25",
   "metadata": {},
   "outputs": [],
   "source": [
    "jihawi2016<-colSums(ad)"
   ]
  },
  {
   "cell_type": "code",
   "execution_count": null,
   "id": "fc6eb0d0",
   "metadata": {},
   "outputs": [],
   "source": []
  },
  {
   "cell_type": "code",
   "execution_count": null,
   "id": "7583bc67",
   "metadata": {},
   "outputs": [],
   "source": [
    "colnames(elections2016_localr)<-colnames(elections2016_locall)"
   ]
  },
  {
   "cell_type": "code",
   "execution_count": null,
   "id": "96c10859",
   "metadata": {},
   "outputs": [],
   "source": []
  },
  {
   "cell_type": "code",
   "execution_count": 88,
   "id": "d982959f",
   "metadata": {},
   "outputs": [],
   "source": [
    "write.csv(elections2016_localr, file = \"elections2016_localr\", row.names = TRUE) "
   ]
  },
  {
   "cell_type": "code",
   "execution_count": 77,
   "id": "67792d42",
   "metadata": {},
   "outputs": [],
   "source": []
  },
  {
   "cell_type": "code",
   "execution_count": 78,
   "id": "6d36af77",
   "metadata": {},
   "outputs": [
    {
     "data": {
      "text/html": [
       "<table>\n",
       "<thead><tr><th scope=col>AHD</th><th scope=col>FFD</th><th scope=col>FGD</th><th scope=col>MDS</th><th scope=col>MP</th><th scope=col>NEO</th><th scope=col>PAM</th><th scope=col>PAN</th><th scope=col>PCS</th><th scope=col>PDI</th><th scope=col>...</th><th scope=col>PRD</th><th scope=col>PRV</th><th scope=col>PSD</th><th scope=col>PT</th><th scope=col>PUD</th><th scope=col>RNI</th><th scope=col>SAP</th><th scope=col>UC</th><th scope=col>UMD</th><th scope=col>USFP</th></tr></thead>\n",
       "<tbody>\n",
       "\t<tr><td>0  </td><td>0  </td><td>0  </td><td>0  </td><td>0  </td><td>0  </td><td>1  </td><td>0  </td><td>0  </td><td>0  </td><td>...</td><td>0  </td><td>0  </td><td>0  </td><td>0  </td><td>1  </td><td>0  </td><td>0  </td><td>0  </td><td>0  </td><td>0  </td></tr>\n",
       "\t<tr><td>0  </td><td>0  </td><td>0  </td><td>0  </td><td>0  </td><td>0  </td><td>1  </td><td>0  </td><td>0  </td><td>0  </td><td>...</td><td>0  </td><td>0  </td><td>0  </td><td>0  </td><td>0  </td><td>1  </td><td>0  </td><td>1  </td><td>0  </td><td>0  </td></tr>\n",
       "\t<tr><td>0  </td><td>0  </td><td>0  </td><td>0  </td><td>1  </td><td>0  </td><td>1  </td><td>0  </td><td>0  </td><td>1  </td><td>...</td><td>0  </td><td>0  </td><td>0  </td><td>0  </td><td>0  </td><td>0  </td><td>0  </td><td>0  </td><td>0  </td><td>1  </td></tr>\n",
       "\t<tr><td>0  </td><td>0  </td><td>0  </td><td>0  </td><td>1  </td><td>0  </td><td>1  </td><td>0  </td><td>0  </td><td>0  </td><td>...</td><td>0  </td><td>0  </td><td>0  </td><td>0  </td><td>0  </td><td>0  </td><td>0  </td><td>0  </td><td>0  </td><td>1  </td></tr>\n",
       "\t<tr><td>0  </td><td>0  </td><td>0  </td><td>0  </td><td>1  </td><td>0  </td><td>0  </td><td>0  </td><td>0  </td><td>0  </td><td>...</td><td>0  </td><td>0  </td><td>0  </td><td>0  </td><td>0  </td><td>0  </td><td>0  </td><td>0  </td><td>0  </td><td>1  </td></tr>\n",
       "\t<tr><td>0  </td><td>0  </td><td>0  </td><td>0  </td><td>0  </td><td>0  </td><td>1  </td><td>0  </td><td>0  </td><td>0  </td><td>...</td><td>0  </td><td>0  </td><td>0  </td><td>0  </td><td>0  </td><td>1  </td><td>0  </td><td>1  </td><td>0  </td><td>1  </td></tr>\n",
       "\t<tr><td>0  </td><td>0  </td><td>0  </td><td>0  </td><td>0  </td><td>0  </td><td>0  </td><td>0  </td><td>0  </td><td>0  </td><td>...</td><td>0  </td><td>0  </td><td>0  </td><td>0  </td><td>0  </td><td>1  </td><td>0  </td><td>0  </td><td>0  </td><td>0  </td></tr>\n",
       "\t<tr><td>0  </td><td>0  </td><td>0  </td><td>0  </td><td>0  </td><td>0  </td><td>1  </td><td>0  </td><td>0  </td><td>0  </td><td>...</td><td>0  </td><td>0  </td><td>0  </td><td>0  </td><td>0  </td><td>1  </td><td>0  </td><td>0  </td><td>0  </td><td>0  </td></tr>\n",
       "\t<tr><td>0  </td><td>0  </td><td>0  </td><td>0  </td><td>0  </td><td>0  </td><td>1  </td><td>0  </td><td>0  </td><td>0  </td><td>...</td><td>0  </td><td>0  </td><td>0  </td><td>0  </td><td>0  </td><td>1  </td><td>0  </td><td>0  </td><td>0  </td><td>0  </td></tr>\n",
       "\t<tr><td>0  </td><td>0  </td><td>0  </td><td>0  </td><td>0  </td><td>0  </td><td>1  </td><td>0  </td><td>0  </td><td>0  </td><td>...</td><td>0  </td><td>0  </td><td>0  </td><td>0  </td><td>0  </td><td>1  </td><td>0  </td><td>1  </td><td>0  </td><td>0  </td></tr>\n",
       "\t<tr><td>0  </td><td>0  </td><td>0  </td><td>0  </td><td>0  </td><td>0  </td><td>1  </td><td>0  </td><td>0  </td><td>0  </td><td>...</td><td>0  </td><td>0  </td><td>0  </td><td>0  </td><td>0  </td><td>0  </td><td>0  </td><td>0  </td><td>0  </td><td>0  </td></tr>\n",
       "\t<tr><td>0  </td><td>0  </td><td>0  </td><td>0  </td><td>0  </td><td>0  </td><td>0  </td><td>0  </td><td>0  </td><td>0  </td><td>...</td><td>0  </td><td>0  </td><td>0  </td><td>0  </td><td>0  </td><td>1  </td><td>0  </td><td>1  </td><td>0  </td><td>0  </td></tr>\n",
       "\t<tr><td>0  </td><td>0  </td><td>1  </td><td>0  </td><td>0  </td><td>0  </td><td>1  </td><td>0  </td><td>0  </td><td>0  </td><td>...</td><td>0  </td><td>0  </td><td>0  </td><td>0  </td><td>0  </td><td>0  </td><td>0  </td><td>0  </td><td>0  </td><td>0  </td></tr>\n",
       "\t<tr><td>0  </td><td>0  </td><td>0  </td><td>0  </td><td>0  </td><td>0  </td><td>1  </td><td>0  </td><td>0  </td><td>0  </td><td>...</td><td>0  </td><td>0  </td><td>0  </td><td>0  </td><td>0  </td><td>0  </td><td>0  </td><td>0  </td><td>0  </td><td>0  </td></tr>\n",
       "\t<tr><td>0  </td><td>0  </td><td>0  </td><td>0  </td><td>0  </td><td>0  </td><td>1  </td><td>0  </td><td>0  </td><td>0  </td><td>...</td><td>0  </td><td>0  </td><td>0  </td><td>0  </td><td>0  </td><td>1  </td><td>0  </td><td>0  </td><td>0  </td><td>0  </td></tr>\n",
       "\t<tr><td>0  </td><td>0  </td><td>0  </td><td>0  </td><td>0  </td><td>0  </td><td>1  </td><td>0  </td><td>0  </td><td>0  </td><td>...</td><td>0  </td><td>0  </td><td>0  </td><td>0  </td><td>0  </td><td>1  </td><td>0  </td><td>0  </td><td>0  </td><td>0  </td></tr>\n",
       "\t<tr><td>0  </td><td>0  </td><td>0  </td><td>0  </td><td>1  </td><td>0  </td><td>1  </td><td>0  </td><td>0  </td><td>0  </td><td>...</td><td>0  </td><td>0  </td><td>0  </td><td>0  </td><td>0  </td><td>0  </td><td>0  </td><td>1  </td><td>0  </td><td>1  </td></tr>\n",
       "\t<tr><td>0  </td><td>0  </td><td>0  </td><td>0  </td><td>0  </td><td>0  </td><td>1  </td><td>0  </td><td>0  </td><td>0  </td><td>...</td><td>0  </td><td>0  </td><td>0  </td><td>0  </td><td>0  </td><td>0  </td><td>0  </td><td>1  </td><td>0  </td><td>0  </td></tr>\n",
       "\t<tr><td>0  </td><td>0  </td><td>0  </td><td>0  </td><td>1  </td><td>0  </td><td>1  </td><td>0  </td><td>0  </td><td>0  </td><td>...</td><td>0  </td><td>0  </td><td>0  </td><td>0  </td><td>0  </td><td>0  </td><td>0  </td><td>0  </td><td>0  </td><td>0  </td></tr>\n",
       "\t<tr><td>0  </td><td>0  </td><td>0  </td><td>0  </td><td>0  </td><td>0  </td><td>1  </td><td>0  </td><td>0  </td><td>0  </td><td>...</td><td>0  </td><td>0  </td><td>0  </td><td>0  </td><td>0  </td><td>0  </td><td>0  </td><td>0  </td><td>0  </td><td>0  </td></tr>\n",
       "\t<tr><td>0  </td><td>0  </td><td>0  </td><td>0  </td><td>0  </td><td>0  </td><td>1  </td><td>0  </td><td>0  </td><td>0  </td><td>...</td><td>0  </td><td>0  </td><td>0  </td><td>0  </td><td>0  </td><td>0  </td><td>0  </td><td>1  </td><td>0  </td><td>1  </td></tr>\n",
       "\t<tr><td>0  </td><td>0  </td><td>0  </td><td>0  </td><td>0  </td><td>0  </td><td>1  </td><td>0  </td><td>0  </td><td>0  </td><td>...</td><td>0  </td><td>0  </td><td>0  </td><td>0  </td><td>0  </td><td>1  </td><td>0  </td><td>0  </td><td>0  </td><td>0  </td></tr>\n",
       "\t<tr><td>0  </td><td>0  </td><td>0  </td><td>0  </td><td>0  </td><td>0  </td><td>1  </td><td>0  </td><td>0  </td><td>0  </td><td>...</td><td>0  </td><td>0  </td><td>0  </td><td>0  </td><td>0  </td><td>0  </td><td>0  </td><td>0  </td><td>0  </td><td>1  </td></tr>\n",
       "\t<tr><td>0  </td><td>0  </td><td>0  </td><td>0  </td><td>1  </td><td>0  </td><td>0  </td><td>0  </td><td>0  </td><td>0  </td><td>...</td><td>0  </td><td>0  </td><td>0  </td><td>0  </td><td>0  </td><td>0  </td><td>0  </td><td>0  </td><td>0  </td><td>0  </td></tr>\n",
       "\t<tr><td>0  </td><td>0  </td><td>0  </td><td>0  </td><td>0  </td><td>0  </td><td>1  </td><td>0  </td><td>0  </td><td>0  </td><td>...</td><td>0  </td><td>0  </td><td>0  </td><td>0  </td><td>0  </td><td>1  </td><td>0  </td><td>0  </td><td>0  </td><td>0  </td></tr>\n",
       "\t<tr><td>0  </td><td>0  </td><td>0  </td><td>0  </td><td>0  </td><td>0  </td><td>1  </td><td>0  </td><td>0  </td><td>0  </td><td>...</td><td>0  </td><td>0  </td><td>0  </td><td>0  </td><td>0  </td><td>1  </td><td>0  </td><td>0  </td><td>0  </td><td>0  </td></tr>\n",
       "\t<tr><td>0  </td><td>0  </td><td>0  </td><td>0  </td><td>1  </td><td>0  </td><td>1  </td><td>0  </td><td>0  </td><td>0  </td><td>...</td><td>0  </td><td>0  </td><td>0  </td><td>0  </td><td>0  </td><td>0  </td><td>0  </td><td>0  </td><td>0  </td><td>0  </td></tr>\n",
       "\t<tr><td>0  </td><td>0  </td><td>0  </td><td>0  </td><td>0  </td><td>0  </td><td>1  </td><td>0  </td><td>0  </td><td>0  </td><td>...</td><td>0  </td><td>0  </td><td>0  </td><td>0  </td><td>0  </td><td>1  </td><td>0  </td><td>0  </td><td>0  </td><td>0  </td></tr>\n",
       "\t<tr><td>0  </td><td>0  </td><td>0  </td><td>0  </td><td>0  </td><td>0  </td><td>1  </td><td>0  </td><td>0  </td><td>0  </td><td>...</td><td>0  </td><td>0  </td><td>0  </td><td>0  </td><td>0  </td><td>1  </td><td>0  </td><td>0  </td><td>0  </td><td>0  </td></tr>\n",
       "\t<tr><td>0  </td><td>0  </td><td>0  </td><td>0  </td><td>1  </td><td>0  </td><td>1  </td><td>0  </td><td>0  </td><td>0  </td><td>...</td><td>0  </td><td>0  </td><td>0  </td><td>0  </td><td>0  </td><td>0  </td><td>0  </td><td>0  </td><td>0  </td><td>0  </td></tr>\n",
       "\t<tr><td>...</td><td>...</td><td>...</td><td>...</td><td>...</td><td>...</td><td>...</td><td>...</td><td>...</td><td>...</td><td>   </td><td>...</td><td>...</td><td>...</td><td>...</td><td>...</td><td>...</td><td>...</td><td>...</td><td>...</td><td>...</td></tr>\n",
       "\t<tr><td>0  </td><td>0  </td><td>0  </td><td>0  </td><td>0  </td><td>0  </td><td>1  </td><td>0  </td><td>0  </td><td>0  </td><td>...</td><td>0  </td><td>0  </td><td>0  </td><td>0  </td><td>0  </td><td>0  </td><td>0  </td><td>0  </td><td>0  </td><td>0  </td></tr>\n",
       "\t<tr><td>0  </td><td>0  </td><td>0  </td><td>0  </td><td>1  </td><td>0  </td><td>1  </td><td>0  </td><td>0  </td><td>0  </td><td>...</td><td>0  </td><td>0  </td><td>0  </td><td>0  </td><td>0  </td><td>1  </td><td>0  </td><td>0  </td><td>0  </td><td>0  </td></tr>\n",
       "\t<tr><td>0  </td><td>0  </td><td>1  </td><td>0  </td><td>0  </td><td>0  </td><td>1  </td><td>0  </td><td>0  </td><td>0  </td><td>...</td><td>0  </td><td>0  </td><td>0  </td><td>0  </td><td>0  </td><td>0  </td><td>0  </td><td>0  </td><td>0  </td><td>0  </td></tr>\n",
       "\t<tr><td>0  </td><td>0  </td><td>0  </td><td>0  </td><td>0  </td><td>0  </td><td>0  </td><td>0  </td><td>0  </td><td>0  </td><td>...</td><td>0  </td><td>0  </td><td>0  </td><td>0  </td><td>0  </td><td>0  </td><td>0  </td><td>1  </td><td>0  </td><td>0  </td></tr>\n",
       "\t<tr><td>0  </td><td>0  </td><td>0  </td><td>0  </td><td>0  </td><td>0  </td><td>0  </td><td>0  </td><td>0  </td><td>0  </td><td>...</td><td>0  </td><td>0  </td><td>0  </td><td>0  </td><td>0  </td><td>1  </td><td>0  </td><td>1  </td><td>0  </td><td>0  </td></tr>\n",
       "\t<tr><td>0  </td><td>0  </td><td>0  </td><td>0  </td><td>0  </td><td>0  </td><td>1  </td><td>0  </td><td>0  </td><td>0  </td><td>...</td><td>0  </td><td>0  </td><td>0  </td><td>0  </td><td>0  </td><td>1  </td><td>0  </td><td>1  </td><td>0  </td><td>0  </td></tr>\n",
       "\t<tr><td>0  </td><td>0  </td><td>0  </td><td>0  </td><td>1  </td><td>0  </td><td>1  </td><td>0  </td><td>0  </td><td>0  </td><td>...</td><td>0  </td><td>0  </td><td>0  </td><td>0  </td><td>0  </td><td>0  </td><td>0  </td><td>0  </td><td>0  </td><td>0  </td></tr>\n",
       "\t<tr><td>0  </td><td>0  </td><td>0  </td><td>1  </td><td>0  </td><td>0  </td><td>1  </td><td>0  </td><td>0  </td><td>0  </td><td>...</td><td>0  </td><td>0  </td><td>0  </td><td>0  </td><td>0  </td><td>1  </td><td>0  </td><td>0  </td><td>0  </td><td>0  </td></tr>\n",
       "\t<tr><td>0  </td><td>0  </td><td>0  </td><td>0  </td><td>0  </td><td>0  </td><td>1  </td><td>0  </td><td>0  </td><td>0  </td><td>...</td><td>0  </td><td>0  </td><td>0  </td><td>0  </td><td>0  </td><td>0  </td><td>0  </td><td>1  </td><td>0  </td><td>0  </td></tr>\n",
       "\t<tr><td>0  </td><td>0  </td><td>1  </td><td>0  </td><td>0  </td><td>0  </td><td>1  </td><td>0  </td><td>0  </td><td>0  </td><td>...</td><td>0  </td><td>0  </td><td>0  </td><td>0  </td><td>0  </td><td>1  </td><td>0  </td><td>0  </td><td>0  </td><td>0  </td></tr>\n",
       "\t<tr><td>0  </td><td>0  </td><td>0  </td><td>0  </td><td>0  </td><td>0  </td><td>1  </td><td>0  </td><td>0  </td><td>0  </td><td>...</td><td>0  </td><td>0  </td><td>0  </td><td>0  </td><td>0  </td><td>0  </td><td>0  </td><td>0  </td><td>0  </td><td>0  </td></tr>\n",
       "\t<tr><td>0  </td><td>0  </td><td>0  </td><td>0  </td><td>1  </td><td>0  </td><td>1  </td><td>0  </td><td>0  </td><td>0  </td><td>...</td><td>0  </td><td>0  </td><td>0  </td><td>0  </td><td>0  </td><td>1  </td><td>0  </td><td>0  </td><td>0  </td><td>0  </td></tr>\n",
       "\t<tr><td>0  </td><td>0  </td><td>0  </td><td>0  </td><td>0  </td><td>0  </td><td>1  </td><td>0  </td><td>0  </td><td>0  </td><td>...</td><td>0  </td><td>0  </td><td>0  </td><td>0  </td><td>0  </td><td>0  </td><td>0  </td><td>1  </td><td>0  </td><td>0  </td></tr>\n",
       "\t<tr><td>0  </td><td>0  </td><td>0  </td><td>0  </td><td>0  </td><td>0  </td><td>0  </td><td>0  </td><td>0  </td><td>0  </td><td>...</td><td>0  </td><td>0  </td><td>0  </td><td>0  </td><td>0  </td><td>0  </td><td>0  </td><td>1  </td><td>0  </td><td>1  </td></tr>\n",
       "\t<tr><td>0  </td><td>0  </td><td>0  </td><td>0  </td><td>0  </td><td>0  </td><td>1  </td><td>0  </td><td>0  </td><td>0  </td><td>...</td><td>0  </td><td>0  </td><td>0  </td><td>0  </td><td>0  </td><td>1  </td><td>0  </td><td>1  </td><td>0  </td><td>0  </td></tr>\n",
       "\t<tr><td>0  </td><td>0  </td><td>0  </td><td>0  </td><td>0  </td><td>0  </td><td>1  </td><td>0  </td><td>0  </td><td>0  </td><td>...</td><td>0  </td><td>0  </td><td>0  </td><td>0  </td><td>0  </td><td>1  </td><td>0  </td><td>0  </td><td>0  </td><td>1  </td></tr>\n",
       "\t<tr><td>0  </td><td>0  </td><td>0  </td><td>0  </td><td>0  </td><td>0  </td><td>1  </td><td>0  </td><td>0  </td><td>0  </td><td>...</td><td>0  </td><td>0  </td><td>0  </td><td>0  </td><td>0  </td><td>0  </td><td>0  </td><td>0  </td><td>0  </td><td>0  </td></tr>\n",
       "\t<tr><td>0  </td><td>0  </td><td>0  </td><td>0  </td><td>0  </td><td>0  </td><td>1  </td><td>0  </td><td>0  </td><td>0  </td><td>...</td><td>0  </td><td>0  </td><td>0  </td><td>0  </td><td>0  </td><td>0  </td><td>0  </td><td>0  </td><td>0  </td><td>0  </td></tr>\n",
       "\t<tr><td>0  </td><td>0  </td><td>0  </td><td>0  </td><td>0  </td><td>0  </td><td>1  </td><td>0  </td><td>0  </td><td>0  </td><td>...</td><td>0  </td><td>0  </td><td>0  </td><td>0  </td><td>0  </td><td>1  </td><td>0  </td><td>0  </td><td>0  </td><td>0  </td></tr>\n",
       "\t<tr><td>0  </td><td>0  </td><td>0  </td><td>0  </td><td>0  </td><td>0  </td><td>1  </td><td>0  </td><td>0  </td><td>0  </td><td>...</td><td>0  </td><td>0  </td><td>0  </td><td>0  </td><td>0  </td><td>1  </td><td>0  </td><td>0  </td><td>0  </td><td>0  </td></tr>\n",
       "\t<tr><td>0  </td><td>0  </td><td>0  </td><td>0  </td><td>0  </td><td>0  </td><td>0  </td><td>0  </td><td>0  </td><td>0  </td><td>...</td><td>0  </td><td>0  </td><td>0  </td><td>0  </td><td>0  </td><td>1  </td><td>0  </td><td>0  </td><td>0  </td><td>0  </td></tr>\n",
       "\t<tr><td>0  </td><td>0  </td><td>0  </td><td>0  </td><td>0  </td><td>0  </td><td>0  </td><td>0  </td><td>0  </td><td>0  </td><td>...</td><td>0  </td><td>0  </td><td>0  </td><td>0  </td><td>0  </td><td>1  </td><td>0  </td><td>0  </td><td>0  </td><td>0  </td></tr>\n",
       "\t<tr><td>0  </td><td>0  </td><td>0  </td><td>0  </td><td>1  </td><td>0  </td><td>1  </td><td>0  </td><td>0  </td><td>0  </td><td>...</td><td>0  </td><td>0  </td><td>0  </td><td>0  </td><td>0  </td><td>0  </td><td>0  </td><td>0  </td><td>0  </td><td>1  </td></tr>\n",
       "\t<tr><td>0  </td><td>0  </td><td>0  </td><td>0  </td><td>1  </td><td>0  </td><td>1  </td><td>0  </td><td>0  </td><td>0  </td><td>...</td><td>0  </td><td>0  </td><td>0  </td><td>0  </td><td>0  </td><td>0  </td><td>0  </td><td>1  </td><td>0  </td><td>0  </td></tr>\n",
       "\t<tr><td>0  </td><td>0  </td><td>0  </td><td>0  </td><td>0  </td><td>0  </td><td>1  </td><td>0  </td><td>0  </td><td>0  </td><td>...</td><td>0  </td><td>0  </td><td>0  </td><td>0  </td><td>0  </td><td>0  </td><td>0  </td><td>0  </td><td>0  </td><td>0  </td></tr>\n",
       "\t<tr><td>0  </td><td>0  </td><td>0  </td><td>0  </td><td>1  </td><td>0  </td><td>1  </td><td>0  </td><td>0  </td><td>0  </td><td>...</td><td>0  </td><td>0  </td><td>0  </td><td>0  </td><td>0  </td><td>0  </td><td>0  </td><td>1  </td><td>0  </td><td>0  </td></tr>\n",
       "\t<tr><td>0  </td><td>0  </td><td>0  </td><td>0  </td><td>0  </td><td>0  </td><td>0  </td><td>0  </td><td>0  </td><td>0  </td><td>...</td><td>0  </td><td>0  </td><td>0  </td><td>0  </td><td>0  </td><td>0  </td><td>0  </td><td>0  </td><td>0  </td><td>0  </td></tr>\n",
       "\t<tr><td>0  </td><td>0  </td><td>0  </td><td>0  </td><td>0  </td><td>0  </td><td>1  </td><td>0  </td><td>0  </td><td>0  </td><td>...</td><td>0  </td><td>0  </td><td>0  </td><td>0  </td><td>0  </td><td>0  </td><td>0  </td><td>0  </td><td>0  </td><td>1  </td></tr>\n",
       "\t<tr><td>0  </td><td>0  </td><td>1  </td><td>0  </td><td>0  </td><td>0  </td><td>1  </td><td>0  </td><td>0  </td><td>0  </td><td>...</td><td>0  </td><td>0  </td><td>0  </td><td>0  </td><td>0  </td><td>1  </td><td>0  </td><td>1  </td><td>0  </td><td>0  </td></tr>\n",
       "\t<tr><td>0  </td><td>0  </td><td>0  </td><td>0  </td><td>0  </td><td>0  </td><td>1  </td><td>0  </td><td>0  </td><td>0  </td><td>...</td><td>0  </td><td>0  </td><td>0  </td><td>0  </td><td>0  </td><td>1  </td><td>0  </td><td>0  </td><td>0  </td><td>1  </td></tr>\n",
       "</tbody>\n",
       "</table>\n"
      ],
      "text/latex": [
       "\\begin{tabular}{llllllllllllllllllllllllllll}\n",
       " AHD & FFD & FGD & MDS & MP & NEO & PAM & PAN & PCS & PDI & ... & PRD & PRV & PSD & PT & PUD & RNI & SAP & UC & UMD & USFP\\\\\n",
       "\\hline\n",
       "\t 0   & 0   & 0   & 0   & 0   & 0   & 1   & 0   & 0   & 0   & ... & 0   & 0   & 0   & 0   & 1   & 0   & 0   & 0   & 0   & 0  \\\\\n",
       "\t 0   & 0   & 0   & 0   & 0   & 0   & 1   & 0   & 0   & 0   & ... & 0   & 0   & 0   & 0   & 0   & 1   & 0   & 1   & 0   & 0  \\\\\n",
       "\t 0   & 0   & 0   & 0   & 1   & 0   & 1   & 0   & 0   & 1   & ... & 0   & 0   & 0   & 0   & 0   & 0   & 0   & 0   & 0   & 1  \\\\\n",
       "\t 0   & 0   & 0   & 0   & 1   & 0   & 1   & 0   & 0   & 0   & ... & 0   & 0   & 0   & 0   & 0   & 0   & 0   & 0   & 0   & 1  \\\\\n",
       "\t 0   & 0   & 0   & 0   & 1   & 0   & 0   & 0   & 0   & 0   & ... & 0   & 0   & 0   & 0   & 0   & 0   & 0   & 0   & 0   & 1  \\\\\n",
       "\t 0   & 0   & 0   & 0   & 0   & 0   & 1   & 0   & 0   & 0   & ... & 0   & 0   & 0   & 0   & 0   & 1   & 0   & 1   & 0   & 1  \\\\\n",
       "\t 0   & 0   & 0   & 0   & 0   & 0   & 0   & 0   & 0   & 0   & ... & 0   & 0   & 0   & 0   & 0   & 1   & 0   & 0   & 0   & 0  \\\\\n",
       "\t 0   & 0   & 0   & 0   & 0   & 0   & 1   & 0   & 0   & 0   & ... & 0   & 0   & 0   & 0   & 0   & 1   & 0   & 0   & 0   & 0  \\\\\n",
       "\t 0   & 0   & 0   & 0   & 0   & 0   & 1   & 0   & 0   & 0   & ... & 0   & 0   & 0   & 0   & 0   & 1   & 0   & 0   & 0   & 0  \\\\\n",
       "\t 0   & 0   & 0   & 0   & 0   & 0   & 1   & 0   & 0   & 0   & ... & 0   & 0   & 0   & 0   & 0   & 1   & 0   & 1   & 0   & 0  \\\\\n",
       "\t 0   & 0   & 0   & 0   & 0   & 0   & 1   & 0   & 0   & 0   & ... & 0   & 0   & 0   & 0   & 0   & 0   & 0   & 0   & 0   & 0  \\\\\n",
       "\t 0   & 0   & 0   & 0   & 0   & 0   & 0   & 0   & 0   & 0   & ... & 0   & 0   & 0   & 0   & 0   & 1   & 0   & 1   & 0   & 0  \\\\\n",
       "\t 0   & 0   & 1   & 0   & 0   & 0   & 1   & 0   & 0   & 0   & ... & 0   & 0   & 0   & 0   & 0   & 0   & 0   & 0   & 0   & 0  \\\\\n",
       "\t 0   & 0   & 0   & 0   & 0   & 0   & 1   & 0   & 0   & 0   & ... & 0   & 0   & 0   & 0   & 0   & 0   & 0   & 0   & 0   & 0  \\\\\n",
       "\t 0   & 0   & 0   & 0   & 0   & 0   & 1   & 0   & 0   & 0   & ... & 0   & 0   & 0   & 0   & 0   & 1   & 0   & 0   & 0   & 0  \\\\\n",
       "\t 0   & 0   & 0   & 0   & 0   & 0   & 1   & 0   & 0   & 0   & ... & 0   & 0   & 0   & 0   & 0   & 1   & 0   & 0   & 0   & 0  \\\\\n",
       "\t 0   & 0   & 0   & 0   & 1   & 0   & 1   & 0   & 0   & 0   & ... & 0   & 0   & 0   & 0   & 0   & 0   & 0   & 1   & 0   & 1  \\\\\n",
       "\t 0   & 0   & 0   & 0   & 0   & 0   & 1   & 0   & 0   & 0   & ... & 0   & 0   & 0   & 0   & 0   & 0   & 0   & 1   & 0   & 0  \\\\\n",
       "\t 0   & 0   & 0   & 0   & 1   & 0   & 1   & 0   & 0   & 0   & ... & 0   & 0   & 0   & 0   & 0   & 0   & 0   & 0   & 0   & 0  \\\\\n",
       "\t 0   & 0   & 0   & 0   & 0   & 0   & 1   & 0   & 0   & 0   & ... & 0   & 0   & 0   & 0   & 0   & 0   & 0   & 0   & 0   & 0  \\\\\n",
       "\t 0   & 0   & 0   & 0   & 0   & 0   & 1   & 0   & 0   & 0   & ... & 0   & 0   & 0   & 0   & 0   & 0   & 0   & 1   & 0   & 1  \\\\\n",
       "\t 0   & 0   & 0   & 0   & 0   & 0   & 1   & 0   & 0   & 0   & ... & 0   & 0   & 0   & 0   & 0   & 1   & 0   & 0   & 0   & 0  \\\\\n",
       "\t 0   & 0   & 0   & 0   & 0   & 0   & 1   & 0   & 0   & 0   & ... & 0   & 0   & 0   & 0   & 0   & 0   & 0   & 0   & 0   & 1  \\\\\n",
       "\t 0   & 0   & 0   & 0   & 1   & 0   & 0   & 0   & 0   & 0   & ... & 0   & 0   & 0   & 0   & 0   & 0   & 0   & 0   & 0   & 0  \\\\\n",
       "\t 0   & 0   & 0   & 0   & 0   & 0   & 1   & 0   & 0   & 0   & ... & 0   & 0   & 0   & 0   & 0   & 1   & 0   & 0   & 0   & 0  \\\\\n",
       "\t 0   & 0   & 0   & 0   & 0   & 0   & 1   & 0   & 0   & 0   & ... & 0   & 0   & 0   & 0   & 0   & 1   & 0   & 0   & 0   & 0  \\\\\n",
       "\t 0   & 0   & 0   & 0   & 1   & 0   & 1   & 0   & 0   & 0   & ... & 0   & 0   & 0   & 0   & 0   & 0   & 0   & 0   & 0   & 0  \\\\\n",
       "\t 0   & 0   & 0   & 0   & 0   & 0   & 1   & 0   & 0   & 0   & ... & 0   & 0   & 0   & 0   & 0   & 1   & 0   & 0   & 0   & 0  \\\\\n",
       "\t 0   & 0   & 0   & 0   & 0   & 0   & 1   & 0   & 0   & 0   & ... & 0   & 0   & 0   & 0   & 0   & 1   & 0   & 0   & 0   & 0  \\\\\n",
       "\t 0   & 0   & 0   & 0   & 1   & 0   & 1   & 0   & 0   & 0   & ... & 0   & 0   & 0   & 0   & 0   & 0   & 0   & 0   & 0   & 0  \\\\\n",
       "\t ... & ... & ... & ... & ... & ... & ... & ... & ... & ... &     & ... & ... & ... & ... & ... & ... & ... & ... & ... & ...\\\\\n",
       "\t 0   & 0   & 0   & 0   & 0   & 0   & 1   & 0   & 0   & 0   & ... & 0   & 0   & 0   & 0   & 0   & 0   & 0   & 0   & 0   & 0  \\\\\n",
       "\t 0   & 0   & 0   & 0   & 1   & 0   & 1   & 0   & 0   & 0   & ... & 0   & 0   & 0   & 0   & 0   & 1   & 0   & 0   & 0   & 0  \\\\\n",
       "\t 0   & 0   & 1   & 0   & 0   & 0   & 1   & 0   & 0   & 0   & ... & 0   & 0   & 0   & 0   & 0   & 0   & 0   & 0   & 0   & 0  \\\\\n",
       "\t 0   & 0   & 0   & 0   & 0   & 0   & 0   & 0   & 0   & 0   & ... & 0   & 0   & 0   & 0   & 0   & 0   & 0   & 1   & 0   & 0  \\\\\n",
       "\t 0   & 0   & 0   & 0   & 0   & 0   & 0   & 0   & 0   & 0   & ... & 0   & 0   & 0   & 0   & 0   & 1   & 0   & 1   & 0   & 0  \\\\\n",
       "\t 0   & 0   & 0   & 0   & 0   & 0   & 1   & 0   & 0   & 0   & ... & 0   & 0   & 0   & 0   & 0   & 1   & 0   & 1   & 0   & 0  \\\\\n",
       "\t 0   & 0   & 0   & 0   & 1   & 0   & 1   & 0   & 0   & 0   & ... & 0   & 0   & 0   & 0   & 0   & 0   & 0   & 0   & 0   & 0  \\\\\n",
       "\t 0   & 0   & 0   & 1   & 0   & 0   & 1   & 0   & 0   & 0   & ... & 0   & 0   & 0   & 0   & 0   & 1   & 0   & 0   & 0   & 0  \\\\\n",
       "\t 0   & 0   & 0   & 0   & 0   & 0   & 1   & 0   & 0   & 0   & ... & 0   & 0   & 0   & 0   & 0   & 0   & 0   & 1   & 0   & 0  \\\\\n",
       "\t 0   & 0   & 1   & 0   & 0   & 0   & 1   & 0   & 0   & 0   & ... & 0   & 0   & 0   & 0   & 0   & 1   & 0   & 0   & 0   & 0  \\\\\n",
       "\t 0   & 0   & 0   & 0   & 0   & 0   & 1   & 0   & 0   & 0   & ... & 0   & 0   & 0   & 0   & 0   & 0   & 0   & 0   & 0   & 0  \\\\\n",
       "\t 0   & 0   & 0   & 0   & 1   & 0   & 1   & 0   & 0   & 0   & ... & 0   & 0   & 0   & 0   & 0   & 1   & 0   & 0   & 0   & 0  \\\\\n",
       "\t 0   & 0   & 0   & 0   & 0   & 0   & 1   & 0   & 0   & 0   & ... & 0   & 0   & 0   & 0   & 0   & 0   & 0   & 1   & 0   & 0  \\\\\n",
       "\t 0   & 0   & 0   & 0   & 0   & 0   & 0   & 0   & 0   & 0   & ... & 0   & 0   & 0   & 0   & 0   & 0   & 0   & 1   & 0   & 1  \\\\\n",
       "\t 0   & 0   & 0   & 0   & 0   & 0   & 1   & 0   & 0   & 0   & ... & 0   & 0   & 0   & 0   & 0   & 1   & 0   & 1   & 0   & 0  \\\\\n",
       "\t 0   & 0   & 0   & 0   & 0   & 0   & 1   & 0   & 0   & 0   & ... & 0   & 0   & 0   & 0   & 0   & 1   & 0   & 0   & 0   & 1  \\\\\n",
       "\t 0   & 0   & 0   & 0   & 0   & 0   & 1   & 0   & 0   & 0   & ... & 0   & 0   & 0   & 0   & 0   & 0   & 0   & 0   & 0   & 0  \\\\\n",
       "\t 0   & 0   & 0   & 0   & 0   & 0   & 1   & 0   & 0   & 0   & ... & 0   & 0   & 0   & 0   & 0   & 0   & 0   & 0   & 0   & 0  \\\\\n",
       "\t 0   & 0   & 0   & 0   & 0   & 0   & 1   & 0   & 0   & 0   & ... & 0   & 0   & 0   & 0   & 0   & 1   & 0   & 0   & 0   & 0  \\\\\n",
       "\t 0   & 0   & 0   & 0   & 0   & 0   & 1   & 0   & 0   & 0   & ... & 0   & 0   & 0   & 0   & 0   & 1   & 0   & 0   & 0   & 0  \\\\\n",
       "\t 0   & 0   & 0   & 0   & 0   & 0   & 0   & 0   & 0   & 0   & ... & 0   & 0   & 0   & 0   & 0   & 1   & 0   & 0   & 0   & 0  \\\\\n",
       "\t 0   & 0   & 0   & 0   & 0   & 0   & 0   & 0   & 0   & 0   & ... & 0   & 0   & 0   & 0   & 0   & 1   & 0   & 0   & 0   & 0  \\\\\n",
       "\t 0   & 0   & 0   & 0   & 1   & 0   & 1   & 0   & 0   & 0   & ... & 0   & 0   & 0   & 0   & 0   & 0   & 0   & 0   & 0   & 1  \\\\\n",
       "\t 0   & 0   & 0   & 0   & 1   & 0   & 1   & 0   & 0   & 0   & ... & 0   & 0   & 0   & 0   & 0   & 0   & 0   & 1   & 0   & 0  \\\\\n",
       "\t 0   & 0   & 0   & 0   & 0   & 0   & 1   & 0   & 0   & 0   & ... & 0   & 0   & 0   & 0   & 0   & 0   & 0   & 0   & 0   & 0  \\\\\n",
       "\t 0   & 0   & 0   & 0   & 1   & 0   & 1   & 0   & 0   & 0   & ... & 0   & 0   & 0   & 0   & 0   & 0   & 0   & 1   & 0   & 0  \\\\\n",
       "\t 0   & 0   & 0   & 0   & 0   & 0   & 0   & 0   & 0   & 0   & ... & 0   & 0   & 0   & 0   & 0   & 0   & 0   & 0   & 0   & 0  \\\\\n",
       "\t 0   & 0   & 0   & 0   & 0   & 0   & 1   & 0   & 0   & 0   & ... & 0   & 0   & 0   & 0   & 0   & 0   & 0   & 0   & 0   & 1  \\\\\n",
       "\t 0   & 0   & 1   & 0   & 0   & 0   & 1   & 0   & 0   & 0   & ... & 0   & 0   & 0   & 0   & 0   & 1   & 0   & 1   & 0   & 0  \\\\\n",
       "\t 0   & 0   & 0   & 0   & 0   & 0   & 1   & 0   & 0   & 0   & ... & 0   & 0   & 0   & 0   & 0   & 1   & 0   & 0   & 0   & 1  \\\\\n",
       "\\end{tabular}\n"
      ],
      "text/markdown": [
       "\n",
       "| AHD | FFD | FGD | MDS | MP | NEO | PAM | PAN | PCS | PDI | ... | PRD | PRV | PSD | PT | PUD | RNI | SAP | UC | UMD | USFP |\n",
       "|---|---|---|---|---|---|---|---|---|---|---|---|---|---|---|---|---|---|---|---|---|\n",
       "| 0   | 0   | 0   | 0   | 0   | 0   | 1   | 0   | 0   | 0   | ... | 0   | 0   | 0   | 0   | 1   | 0   | 0   | 0   | 0   | 0   |\n",
       "| 0   | 0   | 0   | 0   | 0   | 0   | 1   | 0   | 0   | 0   | ... | 0   | 0   | 0   | 0   | 0   | 1   | 0   | 1   | 0   | 0   |\n",
       "| 0   | 0   | 0   | 0   | 1   | 0   | 1   | 0   | 0   | 1   | ... | 0   | 0   | 0   | 0   | 0   | 0   | 0   | 0   | 0   | 1   |\n",
       "| 0   | 0   | 0   | 0   | 1   | 0   | 1   | 0   | 0   | 0   | ... | 0   | 0   | 0   | 0   | 0   | 0   | 0   | 0   | 0   | 1   |\n",
       "| 0   | 0   | 0   | 0   | 1   | 0   | 0   | 0   | 0   | 0   | ... | 0   | 0   | 0   | 0   | 0   | 0   | 0   | 0   | 0   | 1   |\n",
       "| 0   | 0   | 0   | 0   | 0   | 0   | 1   | 0   | 0   | 0   | ... | 0   | 0   | 0   | 0   | 0   | 1   | 0   | 1   | 0   | 1   |\n",
       "| 0   | 0   | 0   | 0   | 0   | 0   | 0   | 0   | 0   | 0   | ... | 0   | 0   | 0   | 0   | 0   | 1   | 0   | 0   | 0   | 0   |\n",
       "| 0   | 0   | 0   | 0   | 0   | 0   | 1   | 0   | 0   | 0   | ... | 0   | 0   | 0   | 0   | 0   | 1   | 0   | 0   | 0   | 0   |\n",
       "| 0   | 0   | 0   | 0   | 0   | 0   | 1   | 0   | 0   | 0   | ... | 0   | 0   | 0   | 0   | 0   | 1   | 0   | 0   | 0   | 0   |\n",
       "| 0   | 0   | 0   | 0   | 0   | 0   | 1   | 0   | 0   | 0   | ... | 0   | 0   | 0   | 0   | 0   | 1   | 0   | 1   | 0   | 0   |\n",
       "| 0   | 0   | 0   | 0   | 0   | 0   | 1   | 0   | 0   | 0   | ... | 0   | 0   | 0   | 0   | 0   | 0   | 0   | 0   | 0   | 0   |\n",
       "| 0   | 0   | 0   | 0   | 0   | 0   | 0   | 0   | 0   | 0   | ... | 0   | 0   | 0   | 0   | 0   | 1   | 0   | 1   | 0   | 0   |\n",
       "| 0   | 0   | 1   | 0   | 0   | 0   | 1   | 0   | 0   | 0   | ... | 0   | 0   | 0   | 0   | 0   | 0   | 0   | 0   | 0   | 0   |\n",
       "| 0   | 0   | 0   | 0   | 0   | 0   | 1   | 0   | 0   | 0   | ... | 0   | 0   | 0   | 0   | 0   | 0   | 0   | 0   | 0   | 0   |\n",
       "| 0   | 0   | 0   | 0   | 0   | 0   | 1   | 0   | 0   | 0   | ... | 0   | 0   | 0   | 0   | 0   | 1   | 0   | 0   | 0   | 0   |\n",
       "| 0   | 0   | 0   | 0   | 0   | 0   | 1   | 0   | 0   | 0   | ... | 0   | 0   | 0   | 0   | 0   | 1   | 0   | 0   | 0   | 0   |\n",
       "| 0   | 0   | 0   | 0   | 1   | 0   | 1   | 0   | 0   | 0   | ... | 0   | 0   | 0   | 0   | 0   | 0   | 0   | 1   | 0   | 1   |\n",
       "| 0   | 0   | 0   | 0   | 0   | 0   | 1   | 0   | 0   | 0   | ... | 0   | 0   | 0   | 0   | 0   | 0   | 0   | 1   | 0   | 0   |\n",
       "| 0   | 0   | 0   | 0   | 1   | 0   | 1   | 0   | 0   | 0   | ... | 0   | 0   | 0   | 0   | 0   | 0   | 0   | 0   | 0   | 0   |\n",
       "| 0   | 0   | 0   | 0   | 0   | 0   | 1   | 0   | 0   | 0   | ... | 0   | 0   | 0   | 0   | 0   | 0   | 0   | 0   | 0   | 0   |\n",
       "| 0   | 0   | 0   | 0   | 0   | 0   | 1   | 0   | 0   | 0   | ... | 0   | 0   | 0   | 0   | 0   | 0   | 0   | 1   | 0   | 1   |\n",
       "| 0   | 0   | 0   | 0   | 0   | 0   | 1   | 0   | 0   | 0   | ... | 0   | 0   | 0   | 0   | 0   | 1   | 0   | 0   | 0   | 0   |\n",
       "| 0   | 0   | 0   | 0   | 0   | 0   | 1   | 0   | 0   | 0   | ... | 0   | 0   | 0   | 0   | 0   | 0   | 0   | 0   | 0   | 1   |\n",
       "| 0   | 0   | 0   | 0   | 1   | 0   | 0   | 0   | 0   | 0   | ... | 0   | 0   | 0   | 0   | 0   | 0   | 0   | 0   | 0   | 0   |\n",
       "| 0   | 0   | 0   | 0   | 0   | 0   | 1   | 0   | 0   | 0   | ... | 0   | 0   | 0   | 0   | 0   | 1   | 0   | 0   | 0   | 0   |\n",
       "| 0   | 0   | 0   | 0   | 0   | 0   | 1   | 0   | 0   | 0   | ... | 0   | 0   | 0   | 0   | 0   | 1   | 0   | 0   | 0   | 0   |\n",
       "| 0   | 0   | 0   | 0   | 1   | 0   | 1   | 0   | 0   | 0   | ... | 0   | 0   | 0   | 0   | 0   | 0   | 0   | 0   | 0   | 0   |\n",
       "| 0   | 0   | 0   | 0   | 0   | 0   | 1   | 0   | 0   | 0   | ... | 0   | 0   | 0   | 0   | 0   | 1   | 0   | 0   | 0   | 0   |\n",
       "| 0   | 0   | 0   | 0   | 0   | 0   | 1   | 0   | 0   | 0   | ... | 0   | 0   | 0   | 0   | 0   | 1   | 0   | 0   | 0   | 0   |\n",
       "| 0   | 0   | 0   | 0   | 1   | 0   | 1   | 0   | 0   | 0   | ... | 0   | 0   | 0   | 0   | 0   | 0   | 0   | 0   | 0   | 0   |\n",
       "| ... | ... | ... | ... | ... | ... | ... | ... | ... | ... |     | ... | ... | ... | ... | ... | ... | ... | ... | ... | ... |\n",
       "| 0   | 0   | 0   | 0   | 0   | 0   | 1   | 0   | 0   | 0   | ... | 0   | 0   | 0   | 0   | 0   | 0   | 0   | 0   | 0   | 0   |\n",
       "| 0   | 0   | 0   | 0   | 1   | 0   | 1   | 0   | 0   | 0   | ... | 0   | 0   | 0   | 0   | 0   | 1   | 0   | 0   | 0   | 0   |\n",
       "| 0   | 0   | 1   | 0   | 0   | 0   | 1   | 0   | 0   | 0   | ... | 0   | 0   | 0   | 0   | 0   | 0   | 0   | 0   | 0   | 0   |\n",
       "| 0   | 0   | 0   | 0   | 0   | 0   | 0   | 0   | 0   | 0   | ... | 0   | 0   | 0   | 0   | 0   | 0   | 0   | 1   | 0   | 0   |\n",
       "| 0   | 0   | 0   | 0   | 0   | 0   | 0   | 0   | 0   | 0   | ... | 0   | 0   | 0   | 0   | 0   | 1   | 0   | 1   | 0   | 0   |\n",
       "| 0   | 0   | 0   | 0   | 0   | 0   | 1   | 0   | 0   | 0   | ... | 0   | 0   | 0   | 0   | 0   | 1   | 0   | 1   | 0   | 0   |\n",
       "| 0   | 0   | 0   | 0   | 1   | 0   | 1   | 0   | 0   | 0   | ... | 0   | 0   | 0   | 0   | 0   | 0   | 0   | 0   | 0   | 0   |\n",
       "| 0   | 0   | 0   | 1   | 0   | 0   | 1   | 0   | 0   | 0   | ... | 0   | 0   | 0   | 0   | 0   | 1   | 0   | 0   | 0   | 0   |\n",
       "| 0   | 0   | 0   | 0   | 0   | 0   | 1   | 0   | 0   | 0   | ... | 0   | 0   | 0   | 0   | 0   | 0   | 0   | 1   | 0   | 0   |\n",
       "| 0   | 0   | 1   | 0   | 0   | 0   | 1   | 0   | 0   | 0   | ... | 0   | 0   | 0   | 0   | 0   | 1   | 0   | 0   | 0   | 0   |\n",
       "| 0   | 0   | 0   | 0   | 0   | 0   | 1   | 0   | 0   | 0   | ... | 0   | 0   | 0   | 0   | 0   | 0   | 0   | 0   | 0   | 0   |\n",
       "| 0   | 0   | 0   | 0   | 1   | 0   | 1   | 0   | 0   | 0   | ... | 0   | 0   | 0   | 0   | 0   | 1   | 0   | 0   | 0   | 0   |\n",
       "| 0   | 0   | 0   | 0   | 0   | 0   | 1   | 0   | 0   | 0   | ... | 0   | 0   | 0   | 0   | 0   | 0   | 0   | 1   | 0   | 0   |\n",
       "| 0   | 0   | 0   | 0   | 0   | 0   | 0   | 0   | 0   | 0   | ... | 0   | 0   | 0   | 0   | 0   | 0   | 0   | 1   | 0   | 1   |\n",
       "| 0   | 0   | 0   | 0   | 0   | 0   | 1   | 0   | 0   | 0   | ... | 0   | 0   | 0   | 0   | 0   | 1   | 0   | 1   | 0   | 0   |\n",
       "| 0   | 0   | 0   | 0   | 0   | 0   | 1   | 0   | 0   | 0   | ... | 0   | 0   | 0   | 0   | 0   | 1   | 0   | 0   | 0   | 1   |\n",
       "| 0   | 0   | 0   | 0   | 0   | 0   | 1   | 0   | 0   | 0   | ... | 0   | 0   | 0   | 0   | 0   | 0   | 0   | 0   | 0   | 0   |\n",
       "| 0   | 0   | 0   | 0   | 0   | 0   | 1   | 0   | 0   | 0   | ... | 0   | 0   | 0   | 0   | 0   | 0   | 0   | 0   | 0   | 0   |\n",
       "| 0   | 0   | 0   | 0   | 0   | 0   | 1   | 0   | 0   | 0   | ... | 0   | 0   | 0   | 0   | 0   | 1   | 0   | 0   | 0   | 0   |\n",
       "| 0   | 0   | 0   | 0   | 0   | 0   | 1   | 0   | 0   | 0   | ... | 0   | 0   | 0   | 0   | 0   | 1   | 0   | 0   | 0   | 0   |\n",
       "| 0   | 0   | 0   | 0   | 0   | 0   | 0   | 0   | 0   | 0   | ... | 0   | 0   | 0   | 0   | 0   | 1   | 0   | 0   | 0   | 0   |\n",
       "| 0   | 0   | 0   | 0   | 0   | 0   | 0   | 0   | 0   | 0   | ... | 0   | 0   | 0   | 0   | 0   | 1   | 0   | 0   | 0   | 0   |\n",
       "| 0   | 0   | 0   | 0   | 1   | 0   | 1   | 0   | 0   | 0   | ... | 0   | 0   | 0   | 0   | 0   | 0   | 0   | 0   | 0   | 1   |\n",
       "| 0   | 0   | 0   | 0   | 1   | 0   | 1   | 0   | 0   | 0   | ... | 0   | 0   | 0   | 0   | 0   | 0   | 0   | 1   | 0   | 0   |\n",
       "| 0   | 0   | 0   | 0   | 0   | 0   | 1   | 0   | 0   | 0   | ... | 0   | 0   | 0   | 0   | 0   | 0   | 0   | 0   | 0   | 0   |\n",
       "| 0   | 0   | 0   | 0   | 1   | 0   | 1   | 0   | 0   | 0   | ... | 0   | 0   | 0   | 0   | 0   | 0   | 0   | 1   | 0   | 0   |\n",
       "| 0   | 0   | 0   | 0   | 0   | 0   | 0   | 0   | 0   | 0   | ... | 0   | 0   | 0   | 0   | 0   | 0   | 0   | 0   | 0   | 0   |\n",
       "| 0   | 0   | 0   | 0   | 0   | 0   | 1   | 0   | 0   | 0   | ... | 0   | 0   | 0   | 0   | 0   | 0   | 0   | 0   | 0   | 1   |\n",
       "| 0   | 0   | 1   | 0   | 0   | 0   | 1   | 0   | 0   | 0   | ... | 0   | 0   | 0   | 0   | 0   | 1   | 0   | 1   | 0   | 0   |\n",
       "| 0   | 0   | 0   | 0   | 0   | 0   | 1   | 0   | 0   | 0   | ... | 0   | 0   | 0   | 0   | 0   | 1   | 0   | 0   | 0   | 1   |\n",
       "\n"
      ],
      "text/plain": [
       "      AHD FFD FGD MDS MP  NEO PAM PAN PCS PDI ... PRD PRV PSD PT  PUD RNI SAP\n",
       " [1,] 0   0   0   0   0   0   1   0   0   0   ... 0   0   0   0   1   0   0  \n",
       " [2,] 0   0   0   0   0   0   1   0   0   0   ... 0   0   0   0   0   1   0  \n",
       " [3,] 0   0   0   0   1   0   1   0   0   1   ... 0   0   0   0   0   0   0  \n",
       " [4,] 0   0   0   0   1   0   1   0   0   0   ... 0   0   0   0   0   0   0  \n",
       " [5,] 0   0   0   0   1   0   0   0   0   0   ... 0   0   0   0   0   0   0  \n",
       " [6,] 0   0   0   0   0   0   1   0   0   0   ... 0   0   0   0   0   1   0  \n",
       " [7,] 0   0   0   0   0   0   0   0   0   0   ... 0   0   0   0   0   1   0  \n",
       " [8,] 0   0   0   0   0   0   1   0   0   0   ... 0   0   0   0   0   1   0  \n",
       " [9,] 0   0   0   0   0   0   1   0   0   0   ... 0   0   0   0   0   1   0  \n",
       "[10,] 0   0   0   0   0   0   1   0   0   0   ... 0   0   0   0   0   1   0  \n",
       "[11,] 0   0   0   0   0   0   1   0   0   0   ... 0   0   0   0   0   0   0  \n",
       "[12,] 0   0   0   0   0   0   0   0   0   0   ... 0   0   0   0   0   1   0  \n",
       "[13,] 0   0   1   0   0   0   1   0   0   0   ... 0   0   0   0   0   0   0  \n",
       "[14,] 0   0   0   0   0   0   1   0   0   0   ... 0   0   0   0   0   0   0  \n",
       "[15,] 0   0   0   0   0   0   1   0   0   0   ... 0   0   0   0   0   1   0  \n",
       "[16,] 0   0   0   0   0   0   1   0   0   0   ... 0   0   0   0   0   1   0  \n",
       "[17,] 0   0   0   0   1   0   1   0   0   0   ... 0   0   0   0   0   0   0  \n",
       "[18,] 0   0   0   0   0   0   1   0   0   0   ... 0   0   0   0   0   0   0  \n",
       "[19,] 0   0   0   0   1   0   1   0   0   0   ... 0   0   0   0   0   0   0  \n",
       "[20,] 0   0   0   0   0   0   1   0   0   0   ... 0   0   0   0   0   0   0  \n",
       "[21,] 0   0   0   0   0   0   1   0   0   0   ... 0   0   0   0   0   0   0  \n",
       "[22,] 0   0   0   0   0   0   1   0   0   0   ... 0   0   0   0   0   1   0  \n",
       "[23,] 0   0   0   0   0   0   1   0   0   0   ... 0   0   0   0   0   0   0  \n",
       "[24,] 0   0   0   0   1   0   0   0   0   0   ... 0   0   0   0   0   0   0  \n",
       "[25,] 0   0   0   0   0   0   1   0   0   0   ... 0   0   0   0   0   1   0  \n",
       "[26,] 0   0   0   0   0   0   1   0   0   0   ... 0   0   0   0   0   1   0  \n",
       "[27,] 0   0   0   0   1   0   1   0   0   0   ... 0   0   0   0   0   0   0  \n",
       "[28,] 0   0   0   0   0   0   1   0   0   0   ... 0   0   0   0   0   1   0  \n",
       "[29,] 0   0   0   0   0   0   1   0   0   0   ... 0   0   0   0   0   1   0  \n",
       "[30,] 0   0   0   0   1   0   1   0   0   0   ... 0   0   0   0   0   0   0  \n",
       "[31,] ... ... ... ... ... ... ... ... ... ...     ... ... ... ... ... ... ...\n",
       "[32,] 0   0   0   0   0   0   1   0   0   0   ... 0   0   0   0   0   0   0  \n",
       "[33,] 0   0   0   0   1   0   1   0   0   0   ... 0   0   0   0   0   1   0  \n",
       "[34,] 0   0   1   0   0   0   1   0   0   0   ... 0   0   0   0   0   0   0  \n",
       "[35,] 0   0   0   0   0   0   0   0   0   0   ... 0   0   0   0   0   0   0  \n",
       "[36,] 0   0   0   0   0   0   0   0   0   0   ... 0   0   0   0   0   1   0  \n",
       "[37,] 0   0   0   0   0   0   1   0   0   0   ... 0   0   0   0   0   1   0  \n",
       "[38,] 0   0   0   0   1   0   1   0   0   0   ... 0   0   0   0   0   0   0  \n",
       "[39,] 0   0   0   1   0   0   1   0   0   0   ... 0   0   0   0   0   1   0  \n",
       "[40,] 0   0   0   0   0   0   1   0   0   0   ... 0   0   0   0   0   0   0  \n",
       "[41,] 0   0   1   0   0   0   1   0   0   0   ... 0   0   0   0   0   1   0  \n",
       "[42,] 0   0   0   0   0   0   1   0   0   0   ... 0   0   0   0   0   0   0  \n",
       "[43,] 0   0   0   0   1   0   1   0   0   0   ... 0   0   0   0   0   1   0  \n",
       "[44,] 0   0   0   0   0   0   1   0   0   0   ... 0   0   0   0   0   0   0  \n",
       "[45,] 0   0   0   0   0   0   0   0   0   0   ... 0   0   0   0   0   0   0  \n",
       "[46,] 0   0   0   0   0   0   1   0   0   0   ... 0   0   0   0   0   1   0  \n",
       "[47,] 0   0   0   0   0   0   1   0   0   0   ... 0   0   0   0   0   1   0  \n",
       "[48,] 0   0   0   0   0   0   1   0   0   0   ... 0   0   0   0   0   0   0  \n",
       "[49,] 0   0   0   0   0   0   1   0   0   0   ... 0   0   0   0   0   0   0  \n",
       "[50,] 0   0   0   0   0   0   1   0   0   0   ... 0   0   0   0   0   1   0  \n",
       "[51,] 0   0   0   0   0   0   1   0   0   0   ... 0   0   0   0   0   1   0  \n",
       "[52,] 0   0   0   0   0   0   0   0   0   0   ... 0   0   0   0   0   1   0  \n",
       "[53,] 0   0   0   0   0   0   0   0   0   0   ... 0   0   0   0   0   1   0  \n",
       "[54,] 0   0   0   0   1   0   1   0   0   0   ... 0   0   0   0   0   0   0  \n",
       "[55,] 0   0   0   0   1   0   1   0   0   0   ... 0   0   0   0   0   0   0  \n",
       "[56,] 0   0   0   0   0   0   1   0   0   0   ... 0   0   0   0   0   0   0  \n",
       "[57,] 0   0   0   0   1   0   1   0   0   0   ... 0   0   0   0   0   0   0  \n",
       "[58,] 0   0   0   0   0   0   0   0   0   0   ... 0   0   0   0   0   0   0  \n",
       "[59,] 0   0   0   0   0   0   1   0   0   0   ... 0   0   0   0   0   0   0  \n",
       "[60,] 0   0   1   0   0   0   1   0   0   0   ... 0   0   0   0   0   1   0  \n",
       "[61,] 0   0   0   0   0   0   1   0   0   0   ... 0   0   0   0   0   1   0  \n",
       "      UC  UMD USFP\n",
       " [1,] 0   0   0   \n",
       " [2,] 1   0   0   \n",
       " [3,] 0   0   1   \n",
       " [4,] 0   0   1   \n",
       " [5,] 0   0   1   \n",
       " [6,] 1   0   1   \n",
       " [7,] 0   0   0   \n",
       " [8,] 0   0   0   \n",
       " [9,] 0   0   0   \n",
       "[10,] 1   0   0   \n",
       "[11,] 0   0   0   \n",
       "[12,] 1   0   0   \n",
       "[13,] 0   0   0   \n",
       "[14,] 0   0   0   \n",
       "[15,] 0   0   0   \n",
       "[16,] 0   0   0   \n",
       "[17,] 1   0   1   \n",
       "[18,] 1   0   0   \n",
       "[19,] 0   0   0   \n",
       "[20,] 0   0   0   \n",
       "[21,] 1   0   1   \n",
       "[22,] 0   0   0   \n",
       "[23,] 0   0   1   \n",
       "[24,] 0   0   0   \n",
       "[25,] 0   0   0   \n",
       "[26,] 0   0   0   \n",
       "[27,] 0   0   0   \n",
       "[28,] 0   0   0   \n",
       "[29,] 0   0   0   \n",
       "[30,] 0   0   0   \n",
       "[31,] ... ... ... \n",
       "[32,] 0   0   0   \n",
       "[33,] 0   0   0   \n",
       "[34,] 0   0   0   \n",
       "[35,] 1   0   0   \n",
       "[36,] 1   0   0   \n",
       "[37,] 1   0   0   \n",
       "[38,] 0   0   0   \n",
       "[39,] 0   0   0   \n",
       "[40,] 1   0   0   \n",
       "[41,] 0   0   0   \n",
       "[42,] 0   0   0   \n",
       "[43,] 0   0   0   \n",
       "[44,] 1   0   0   \n",
       "[45,] 1   0   1   \n",
       "[46,] 1   0   0   \n",
       "[47,] 0   0   1   \n",
       "[48,] 0   0   0   \n",
       "[49,] 0   0   0   \n",
       "[50,] 0   0   0   \n",
       "[51,] 0   0   0   \n",
       "[52,] 0   0   0   \n",
       "[53,] 0   0   0   \n",
       "[54,] 0   0   1   \n",
       "[55,] 1   0   0   \n",
       "[56,] 0   0   0   \n",
       "[57,] 1   0   0   \n",
       "[58,] 0   0   0   \n",
       "[59,] 0   0   1   \n",
       "[60,] 1   0   0   \n",
       "[61,] 0   0   1   "
      ]
     },
     "metadata": {},
     "output_type": "display_data"
    }
   ],
   "source": [
    "elections2016_localr"
   ]
  },
  {
   "cell_type": "code",
   "execution_count": 79,
   "id": "7a444966",
   "metadata": {},
   "outputs": [],
   "source": [
    "elections2016_localr<-tibble::as_tibble(elections2016_localr)"
   ]
  },
  {
   "cell_type": "code",
   "execution_count": 240,
   "id": "0f808253",
   "metadata": {},
   "outputs": [
    {
     "data": {
      "text/plain": [
       "NULL"
      ]
     },
     "metadata": {},
     "output_type": "display_data"
    }
   ],
   "source": []
  },
  {
   "cell_type": "code",
   "execution_count": 80,
   "id": "322103e3",
   "metadata": {},
   "outputs": [
    {
     "ename": "ERROR",
     "evalue": "Error in UseMethod(\"select_\"): no applicable method for 'select_' applied to an object of class \"c('double', 'numeric')\"\n",
     "output_type": "error",
     "traceback": [
      "Error in UseMethod(\"select_\"): no applicable method for 'select_' applied to an object of class \"c('double', 'numeric')\"\nTraceback:\n",
      "1. select(df[, 1], elections2016_localr[, 1:28])",
      "2. select.default(df[, 1], elections2016_localr[, 1:28])",
      "3. select_(.data, .dots = compat_as_lazy_dots(...))"
     ]
    }
   ],
   "source": [
    "elections2016_localr-final<-select(df[,1],elections2016_localr[,1:28])"
   ]
  },
  {
   "cell_type": "code",
   "execution_count": 81,
   "id": "901701e2",
   "metadata": {},
   "outputs": [],
   "source": [
    "mhali2016<-colSums(elections2016_localr)"
   ]
  },
  {
   "cell_type": "code",
   "execution_count": 87,
   "id": "d84c00dc",
   "metadata": {},
   "outputs": [
    {
     "data": {
      "text/html": [
       "<dl class=dl-horizontal>\n",
       "\t<dt>AHD</dt>\n",
       "\t\t<dd>0</dd>\n",
       "\t<dt>FFD</dt>\n",
       "\t\t<dd>0</dd>\n",
       "\t<dt>FGD</dt>\n",
       "\t\t<dd>4</dd>\n",
       "\t<dt>MDS</dt>\n",
       "\t\t<dd>3</dd>\n",
       "\t<dt>MP</dt>\n",
       "\t\t<dd>22</dd>\n",
       "\t<dt>NEO</dt>\n",
       "\t\t<dd>0</dd>\n",
       "\t<dt>PAM</dt>\n",
       "\t\t<dd>77</dd>\n",
       "\t<dt>PAN</dt>\n",
       "\t\t<dd>0</dd>\n",
       "\t<dt>PCS</dt>\n",
       "\t\t<dd>0</dd>\n",
       "\t<dt>PDI</dt>\n",
       "\t\t<dd>1</dd>\n",
       "\t<dt>PDN</dt>\n",
       "\t\t<dd>0</dd>\n",
       "\t<dt>PE</dt>\n",
       "\t\t<dd>0</dd>\n",
       "\t<dt>PEDD</dt>\n",
       "\t\t<dd>0</dd>\n",
       "\t<dt>PGV</dt>\n",
       "\t\t<dd>1</dd>\n",
       "\t<dt>PI</dt>\n",
       "\t\t<dd>39</dd>\n",
       "\t<dt>PJD</dt>\n",
       "\t\t<dd>72</dd>\n",
       "\t<dt>PLJS</dt>\n",
       "\t\t<dd>0</dd>\n",
       "\t<dt>PPS</dt>\n",
       "\t\t<dd>11</dd>\n",
       "\t<dt>PRD</dt>\n",
       "\t\t<dd>0</dd>\n",
       "\t<dt>PRV</dt>\n",
       "\t\t<dd>0</dd>\n",
       "\t<dt>PSD</dt>\n",
       "\t\t<dd>0</dd>\n",
       "\t<dt>PT</dt>\n",
       "\t\t<dd>0</dd>\n",
       "\t<dt>PUD</dt>\n",
       "\t\t<dd>1</dd>\n",
       "\t<dt>RNI</dt>\n",
       "\t\t<dd>39</dd>\n",
       "\t<dt>SAP</dt>\n",
       "\t\t<dd>0</dd>\n",
       "\t<dt>UC</dt>\n",
       "\t\t<dd>18</dd>\n",
       "\t<dt>UMD</dt>\n",
       "\t\t<dd>0</dd>\n",
       "\t<dt>USFP</dt>\n",
       "\t\t<dd>17</dd>\n",
       "</dl>\n"
      ],
      "text/latex": [
       "\\begin{description*}\n",
       "\\item[AHD] 0\n",
       "\\item[FFD] 0\n",
       "\\item[FGD] 4\n",
       "\\item[MDS] 3\n",
       "\\item[MP] 22\n",
       "\\item[NEO] 0\n",
       "\\item[PAM] 77\n",
       "\\item[PAN] 0\n",
       "\\item[PCS] 0\n",
       "\\item[PDI] 1\n",
       "\\item[PDN] 0\n",
       "\\item[PE] 0\n",
       "\\item[PEDD] 0\n",
       "\\item[PGV] 1\n",
       "\\item[PI] 39\n",
       "\\item[PJD] 72\n",
       "\\item[PLJS] 0\n",
       "\\item[PPS] 11\n",
       "\\item[PRD] 0\n",
       "\\item[PRV] 0\n",
       "\\item[PSD] 0\n",
       "\\item[PT] 0\n",
       "\\item[PUD] 1\n",
       "\\item[RNI] 39\n",
       "\\item[SAP] 0\n",
       "\\item[UC] 18\n",
       "\\item[UMD] 0\n",
       "\\item[USFP] 17\n",
       "\\end{description*}\n"
      ],
      "text/markdown": [
       "AHD\n",
       ":   0FFD\n",
       ":   0FGD\n",
       ":   4MDS\n",
       ":   3MP\n",
       ":   22NEO\n",
       ":   0PAM\n",
       ":   77PAN\n",
       ":   0PCS\n",
       ":   0PDI\n",
       ":   1PDN\n",
       ":   0PE\n",
       ":   0PEDD\n",
       ":   0PGV\n",
       ":   1PI\n",
       ":   39PJD\n",
       ":   72PLJS\n",
       ":   0PPS\n",
       ":   11PRD\n",
       ":   0PRV\n",
       ":   0PSD\n",
       ":   0PT\n",
       ":   0PUD\n",
       ":   1RNI\n",
       ":   39SAP\n",
       ":   0UC\n",
       ":   18UMD\n",
       ":   0USFP\n",
       ":   17\n",
       "\n"
      ],
      "text/plain": [
       " AHD  FFD  FGD  MDS   MP  NEO  PAM  PAN  PCS  PDI  PDN   PE PEDD  PGV   PI  PJD \n",
       "   0    0    4    3   22    0   77    0    0    1    0    0    0    1   39   72 \n",
       "PLJS  PPS  PRD  PRV  PSD   PT  PUD  RNI  SAP   UC  UMD USFP \n",
       "   0   11    0    0    0    0    1   39    0   18    0   17 "
      ]
     },
     "metadata": {},
     "output_type": "display_data"
    }
   ],
   "source": [
    "\n",
    "(mhali2016)\n"
   ]
  },
  {
   "cell_type": "code",
   "execution_count": 86,
   "id": "da7e2a09",
   "metadata": {},
   "outputs": [
    {
     "data": {
      "text/html": [
       "<dl class=dl-horizontal>\n",
       "\t<dt>AHD</dt>\n",
       "\t\t<dd>1</dd>\n",
       "\t<dt>FFD</dt>\n",
       "\t\t<dd>1</dd>\n",
       "\t<dt>FGD</dt>\n",
       "\t\t<dd>5</dd>\n",
       "\t<dt>MDS</dt>\n",
       "\t\t<dd>3</dd>\n",
       "\t<dt>MP</dt>\n",
       "\t\t<dd>10</dd>\n",
       "\t<dt>NEO</dt>\n",
       "\t\t<dd>0</dd>\n",
       "\t<dt>PAM</dt>\n",
       "\t\t<dd>11</dd>\n",
       "\t<dt>PAN</dt>\n",
       "\t\t<dd>0</dd>\n",
       "\t<dt>PCS</dt>\n",
       "\t\t<dd>0</dd>\n",
       "\t<dt>PDI</dt>\n",
       "\t\t<dd>0</dd>\n",
       "\t<dt>PDN</dt>\n",
       "\t\t<dd>0</dd>\n",
       "\t<dt>PE</dt>\n",
       "\t\t<dd>0</dd>\n",
       "\t<dt>PEDD</dt>\n",
       "\t\t<dd>0</dd>\n",
       "\t<dt>PGV</dt>\n",
       "\t\t<dd>0</dd>\n",
       "\t<dt>PI</dt>\n",
       "\t\t<dd>12</dd>\n",
       "\t<dt>PJD</dt>\n",
       "\t\t<dd>13</dd>\n",
       "\t<dt>PLJS</dt>\n",
       "\t\t<dd>0</dd>\n",
       "\t<dt>PPS</dt>\n",
       "\t\t<dd>7</dd>\n",
       "\t<dt>PRD</dt>\n",
       "\t\t<dd>0</dd>\n",
       "\t<dt>PRV</dt>\n",
       "\t\t<dd>0</dd>\n",
       "\t<dt>PSD</dt>\n",
       "\t\t<dd>0</dd>\n",
       "\t<dt>PT</dt>\n",
       "\t\t<dd>0</dd>\n",
       "\t<dt>PUD</dt>\n",
       "\t\t<dd>0</dd>\n",
       "\t<dt>RNI</dt>\n",
       "\t\t<dd>10</dd>\n",
       "\t<dt>SAP</dt>\n",
       "\t\t<dd>0</dd>\n",
       "\t<dt>UC</dt>\n",
       "\t\t<dd>7</dd>\n",
       "\t<dt>UMD</dt>\n",
       "\t\t<dd>0</dd>\n",
       "\t<dt>USFP</dt>\n",
       "\t\t<dd>10</dd>\n",
       "</dl>\n"
      ],
      "text/latex": [
       "\\begin{description*}\n",
       "\\item[AHD] 1\n",
       "\\item[FFD] 1\n",
       "\\item[FGD] 5\n",
       "\\item[MDS] 3\n",
       "\\item[MP] 10\n",
       "\\item[NEO] 0\n",
       "\\item[PAM] 11\n",
       "\\item[PAN] 0\n",
       "\\item[PCS] 0\n",
       "\\item[PDI] 0\n",
       "\\item[PDN] 0\n",
       "\\item[PE] 0\n",
       "\\item[PEDD] 0\n",
       "\\item[PGV] 0\n",
       "\\item[PI] 12\n",
       "\\item[PJD] 13\n",
       "\\item[PLJS] 0\n",
       "\\item[PPS] 7\n",
       "\\item[PRD] 0\n",
       "\\item[PRV] 0\n",
       "\\item[PSD] 0\n",
       "\\item[PT] 0\n",
       "\\item[PUD] 0\n",
       "\\item[RNI] 10\n",
       "\\item[SAP] 0\n",
       "\\item[UC] 7\n",
       "\\item[UMD] 0\n",
       "\\item[USFP] 10\n",
       "\\end{description*}\n"
      ],
      "text/markdown": [
       "AHD\n",
       ":   1FFD\n",
       ":   1FGD\n",
       ":   5MDS\n",
       ":   3MP\n",
       ":   10NEO\n",
       ":   0PAM\n",
       ":   11PAN\n",
       ":   0PCS\n",
       ":   0PDI\n",
       ":   0PDN\n",
       ":   0PE\n",
       ":   0PEDD\n",
       ":   0PGV\n",
       ":   0PI\n",
       ":   12PJD\n",
       ":   13PLJS\n",
       ":   0PPS\n",
       ":   7PRD\n",
       ":   0PRV\n",
       ":   0PSD\n",
       ":   0PT\n",
       ":   0PUD\n",
       ":   0RNI\n",
       ":   10SAP\n",
       ":   0UC\n",
       ":   7UMD\n",
       ":   0USFP\n",
       ":   10\n",
       "\n"
      ],
      "text/plain": [
       " AHD  FFD  FGD  MDS   MP  NEO  PAM  PAN  PCS  PDI  PDN   PE PEDD  PGV   PI  PJD \n",
       "   1    1    5    3   10    0   11    0    0    0    0    0    0    0   12   13 \n",
       "PLJS  PPS  PRD  PRV  PSD   PT  PUD  RNI  SAP   UC  UMD USFP \n",
       "   0    7    0    0    0    0    0   10    0    7    0   10 "
      ]
     },
     "metadata": {},
     "output_type": "display_data"
    }
   ],
   "source": [
    "jihawi2016"
   ]
  },
  {
   "cell_type": "code",
   "execution_count": 100,
   "id": "db151d68",
   "metadata": {},
   "outputs": [],
   "source": [
    "Final_2016<-jihawi2016+mhali2016"
   ]
  },
  {
   "cell_type": "code",
   "execution_count": 215,
   "id": "557c8ff9",
   "metadata": {},
   "outputs": [
    {
     "data": {
      "text/plain": [
       "Final_2016\n",
       " 0  1  5 11 19 25 33 49 52 89 \n",
       "12  6  1  1  1  1  1  1  1  2 "
      ]
     },
     "metadata": {},
     "output_type": "display_data"
    }
   ],
   "source": [
    "table(Final_2016)"
   ]
  },
  {
   "cell_type": "code",
   "execution_count": 101,
   "id": "dc38f7c5",
   "metadata": {},
   "outputs": [
    {
     "data": {
      "text/html": [
       "395"
      ],
      "text/latex": [
       "395"
      ],
      "text/markdown": [
       "395"
      ],
      "text/plain": [
       "[1] 395"
      ]
     },
     "metadata": {},
     "output_type": "display_data"
    }
   ],
   "source": [
    "sum(Final_2016)"
   ]
  },
  {
   "cell_type": "code",
   "execution_count": 102,
   "id": "d73c5047",
   "metadata": {},
   "outputs": [
    {
     "data": {
      "text/html": [
       "<dl class=dl-horizontal>\n",
       "\t<dt>AHD</dt>\n",
       "\t\t<dd>1</dd>\n",
       "\t<dt>FFD</dt>\n",
       "\t\t<dd>1</dd>\n",
       "\t<dt>FGD</dt>\n",
       "\t\t<dd>7</dd>\n",
       "\t<dt>MDS</dt>\n",
       "\t\t<dd>4</dd>\n",
       "\t<dt>MP</dt>\n",
       "\t\t<dd>32</dd>\n",
       "\t<dt>NEO</dt>\n",
       "\t\t<dd>0</dd>\n",
       "\t<dt>PAM</dt>\n",
       "\t\t<dd>89</dd>\n",
       "\t<dt>PAN</dt>\n",
       "\t\t<dd>0</dd>\n",
       "\t<dt>PCS</dt>\n",
       "\t\t<dd>0</dd>\n",
       "\t<dt>PDI</dt>\n",
       "\t\t<dd>1</dd>\n",
       "\t<dt>PDN</dt>\n",
       "\t\t<dd>0</dd>\n",
       "\t<dt>PE</dt>\n",
       "\t\t<dd>0</dd>\n",
       "\t<dt>PEDD</dt>\n",
       "\t\t<dd>0</dd>\n",
       "\t<dt>PGV</dt>\n",
       "\t\t<dd>1</dd>\n",
       "\t<dt>PI</dt>\n",
       "\t\t<dd>51</dd>\n",
       "\t<dt>PJD</dt>\n",
       "\t\t<dd>89</dd>\n",
       "\t<dt>PLJS</dt>\n",
       "\t\t<dd>0</dd>\n",
       "\t<dt>PPS</dt>\n",
       "\t\t<dd>17</dd>\n",
       "\t<dt>PRD</dt>\n",
       "\t\t<dd>0</dd>\n",
       "\t<dt>PRV</dt>\n",
       "\t\t<dd>0</dd>\n",
       "\t<dt>PSD</dt>\n",
       "\t\t<dd>0</dd>\n",
       "\t<dt>PT</dt>\n",
       "\t\t<dd>0</dd>\n",
       "\t<dt>PUD</dt>\n",
       "\t\t<dd>1</dd>\n",
       "\t<dt>RNI</dt>\n",
       "\t\t<dd>49</dd>\n",
       "\t<dt>SAP</dt>\n",
       "\t\t<dd>0</dd>\n",
       "\t<dt>UC</dt>\n",
       "\t\t<dd>25</dd>\n",
       "\t<dt>UMD</dt>\n",
       "\t\t<dd>0</dd>\n",
       "\t<dt>USFP</dt>\n",
       "\t\t<dd>27</dd>\n",
       "</dl>\n"
      ],
      "text/latex": [
       "\\begin{description*}\n",
       "\\item[AHD] 1\n",
       "\\item[FFD] 1\n",
       "\\item[FGD] 7\n",
       "\\item[MDS] 4\n",
       "\\item[MP] 32\n",
       "\\item[NEO] 0\n",
       "\\item[PAM] 89\n",
       "\\item[PAN] 0\n",
       "\\item[PCS] 0\n",
       "\\item[PDI] 1\n",
       "\\item[PDN] 0\n",
       "\\item[PE] 0\n",
       "\\item[PEDD] 0\n",
       "\\item[PGV] 1\n",
       "\\item[PI] 51\n",
       "\\item[PJD] 89\n",
       "\\item[PLJS] 0\n",
       "\\item[PPS] 17\n",
       "\\item[PRD] 0\n",
       "\\item[PRV] 0\n",
       "\\item[PSD] 0\n",
       "\\item[PT] 0\n",
       "\\item[PUD] 1\n",
       "\\item[RNI] 49\n",
       "\\item[SAP] 0\n",
       "\\item[UC] 25\n",
       "\\item[UMD] 0\n",
       "\\item[USFP] 27\n",
       "\\end{description*}\n"
      ],
      "text/markdown": [
       "AHD\n",
       ":   1FFD\n",
       ":   1FGD\n",
       ":   7MDS\n",
       ":   4MP\n",
       ":   32NEO\n",
       ":   0PAM\n",
       ":   89PAN\n",
       ":   0PCS\n",
       ":   0PDI\n",
       ":   1PDN\n",
       ":   0PE\n",
       ":   0PEDD\n",
       ":   0PGV\n",
       ":   1PI\n",
       ":   51PJD\n",
       ":   89PLJS\n",
       ":   0PPS\n",
       ":   17PRD\n",
       ":   0PRV\n",
       ":   0PSD\n",
       ":   0PT\n",
       ":   0PUD\n",
       ":   1RNI\n",
       ":   49SAP\n",
       ":   0UC\n",
       ":   25UMD\n",
       ":   0USFP\n",
       ":   27\n",
       "\n"
      ],
      "text/plain": [
       " AHD  FFD  FGD  MDS   MP  NEO  PAM  PAN  PCS  PDI  PDN   PE PEDD  PGV   PI  PJD \n",
       "   1    1    7    4   32    0   89    0    0    1    0    0    0    1   51   89 \n",
       "PLJS  PPS  PRD  PRV  PSD   PT  PUD  RNI  SAP   UC  UMD USFP \n",
       "   0   17    0    0    0    0    1   49    0   25    0   27 "
      ]
     },
     "metadata": {},
     "output_type": "display_data"
    }
   ],
   "source": [
    "Final_2016"
   ]
  },
  {
   "cell_type": "code",
   "execution_count": 119,
   "id": "fc631063",
   "metadata": {},
   "outputs": [
    {
     "name": "stderr",
     "output_type": "stream",
     "text": [
      "Warning message in cbind(parts$left, ellip_h, parts$right, deparse.level = 0L):\n",
      "“number of rows of result is not a multiple of vector length (arg 2)”Warning message in cbind(parts$left, ellip_h, parts$right, deparse.level = 0L):\n",
      "“number of rows of result is not a multiple of vector length (arg 2)”Warning message in cbind(parts$left, ellip_h, parts$right, deparse.level = 0L):\n",
      "“number of rows of result is not a multiple of vector length (arg 2)”Warning message in cbind(parts$left, ellip_h, parts$right, deparse.level = 0L):\n",
      "“number of rows of result is not a multiple of vector length (arg 2)”"
     ]
    },
    {
     "data": {
      "text/html": [
       "<table>\n",
       "<thead><tr><th scope=col>AHD</th><th scope=col>FFD</th><th scope=col>FGD</th><th scope=col>MDS</th><th scope=col>MP</th><th scope=col>NEO</th><th scope=col>PAM</th><th scope=col>PAN</th><th scope=col>PCS</th><th scope=col>PDI</th><th scope=col>...</th><th scope=col>PRD</th><th scope=col>PRV</th><th scope=col>PSD</th><th scope=col>PT</th><th scope=col>PUD</th><th scope=col>RNI</th><th scope=col>SAP</th><th scope=col>UC</th><th scope=col>UMD</th><th scope=col>USFP</th></tr></thead>\n",
       "<tbody>\n",
       "</tbody>\n",
       "</table>\n"
      ],
      "text/latex": [
       "\\begin{tabular}{r|llllllllllllllllllllllllllll}\n",
       " AHD & FFD & FGD & MDS & MP & NEO & PAM & PAN & PCS & PDI & ... & PRD & PRV & PSD & PT & PUD & RNI & SAP & UC & UMD & USFP\\\\\n",
       "\\hline\n",
       "\\end{tabular}\n"
      ],
      "text/markdown": [
       "\n",
       "| AHD | FFD | FGD | MDS | MP | NEO | PAM | PAN | PCS | PDI | ... | PRD | PRV | PSD | PT | PUD | RNI | SAP | UC | UMD | USFP |\n",
       "|---|---|---|---|---|---|---|---|---|---|---|---|---|---|---|---|---|---|---|---|---|\n",
       "\n"
      ],
      "text/plain": [
       "     AHD FFD FGD MDS MP NEO PAM PAN PCS PDI ... PRD PRV PSD PT PUD RNI SAP UC\n",
       "     UMD USFP"
      ]
     },
     "metadata": {},
     "output_type": "display_data"
    }
   ],
   "source": [
    "filter(elections2016_localr,as.character(PJD)>1 )"
   ]
  },
  {
   "cell_type": "code",
   "execution_count": null,
   "id": "fc565015",
   "metadata": {},
   "outputs": [],
   "source": []
  }
 ],
 "metadata": {
  "kernelspec": {
   "display_name": "R",
   "language": "R",
   "name": "ir"
  },
  "language_info": {
   "codemirror_mode": "r",
   "file_extension": ".r",
   "mimetype": "text/x-r-source",
   "name": "R",
   "pygments_lexer": "r",
   "version": "3.6.1"
  }
 },
 "nbformat": 4,
 "nbformat_minor": 5
}
